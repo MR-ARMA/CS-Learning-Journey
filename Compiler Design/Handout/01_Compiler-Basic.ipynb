{
 "cells": [
  {
   "cell_type": "markdown",
   "metadata": {},
   "source": [
    "# <center> Compiler Basic"
   ]
  },
  {
   "cell_type": "markdown",
   "metadata": {},
   "source": [
    "# <center><img src=\"pictures/compiler.jpg\" width=\"300\"/>"
   ]
  },
  {
   "cell_type": "markdown",
   "metadata": {},
   "source": [
    "\n",
    "## Compiler Formalization\n",
    "\n",
    "In compiler design, it's essential to precisely describe the input (source code) and output (machine code) of a compiler.\n",
    "\n",
    "**Input:** Source code (programming language)  \n",
    "**Output:** Assembly (machine) code\n",
    "\n",
    "## Describing Programming Language Syntax\n",
    "\n",
    "Programming languages have two crucial components: syntax and semantics.\n",
    "\n",
    "### Syntax\n",
    "\n",
    "Syntax defines which strings of symbols are valid expressions in the language.\n",
    "\n",
    "\n",
    "#### Example (C++):\n",
    "```cpp\n",
    "int z = 0;  // Valid statement\n",
    "std::cout << \"z+1=\" << z++ << std::endl;  // Valid statement\n",
    "```\n",
    "\n",
    "\n",
    "### Semantics\n",
    "\n",
    "Semantics defines the meaning or behavior of valid expressions.\n",
    "\n",
    "### Describing Syntax using BNF Grammar\n",
    "\n",
    "Backus-Naur Form (BNF) is a formal notation used to describe the syntax of programming languages.\n",
    "\n",
    "#### Example BNF Grammar:\n",
    "\n",
    "```bnf\n",
    "<Statement> ::= <AssignmentSt> | <ForST> | '{' <StatementList> '}' | 𝜖\n",
    "<AssignmentSt> ::= <Id> '=' <Exper>\n",
    "<ForST> ::= 'for' <Id> '=' <Expr> 'to' <Expr> <DoPart>\n",
    "<DoPart> ::= 'do' <Statement>\n",
    "<StatementList> ::= <Statement> ';' <StatementList> | <Statement>\n",
    "```\n",
    "\n",
    "## Compilation Steps\n",
    "\n",
    "Compiling a program involves several steps, and it's crucial to understand the process.\n",
    "\n",
    "1. **Intermediate Representations (IRs):**\n",
    "   - Compiler uses different program Intermediate Representations.\n",
    "   - These IRs facilitate necessary program manipulations (analysis, optimization, code generation).\n",
    "\n",
    "#### Example Compilation Steps in C++:\n",
    "\n",
    "```cpp\n",
    "#include <iostream>\n",
    "\n",
    "int main() {\n",
    "    int z = 0;\n",
    "    std::cout << \"z+1=\" << z++ << std::endl;\n",
    "    return 0;\n",
    "}\n",
    "```\n",
    "\n"
   ]
  },
  {
   "cell_type": "markdown",
   "metadata": {},
   "source": [
    "## Compiler Phases"
   ]
  },
  {
   "cell_type": "markdown",
   "metadata": {},
   "source": [
    "# <center><img src=\"pictures/compiler-phses.JPG\" width=\"800\"/>"
   ]
  },
  {
   "cell_type": "markdown",
   "metadata": {},
   "source": []
  }
 ],
 "metadata": {
  "kernelspec": {
   "display_name": "Python 3",
   "language": "python",
   "name": "python3"
  },
  "language_info": {
   "codemirror_mode": {
    "name": "ipython",
    "version": 3
   },
   "file_extension": ".py",
   "mimetype": "text/x-python",
   "name": "python",
   "nbconvert_exporter": "python",
   "pygments_lexer": "ipython3",
   "version": "3.10.6"
  }
 },
 "nbformat": 4,
 "nbformat_minor": 2
}
