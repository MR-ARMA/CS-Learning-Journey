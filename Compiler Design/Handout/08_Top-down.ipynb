{
 "cells": [
  {
   "cell_type": "markdown",
   "metadata": {},
   "source": [
    "# Top Dawn Parsing"
   ]
  },
  {
   "cell_type": "markdown",
   "metadata": {},
   "source": [
    "# <center><img src=\"pictures/compiler.jpg\" width=\"300\"/>"
   ]
  },
  {
   "cell_type": "markdown",
   "metadata": {},
   "source": [
    "We have learnt in the last chapter that the top-down parsing technique parses the input, and starts constructing a parse tree from the root node gradually moving down to the leaf nodes. The types of top-down parsing are depicted below:"
   ]
  },
  {
   "cell_type": "markdown",
   "metadata": {},
   "source": [
    "```\n",
    "                             Top-Down\n",
    "                                |\n",
    "                        Recursive Descent\n",
    "                        |               |\n",
    "                  Back-tracking  Non back-tracking\n",
    "                                        |\n",
    "                                 Predictive Parser\n",
    "                                        |\n",
    "                                    LL Parser\n",
    "\n",
    "\n",
    "```"
   ]
  },
  {
   "cell_type": "markdown",
   "metadata": {},
   "source": [
    "### Recursive Descent Parsing"
   ]
  },
  {
   "cell_type": "markdown",
   "metadata": {},
   "source": [
    "Recursive descent is a top-down parsing technique that constructs the parse tree from the top and the input is read from left to right. It uses procedures for every terminal and non-terminal entity. This parsing technique recursively parses the input to make a parse tree, which may or may not require back-tracking. But the grammar associated with it (if not left factored) cannot avoid back-tracking. A form of recursive-descent parsing that does not require any back-tracking is known as ***predictive parsing***.\n",
    "\n",
    "This parsing technique is regarded recursive as it uses context-free grammar which is recursive in nature."
   ]
  },
  {
   "cell_type": "markdown",
   "metadata": {},
   "source": [
    "### Back-tracking\n"
   ]
  },
  {
   "cell_type": "markdown",
   "metadata": {},
   "source": [
    "Top- down parsers start from the root node (start symbol) and match the input string against the production rules to replace them (if matched). To understand this, take the following example of CFG:\n",
    "```\n",
    "S → rXd | rZd\n",
    "X → oa | ea\n",
    "Z → ai\n",
    "```\n",
    "For an input string: read, a top-down parser, will behave like this:\n",
    "\n",
    "It will start with `S` from the production rules and will match its yield to the left-most letter of the input, i.e. `r`. The very production of `S` `(S → rXd)` matches with it. So the `top-down` parser advances to the next input letter (i.e. `e`). The parser tries to expand non-terminal `X` and checks its production from the left `(X → oa)`. It does not match with the next input symbol. So the top-down parser backtracks to obtain the next production rule of `X`, `(X → ea)`.\n",
    "\n",
    "Now the parser matches all the input letters in an ordered manner. The string is accepted."
   ]
  },
  {
   "cell_type": "markdown",
   "metadata": {},
   "source": [
    "# <center><img src=\"pictures/back-tracking.JPG\" width=\"600\"/>"
   ]
  },
  {
   "cell_type": "markdown",
   "metadata": {},
   "source": [
    "### Predictive Parser"
   ]
  },
  {
   "cell_type": "markdown",
   "metadata": {},
   "source": [
    "Predictive parser is a recursive descent parser, which has the capability to predict which production is to be used to replace the input string. The predictive parser does not suffer from backtracking.\n",
    "\n",
    "To accomplish its tasks, the predictive parser uses a look-ahead pointer, which points to the next input symbols. To make the parser back-tracking free, the predictive parser puts some constraints on the grammar and accepts only a class of grammar known as LL(k) grammar.\n",
    "\n",
    "# <center><img src=\"pictures/predictive-parser1.JPG\" width=\"500\"/>\n",
    "\n",
    "Predictive parsing uses a stack and a parsing table to parse the input and generate a parse tree. Both the stack and the input contains an end symbol $ to denote that the stack is empty and the input is consumed. The parser refers to the parsing table to take any decision on the input and stack element combination.\n",
    "\n",
    "# <center><img src=\"pictures/predictive-parser2.JPG\" width=\"500\"/>\n",
    "\n",
    "In recursive descent parsing, the parser may have more than one production to choose from for a single instance of input, whereas in predictive parser, each step has at most one production to choose. There might be instances where there is no production matching the input string, making the parsing procedure to fail.\n",
    "\n",
    "### LL Parser\n",
    "\n",
    "An LL Parser accepts LL grammar. LL grammar is a subset of context-free grammar but with some restrictions to get the simplified version, in order to achieve easy implementation. LL grammar can be implemented by means of both algorithms namely, recursive-descent or table-driven.\n",
    "\n",
    "LL parser is denoted as LL(k). The first L in LL(k) is parsing the input from left to right, the second L in LL(k) stands for left-most derivation and k itself represents the number of look aheads. Generally k = 1, so LL(k) may also be written as LL(1).\n",
    "\n",
    "# <center><img src=\"pictures/ll-parser.JPG\" width=\"500\"/>\n",
    "\n",
    "### LL Parsing Algorithm\n",
    "We may stick to deterministic LL(1) for parser explanation, as the size of table grows exponentially with the value of k. Secondly, if a given grammar is not LL(1), then usually, it is not LL(k), for any given k.\n",
    "\n",
    "\n",
    "\n",
    "**A grammar G is LL(1) if A → α | β are two distinct productions of G:**\n",
    "\n",
    "> for no terminal, both α and β derive strings beginning with a.\n",
    ">\n",
    "> at most one of α and β can derive empty string.\n",
    ">\n",
    "> if β → t, then α does not derive any string beginning with a terminal in FOLLOW(A)."
   ]
  },
  {
   "cell_type": "markdown",
   "metadata": {},
   "source": [
    "### In summary"
   ]
  },
  {
   "cell_type": "markdown",
   "metadata": {},
   "source": [
    "- Top-down (goal driven)\n",
    "    - Start from the start non-terminal,\n",
    "    - Grow parse tree downwards to match the input word,\n",
    "    - Easier to understand and program manually."
   ]
  },
  {
   "cell_type": "markdown",
   "metadata": {},
   "source": [
    "#### For Example\n",
    "input: num + num\n",
    "grammar: \n",
    "    E -> E + T\n",
    "    E -> T\n",
    "    T -> num\n",
    "\n",
    "**Step 1:**\n",
    "\n",
    "| |\n",
    "|-|\n",
    "|E|\n",
    "```\n",
    "               E\n",
    "\n",
    "```\n",
    "Remaining Input: num + num\n",
    "\n",
    "\n",
    "\n",
    "**Step 2:**\n",
    "\n",
    "| |\n",
    "|-|\n",
    "|E|\n",
    "|E + T|\n",
    "```\n",
    "                E\n",
    "               /|\\\n",
    "              / | \\\n",
    "             E  |  T\n",
    "                |\n",
    "                |\n",
    "                |\n",
    "                +\n",
    "```\n",
    "Remaining Input: num + num\n",
    "\n",
    "\n",
    "\n",
    "**Step 3:**\n",
    "\n",
    "| |\n",
    "|-|\n",
    "|E|\n",
    "|E + T|\n",
    "|T + T|\n",
    "```\n",
    "                E\n",
    "               /|\\\n",
    "              / | \\\n",
    "             E  |  T\n",
    "             |  |\n",
    "             T  |\n",
    "                |\n",
    "                +\n",
    "```\n",
    "Remaining Input: num + num\n",
    "\n",
    "\n",
    "\n",
    "**Step 4:**\n",
    "\n",
    "| |\n",
    "|-|\n",
    "|E|\n",
    "|E + T|\n",
    "|T + T|\n",
    "|num + T|\n",
    "```\n",
    "                E\n",
    "               /|\\\n",
    "              / | \\\n",
    "             E  |  T\n",
    "             |  |\n",
    "             T  |\n",
    "             |  |\n",
    "            num +\n",
    "```\n",
    "Remaining Input: num + num\n",
    "\n",
    "\n",
    "\n",
    "**Step 5:**\n",
    "\n",
    "| |\n",
    "|-|\n",
    "|E|\n",
    "|E + T|\n",
    "|T + T|\n",
    "|num + T|\n",
    "```\n",
    "                E\n",
    "               /|\\\n",
    "              / | \\\n",
    "             E  |  T\n",
    "             |  |\n",
    "             T  |\n",
    "             |  |\n",
    "            num +\n",
    "```\n",
    "Remaining Input:     + num\n",
    "\n",
    "\n",
    "\n",
    "**Step 6:**\n",
    "\n",
    "| |\n",
    "|-|\n",
    "|E|\n",
    "|E + T|\n",
    "|T + T|\n",
    "|num + T|\n",
    "```\n",
    "                E\n",
    "               /|\\\n",
    "              / | \\\n",
    "             E  |  T\n",
    "             |  |  |\n",
    "             T  |  |\n",
    "             |  |  | \n",
    "            num + num\n",
    "```\n",
    "Remaining Input:       num\n",
    "\n",
    "\n",
    "\n",
    "**Step 7:**\n",
    "\n",
    "| |\n",
    "|-|\n",
    "|E|\n",
    "|E + T|\n",
    "|T + T|\n",
    "|num + T|\n",
    "```\n",
    "                E\n",
    "               /|\\\n",
    "              / | \\\n",
    "             E  |  T\n",
    "             |  |  |\n",
    "             T  |  |\n",
    "             |  |  | \n",
    "            num + num\n",
    "```\n",
    "Remaining Input: Accepted!"
   ]
  },
  {
   "cell_type": "markdown",
   "metadata": {},
   "source": [
    "> **Note:** Top-Down is easier to understand and program manually"
   ]
  },
  {
   "cell_type": "markdown",
   "metadata": {},
   "source": [
    "# <center><img src=\"pictures/top-down-pic.JPG\" width=\"400\"/>"
   ]
  },
  {
   "cell_type": "markdown",
   "metadata": {},
   "source": [
    "```\n",
    "                    ________________________1________________________\n",
    "                    |                       |                       |\n",
    "                    2                       |                       21\n",
    "                    |                       |                       |\n",
    "                ____3____                   |                   ____22____\n",
    "                |   |   |                   |                   |   |    |\n",
    "                |   |  ____7____            |                   |   |    26\n",
    "                |   | |    |    |           |                   |   |    |\n",
    "                |   | 8    |  __13__        |                   |   |    27\n",
    "                |   | |    |  |  |  |       |                   |   |    |\n",
    "                |   | 9    |  14 |  18      |                   |   |    28\n",
    "                |   | |    |  |  |  |       |                   |   |    |\n",
    "                4   | 10   |  15 |  |       |                   23  |    |\n",
    "                |   | |    |  |  |  |       |                   |   |    |\n",
    "                5   6 11   12 16 17 19      20                  24  25   29\n",
    "\n",
    "\n",
    "\n",
    "```"
   ]
  },
  {
   "cell_type": "markdown",
   "metadata": {},
   "source": []
  }
 ],
 "metadata": {
  "language_info": {
   "name": "python"
  }
 },
 "nbformat": 4,
 "nbformat_minor": 2
}
