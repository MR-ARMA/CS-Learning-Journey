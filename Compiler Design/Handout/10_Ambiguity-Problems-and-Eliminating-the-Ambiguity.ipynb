{
 "cells": [
  {
   "cell_type": "markdown",
   "metadata": {},
   "source": [
    "# Ambiguity Problems and Eliminating the Ambiguity"
   ]
  },
  {
   "cell_type": "markdown",
   "metadata": {},
   "source": [
    "# <center><img src=\"pictures/compiler.jpg\" width=\"300\"/>"
   ]
  },
  {
   "cell_type": "markdown",
   "metadata": {},
   "source": [
    "\n",
    "## Understanding Ambiguity in Compilers\n",
    "\n",
    "Ambiguity in compilers can lead to significant problems. It occurs when the meaning of a program can be incorrect due to the lack of precision in the language syntax. One classic example of such ambiguity is the \"dangling else\" problem.\n",
    "\n",
    "**Dangling Else Problem**\n",
    "\n",
    "Consider the following statement:\n",
    "\n",
    "```\n",
    "if E1 then if E2 then S1 else S2\n",
    "```\n",
    "\n",
    "Here, `E1`, `E2`, `S1`, and `S2` represent any expressions or statements. The dangling else problem arises because it's unclear to which `if` statement the `else` clause should be attached. \n",
    "\n",
    "\n",
    "\n",
    "# <center><img src=\"pictures/if-else.JPG\" width=\"500\"/>\n",
    "\n",
    "\n",
    "\n",
    "**Example**\n",
    "\n",
    "Let's consider the following values: `E1 = false`, `E2 = true`, `S1 = z := 10`, and `S2 = z := 0`.\n",
    "\n",
    "- If we parse this statement using the top tree, the `z` variable doesn't get set, which is incorrect.\n",
    "- If we parse using the bottom tree, `z = 0`, which is also incorrect.\n",
    "\n",
    "Both trees are valid parse trees for the given statement, leading to ambiguity.\n",
    "\n",
    "**Resolving Ambiguity**\n",
    "\n",
    "To resolve this ambiguity, we can use braces `{}` and indentation to clearly indicate the structure of the `if` statements. For example:\n",
    "\n",
    "```\n",
    "if E1 {\n",
    "    if E2 {\n",
    "        S1\n",
    "    } else {\n",
    "        S2\n",
    "    }\n",
    "}\n",
    "```\n",
    "\n",
    "In this case, it's clear that the `else` clause belongs to the inner `if` statement.\n",
    "\n",
    "Another solution is to use the `if-else if-else` format, which specifically indicates which `else` belongs to which `if`.\n",
    "\n",
    "**Note:** In practice, if there is no clear way to resolve the ambiguity, compilers usually associate the `else` with the nearest `if`.\n",
    "\n"
   ]
  },
  {
   "cell_type": "markdown",
   "metadata": {},
   "source": []
  }
 ],
 "metadata": {
  "language_info": {
   "name": "python"
  }
 },
 "nbformat": 4,
 "nbformat_minor": 2
}
