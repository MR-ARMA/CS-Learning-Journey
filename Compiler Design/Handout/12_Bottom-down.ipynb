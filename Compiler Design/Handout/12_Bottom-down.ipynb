{
 "cells": [
  {
   "cell_type": "markdown",
   "metadata": {},
   "source": [
    "# Bottom down Parsing"
   ]
  },
  {
   "cell_type": "markdown",
   "metadata": {},
   "source": [
    "# <center><img src=\"pictures/compiler.jpg\" width=\"300\"/>"
   ]
  },
  {
   "cell_type": "markdown",
   "metadata": {},
   "source": [
    "Bottom-up parsing starts from the leaf nodes of a tree and works in upward direction till it reaches the root node. Here, we start from a sentence and then apply production rules in reverse manner in order to reach the start symbol. The image given below depicts the bottom-up parsers available."
   ]
  },
  {
   "cell_type": "markdown",
   "metadata": {},
   "source": [
    "### Shift-Reduce Parsing"
   ]
  },
  {
   "cell_type": "markdown",
   "metadata": {},
   "source": [
    "Shift-reduce parsing uses two unique steps for bottom-up parsing. These steps are known as shift-step and reduce-step."
   ]
  },
  {
   "cell_type": "markdown",
   "metadata": {},
   "source": [
    ">- Shift step: The shift step refers to the advancement of the input pointer to the next input symbol, which is called the shifted symbol. This symbol is pushed onto the stack. The shifted symbol is treated as a single node of the parse tree.\n",
    ">\n",
    ">- Reduce step : When the parser finds a complete grammar rule (RHS) and replaces it to (LHS), it is known as reduce-step. This occurs when the top of the stack contains a handle. To reduce, a POP function is performed on the stack which pops off the handle and replaces it with LHS non-terminal symbol."
   ]
  },
  {
   "cell_type": "markdown",
   "metadata": {},
   "source": [
    "### LR Parser"
   ]
  },
  {
   "cell_type": "markdown",
   "metadata": {},
   "source": [
    "The LR parser is a non-recursive, shift-reduce, bottom-up parser. It uses a wide class of context-free grammar which makes it the most efficient syntax analysis technique. LR parsers are also known as LR(k) parsers, where L stands for left-to-right scanning of the input stream; R stands for the construction of right-most derivation in reverse, and k denotes the number of lookahead symbols to make decisions.\n",
    "\n",
    "There are three widely used algorithms available for constructing an LR parser:"
   ]
  },
  {
   "cell_type": "markdown",
   "metadata": {},
   "source": [
    "- SLR(1) – Simple LR Parser:\n",
    "    - Works on smallest class of grammar\n",
    "    - Few number of states, hence very small table\n",
    "    - Simple and fast construction\n",
    "- LR(1) – LR Parser:\n",
    "    - Works on complete set of LR(1) Grammar\n",
    "    - Generates large table and large number of states\n",
    "    - Slow construction\n",
    "- LALR(1) – Look-Ahead LR Parser:\n",
    "    - Works on intermediate size of grammar\n",
    "    - Number of states are same as in SLR(1)"
   ]
  },
  {
   "cell_type": "markdown",
   "metadata": {},
   "source": [
    "| LL | LR |\n",
    "|:---|:---|\n",
    "| Does a leftmost derivation. | Does a rightmost derivation in reverse. |\n",
    "| Starts with the root nonterminal on the stack. | Ends with the root nonterminal on the stack. |\n",
    "| Ends when the stack is empty. | Starts with an empty stack. |\n",
    "| Uses the stack for designating what is still to be expected. | Uses the stack for designating what is already seen. |\n",
    "| Builds the parse tree top-down. | Builds the parse tree bottom-up. |\n",
    "| Continuously pops a nonterminal off the stack, and pushes the corresponding right hand side. | Tries to recognize a right hand side on the stack, pops it, and pushes the corresponding nonterminal. |\n",
    "| Expands the non-terminals. | Reduces the non-terminals. |\n",
    "| Reads the terminals when it pops one off the stack. | Reads the terminals while it pushes them on the stack. |\n",
    "| Pre-order traversal of the parse tree. | Post-order traversal of the parse tree. |\n"
   ]
  },
  {
   "cell_type": "markdown",
   "metadata": {},
   "source": [
    "### in summary"
   ]
  },
  {
   "cell_type": "markdown",
   "metadata": {},
   "source": [
    "- Bottom-up (data driven)\n",
    "    - Start from the input word,\n",
    "    - Build up parse tree which has start non-terminal as root,\n",
    "    - More powerful and used by most parser generators."
   ]
  },
  {
   "cell_type": "markdown",
   "metadata": {},
   "source": [
    "#### For Example\n",
    "input: num + num\n",
    "grammar: \n",
    "    E -> E + T\n",
    "    E -> T\n",
    "    T -> num\n",
    "\n",
    "**Step 1:**\n",
    "\n",
    "| |\n",
    "|-|\n",
    "|num + num|\n",
    "```\n",
    "            num\n",
    "```\n",
    "Remaining Input: num + num\n",
    "\n",
    "\n",
    "\n",
    "**Step 2:**\n",
    "\n",
    "| |\n",
    "|-|\n",
    "|T + num|\n",
    "|num + num|\n",
    "```\n",
    "             T\n",
    "             |\n",
    "            num\n",
    "```\n",
    "Remaining Input: + num\n",
    "\n",
    "\n",
    "\n",
    "**Step 3:**\n",
    "\n",
    "| |\n",
    "|-|\n",
    "|E + num|\n",
    "|T + num|\n",
    "|num + num|\n",
    "```\n",
    "             E\n",
    "             |\n",
    "             T\n",
    "             |\n",
    "            num\n",
    "```\n",
    "Remaining Input: + num\n",
    "\n",
    "\n",
    "\n",
    "**Step 4:**\n",
    "\n",
    "| |\n",
    "|-|\n",
    "|E + T|\n",
    "|E + num|\n",
    "|T + num|\n",
    "|num + num|\n",
    "```\n",
    "             E     T\n",
    "             |     |\n",
    "             T     |\n",
    "             |     |\n",
    "            num + num\n",
    "```\n",
    "Remaining Input: \n",
    "\n",
    "\n",
    "\n",
    "**Step 5:**\n",
    "\n",
    "| |\n",
    "|-|\n",
    "|E|\n",
    "|E + T|\n",
    "|E + num|\n",
    "|T + num|\n",
    "|num + num|\n",
    "```\n",
    "                E\n",
    "              / | \\\n",
    "             E  |  T\n",
    "             |  |  |\n",
    "             T  |  |\n",
    "             |  |  |\n",
    "            num + num\n",
    "```\n",
    "Remaining Input: Accepted"
   ]
  },
  {
   "cell_type": "markdown",
   "metadata": {},
   "source": [
    "> **Note:** Bottom-Up Don't need to figure out as much of the parse tree for a given amount of input (more powerful)"
   ]
  },
  {
   "cell_type": "markdown",
   "metadata": {},
   "source": [
    "# <center><img src=\"pictures/bottom-up-pic.JPG\" width=\"400\"/>"
   ]
  },
  {
   "cell_type": "markdown",
   "metadata": {},
   "source": [
    "```\n",
    "                    ________________________29_______________________\n",
    "                    |                       |                       |\n",
    "                    18                      |                       28\n",
    "                    |                       |                       |\n",
    "                ____17____                  |                   ____27____\n",
    "                |   |     |                 |                   |   |    |\n",
    "                |   |  ____16____           |                   |   |    26\n",
    "                |   | |    |    |           |                   |   |    |\n",
    "                |   | 7    |  __15__        |                   |   |    25\n",
    "                |   | |    |  |  |  |       |                   |   |    |\n",
    "                |   | 6    |  11 |  14      |                   |   |    24\n",
    "                |   | |    |  |  |  |       |                   |   |    |\n",
    "                2   | 5    |  10 |  |       |                   21  |    |\n",
    "                |   | |    |  |  |  |       |                   |   |    |\n",
    "                1   3 4    8  9 12  13      19                  20  22   23\n",
    "\n",
    "\n",
    "\n",
    "```"
   ]
  },
  {
   "cell_type": "markdown",
   "metadata": {},
   "source": [
    "### parsing Complexity\n",
    "\n",
    "- For certain classes of constrained CFGs, we can always parse in ***linear*** time\n",
    "    - LL parsers (Use a top-down strategy)\n",
    "    - LR parsers (Use a Bottom-up strategy)\n",
    "- The first L means the parser reads input from ***L***eft to right without backing up\n",
    "\n",
    "> LL: Left-to-right scan, Leftmost dervation\n",
    "> LR: Left-to-right scan, rightmost dervation in revese\n",
    "\n",
    "- Any ambiguous CFG can neithr be LL nor LR\n",
    "- **Deterministic:** they produs a single correct parse without guessing or backtracking"
   ]
  },
  {
   "cell_type": "markdown",
   "metadata": {},
   "source": [
    "# <center><img src=\"pictures/flowchart.JPG\" width=\"600\"/>"
   ]
  },
  {
   "cell_type": "markdown",
   "metadata": {},
   "source": []
  }
 ],
 "metadata": {
  "language_info": {
   "name": "python"
  }
 },
 "nbformat": 4,
 "nbformat_minor": 2
}
