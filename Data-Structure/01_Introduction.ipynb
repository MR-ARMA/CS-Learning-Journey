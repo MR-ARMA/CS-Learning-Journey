{
 "cells": [
  {
   "cell_type": "markdown",
   "id": "d1ec784b-f59f-4d65-b4c3-081977bc0c4b",
   "metadata": {},
   "source": [
    "# <center><img src="pictures/big_O.png" width="700"/>"
   ]
  },
  {
   "cell_type": "markdown",
   "id": "f1ad4088-69d8-4ee0-a60c-0326c627090f",
   "metadata": {},
   "source": [
    "# <center>Introduction"
   ]
  },
  {
   "cell_type": "markdown",
   "id": "aee6e18f-4f91-40bf-90b4-7db9739aac91",
   "metadata": {},
   "source": [
    "The study of algorithms aims to discover efficient methods for problem-solving. This class has a twofold objective: not only to equip you with the skills to solve problems but also to teach you how to convey that a solution is both accurate and efficient.\n",
    "\n",
    "**Defining the Problem:** A problem is a binary relation connecting problem inputs to ***correct*** outputs.\n",
    "\n",
    "**Algorithm:** A deterministic algorithm is a systematic procedure that maps input values to ***single***, well-defined outputs. An algorithm is considered successful in solving a problem if it consistently produces correct outputs for all possible input scenarios. Although a problem input might have multiple valid outputs, an algorithm should return a single output for a given input, behaving like a `mathematical function`. For instance, consider the problem of identifying two students with the same birthday within your recitation group.\n"
   ]
  },
  {
   "cell_type": "markdown",
   "id": "9bac205a-71ad-4793-b6e0-c68559dfa71a",
   "metadata": {},
   "source": [
    "### Correctness:\n",
    "Any computer program you write will have finite size, while an input it acts on may be arbitrarily large. Thus, every algorithm we discuss in this class will need to repeat commands in the algorithm via loops or recursion, and we will be able to prove correctness of the algorithm via induction.\n",
    "\n",
    "***prove correctness of often Algorithms:\n",
    "- for first input check that is correct\n",
    "- assume tha for `k` element is correct\n",
    "- prove (argue) for `k + 1` element thats correct\n",
    "\n",
    "### Efficient:\n",
    "\n",
    "What makes a computer program efficient? One program is said to be more efficient than another if it can solve the same problem input using fewer resources. We expect that a larger input might take more time to solve than another input having smaller size. In addition, the resources used by a program, e.g. storage space or running time, will depend on both the algorithm used and the machine on which the algorithm is implemented. We expect that an algorithm implemented on a fast machine will run faster than the same algorithm on a slower machine, even for the same input. We would like to be able to compare algorithms, without having to worry about how fast our machine is. So in this class, we compare algorithms based on their asymptotic performance relative to problem input size, in order to ignore constant factor differences in hardware performance."
   ]
  },
  {
   "cell_type": "markdown",
   "id": "7f823eb9-1463-491d-be88-a8655f91babe",
   "metadata": {},
   "source": [
    "Asymptotic Notation:\n",
    "Asymptotic notation allows us to disregard constants that remain unchanged with variations in the size of the problem input. We represent this concept using O(f(n)), which defines the set of functions with domains over natural numbers, adhering to the following property:\n",
    "\n",
    "**O Notation:** A non-negative function, g(n), belongs to O(f(n)) if and only if there exists a positive real number, c, and a positive integer, n₀, such that g(n) ≤ c · f(n) for all n ≥ n₀. This definition imposes an upper limit on the asymptotic growth of a function for sufficiently large n. It remains true even if we were to scale or shift our function by a constant factor.\n",
    "\n",
    "Conventionally, people often say that a function g(n) is O(f(n)) or equal to O(f(n)), but what they mean is set containment, i.e., g(n) ∈ O(f(n)). Since our problem's input size can be expressed as cn for some constant c, we can simplify and state that the input size is O(n) (order n). A similar notation applies to lower bounds.\n",
    "\n",
    "**Ω Notation:** For a non-negative function, g(n), it is in Ω(f(n)) if and only if there exists a positive real number, c, and a positive integer, n₀, such that c · f(n) ≤ g(n) for all n ≥ n₀.\n",
    "\n",
    "When one function both serves as an upper asymptotic bound and a lower asymptotic bound for another function, we employ Θ notation. If g(n) = Θ(f(n)), it signifies that f(n) precisely characterizes the growth of g(n).\n",
    "\n",
    "**Θ Notation:** A non-negative g(n) is in Θ(f(n)) if and only if g(n) ∈ O(f(n)) ∩ Ω(f(n)).\n",
    "\n",
    "To simplify the characterization of the asymptotic growth (i.e., asymptotic complexity) of common functions, we often use shorthand. This is illustrated in the table below, with the assumption that c ∈ Θ(1):\n",
    "\n",
    "| Function       | Asymptotic Notation |\n",
    "|----------------|----------------------|\n",
    "| Constant       | O(1)                 |\n",
    "| Logarithmic    | O(log n)             |\n",
    "| Linear         | O(n)                 |\n",
    "| Linearithmic   | O(n log n)           |\n",
    "| Quadratic      | O(n^2)               |\n",
    "| Cubic          | O(n^3)               |\n",
    "| Exponential    | O(2^n)               |\n",
    "\n",
    "This notation helps us analyze and compare the efficiency and growth rates of algorithms, abstracting away constant factors and hardware-dependent details."
   ]
  },
  {
   "cell_type": "markdown",
   "id": "b097a5da-db0d-4b87-b656-7d6b041e519a",
   "metadata": {},
   "source": [
    "# <center><img src=\pictures/big_O.png\" width=\"300\"/>"
   ]
  },
  {
   "cell_type": "markdown",
   "id": "587f6a87-24c3-43d5-83e7-bc0e974ea472",
   "metadata": {},
   "source": [
    "----------------------------------------------------------------------------------------\n",
    "### Word RAM Model (Model Of Computation)\n",
    "***RAM*** (***R***andom ***A***ccess ***M***emory) means Randomly Access to Memory in constant time.\n",
    "\n",
    "***memory*** is just string of bits, its just a banch of 0's and 1's\n",
    "\n",
    "# <center><img src=\"pictures/RAM_Memory.JPG\" width=\"300\"/>"
   ]
  },
  {
   "cell_type": "markdown",
   "id": "36f1b788-bf2c-4877-bdc0-9ba127ca7008",
   "metadata": {},
   "source": [
    "- basicly CPU can hold small chunk of information, but change that information\n",
    "- CPU can operate on that information and also has instruction to randomly access different places in memory bring it into the CPU act on it and read it back\n",
    "- in general we dont have address for every 8_bits (1_byte) in memory\n",
    "- CPU can take chunk of information from memory that the chunk can much as 1_word (32_bit or 64_bit\n",
    "- Specification for what operations on the machine can be performed in O(1) time \n",
    "- Model in this class is called the Word-RAM \n",
    "- Machine word: block of w bits (w is word size of a w-bit Word-RAM) \n",
    "- Memory: Addressable sequence of machine words \n"
   ]
  },
  {
   "cell_type": "markdown",
   "id": "77da78da-899c-4501-a7a4-a178eecf041d",
   "metadata": {},
   "source": [
    "### problem statement:\n",
    "\n",
    "if I have 32_bit word_RAM, how many different address can I addressing?\n",
    "\n",
    "***Answer:***\n",
    "$$ 2^{32} bit \\approx 4GB $$\n",
    "\n",
    "if I have 64_bit word_RAM, how many different address can I addressing?\n",
    "\n",
    "***Answer:***\n",
    "$$ 2^{64} bit \\approx 20exabyte $$"
   ]
  },
  {
   "cell_type": "markdown",
   "id": "6fa1ef90-01e0-47e9-a2b0-f1202342859b",
   "metadata": {},
   "source": [
    "---------------------------------------------------------------------------------------\n",
    "---------------------------------------------------------------------------------------"
   ]
  },
  {
   "cell_type": "markdown",
   "id": "46673676-e904-46b6-8cd9-73bd8c4dc908",
   "metadata": {},
   "source": [
    "## Interface VS Data Structure\n",
    "\n",
    "|Interface (API/ADT)            | Data structure                |\n",
    "|-------------------------------|-------------------------------|\n",
    "|what you want to do?           |how you do?                    |\n",
    "|specification                  | representation                |\n",
    "|what data can store?           |how to store Data?             |\n",
    "|what opprations are suported?  |Algorithm to suport operations |\n",
    "|problems                       | solutions                     |"
   ]
  },
  {
   "cell_type": "markdown",
   "id": "06b832d9-b65d-40a0-90bb-df63e2606dd1",
   "metadata": {},
   "source": [
    "---------------------------------------------------------------------------------------"
   ]
  },
  {
   "cell_type": "markdown",
   "id": "d25ffe80-ea47-4bcb-9953-ed8d2db2a0f0",
   "metadata": {},
   "source": [
    "## Exersice"
   ]
  },
  {
   "cell_type": "markdown",
   "id": "13e77032-e5a6-4721-8ca0-c99e4bc87a6f",
   "metadata": {},
   "source": [
    "Show that $$(log n)^a = O(n^b) $$ for all positive constants a and b. \n",
    "\n",
    "**Solution:** \n",
    " It’s enough to show $$ \\frac {n^b}{(\\log n)^a} $$ limits to ∞ as n → ∞, and this is equivalent to \n",
    "arguing that the log of this expression approaches ∞: \n",
    "$$\n",
    "\\[\n",
    "\\lim_{{n \\to \\infty}} \\frac {n^b}{(\\log b^n)^a} = \\lim_{{n \\to \\infty}} (b \\log n - a \\log \\log n) = \\lim_{{x \\to \\infty}} (bx - a \\log x) = \\infty\n",
    "\\]\n",
    "$$\n",
    "as desired. \n",
    "a Note: for the same reasons, $$ n = O(c^n) $$ for any c > 1."
   ]
  }
 ],
 "metadata": {
  "kernelspec": {
   "display_name": "Python 3 (ipykernel)",
   "language": "python",
   "name": "python3"
  },
  "language_info": {
   "codemirror_mode": {
    "name": "ipython",
    "version": 3
   },
   "file_extension": ".py",
   "mimetype": "text/x-python",
   "name": "python",
   "nbconvert_exporter": "python",
   "pygments_lexer": "ipython3",
   "version": "3.11.4"
  }
 },
 "nbformat": 4,
 "nbformat_minor": 5
}
