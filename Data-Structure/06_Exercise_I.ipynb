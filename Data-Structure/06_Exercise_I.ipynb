{
 "cells": [
  {
   "cell_type": "markdown",
   "id": "55a6573b-c6c0-4f4a-a005-d3f6ad65c02a",
   "metadata": {},
   "source": [
    "# <center> <div style=\"width: 370px;\"> ![Exercise](pictures/Exercise.jpg)"
   ]
  },
  {
   "cell_type": "markdown",
   "id": "0a3a1397-05a9-4a5a-bc59-4592176f906b",
   "metadata": {},
   "source": [
    "# <center> Exercise"
   ]
  },
  {
   "cell_type": "markdown",
   "id": "6c32692e-c5fa-416c-b9cd-7c889ef1186b",
   "metadata": {},
   "source": [
    "### 1.Code Challenge I"
   ]
  },
  {
   "cell_type": "markdown",
   "id": "5b8f5dce-8e7d-4fbf-9fd6-c782c8e9f754",
   "metadata": {},
   "source": [
    "Implement counting sort in Python to sort a list of integers with keys in the range 0 to k."
   ]
  },
  {
   "cell_type": "markdown",
   "id": "56a408ad-85cd-41d0-adb2-9f7f139d1cee",
   "metadata": {},
   "source": [
    "#### solution"
   ]
  },
  {
   "cell_type": "markdown",
   "id": "d5e4675e-8ea4-482e-8d59-af8b346f3cc2",
   "metadata": {},
   "source": [
    "---\n",
    "```python\n",
    "def counting_sort(arr, k):\n",
    "    # Create a count array to store the frequency of each element\n",
    "    count = [0] * (k + 1)\n",
    "\n",
    "    # Count the occurrences of each element in the input array\n",
    "    for num in arr:\n",
    "        count[num] += 1\n",
    "\n",
    "    # Reconstruct the sorted array\n",
    "    sorted_arr = []\n",
    "    for i in range(k + 1):\n",
    "        sorted_arr.extend([i] * count[i])\n",
    "\n",
    "    return sorted_arr\n",
    "\n",
    "# Example usage:\n",
    "arr = [4, 2, 2, 8, 3, 3, 1]\n",
    "k = 8\n",
    "sorted_arr = counting_sort(arr, k)\n",
    "print(sorted_arr)\n",
    "```\n",
    "---"
   ]
  },
  {
   "cell_type": "markdown",
   "id": "7bf8b830-3fc4-47a0-a126-db5405c8ecff",
   "metadata": {},
   "source": [
    "### 2.Code Challenge II"
   ]
  },
  {
   "cell_type": "markdown",
   "id": "7580dc04-717a-44da-8b3c-0108feef7e1a",
   "metadata": {},
   "source": [
    "Implement a stable counting sort in C++ using an array of vectors as \"chains\" to handle duplicate keys."
   ]
  },
  {
   "cell_type": "markdown",
   "id": "abf1e025-d726-4cf9-940e-faad5895a4d5",
   "metadata": {},
   "source": [
    "#### Solution"
   ]
  },
  {
   "cell_type": "markdown",
   "id": "c251f283-38b7-427b-ab25-f5ceb097058c",
   "metadata": {},
   "source": [
    "---\n",
    "```cpp\n",
    "#include <iostream>\n",
    "#include <vector>\n",
    "\n",
    "using namespace std;\n",
    "\n",
    "void stable_counting_sort(vector<int>& arr, int k) {\n",
    "    vector<vector<int>> count(k + 1);\n",
    "\n",
    "    // Count the occurrences of each element in the input array\n",
    "    for (int num : arr) {\n",
    "        count[num].push_back(num);\n",
    "    }\n",
    "\n",
    "    // Reconstruct the sorted array\n",
    "    int index = 0;\n",
    "    for (int i = 0; i <= k; ++i) {\n",
    "        for (int j = 0; j < count[i].size(); ++j) {\n",
    "            arr[index++] = count[i][j];\n",
    "        }\n",
    "    }\n",
    "}\n",
    "\n",
    "int main() {\n",
    "    vector<int> arr = {4, 2, 2, 8, 3, 3, 1};\n",
    "    int k = 8;\n",
    "    \n",
    "    stable_counting_sort(arr, k);\n",
    "    \n",
    "    for (int num : arr) {\n",
    "        cout << num << \" \";\n",
    "    }\n",
    "    \n",
    "    return 0;\n",
    "}\n",
    "\n",
    "```\n",
    "---"
   ]
  },
  {
   "cell_type": "markdown",
   "id": "8bc7cdad-7457-4f4d-ae9a-5dcd3c78a951",
   "metadata": {},
   "source": [
    "### 3.Question I"
   ]
  },
  {
   "cell_type": "markdown",
   "id": "438c53f2-1630-4652-bee8-d7a42df7fc18",
   "metadata": {},
   "source": [
    "What is the time complexity of radix sort and what conditions need to be met for it to achieve linear runtime? How does it compare asymptotically to comparison-based sorting algorithms like merge sort?"
   ]
  },
  {
   "cell_type": "markdown",
   "id": "db214134-d9ff-42c8-afa0-2563a76984a8",
   "metadata": {},
   "source": [
    "#### Solution"
   ]
  },
  {
   "cell_type": "markdown",
   "id": "3152bd20-931b-4a77-8bbc-5e4b52fd83cc",
   "metadata": {},
   "source": [
    "***Radix Sort Time Complexity and Conditions for Linear Runtime:***\n",
    "\n",
    "- The time complexity of radix sort is `O(n * k)`, where n is the number of elements to be sorted, and `k` is the number of digits in the maximum element.\n",
    "- Radix sort can achieve linear runtime when the number of digits `k` is a constant, i.e., independent of the number of elements n. This means that the range of possible key values should not grow with the input size. In other words, `k` should be a constant or bounded by a small value.\n",
    "- Asymptotically, radix sort can be more efficient than comparison-based sorting algorithms like merge sort, which have a worst-case time complexity of `O(n log n)`. When k is relatively small, radix sort can be faster. However, radix sort has a larger constant factor and may be less efficient for small input sizes."
   ]
  },
  {
   "cell_type": "markdown",
   "id": "d7037b3b-7ee2-4bf5-af86-8927f0f50330",
   "metadata": {},
   "source": [
    "### 4.Question II"
   ]
  },
  {
   "cell_type": "markdown",
   "id": "72e78ab6-24d5-464b-96ed-38756305030d",
   "metadata": {},
   "source": [
    "Explain the difference between a stable and unstable sorting algorithm. Give an example of each. Why might stability be an important property for a sorting algorithm?"
   ]
  },
  {
   "cell_type": "markdown",
   "id": "fc6a392d-428f-4cc9-a3c4-0a9a801c317d",
   "metadata": {},
   "source": [
    "#### Solution"
   ]
  },
  {
   "cell_type": "markdown",
   "id": "bbfacbe4-5137-4601-9094-ae26f2cc490c",
   "metadata": {},
   "source": [
    "***Stable vs. Unstable Sorting Algorithm:***\n",
    "\n",
    "- A stable sorting algorithm preserves the relative order of equal elements in the sorted output. In other words, if you have two elements with the same key value, the one that appeared earlier in the original input will also appear earlier in the sorted output. Stability is important in situations where you want to maintain the original order of equivalent elements.\n",
    "- Example of a stable sorting algorithm: Insertion Sort.\n",
    "- Example of an unstable sorting algorithm: Quick Sort.\n",
    "- Stability can be important in scenarios like sorting a list of people by age and then by name. If two people have the same age, a stable sort ensures that their original order by name is maintained."
   ]
  },
  {
   "cell_type": "markdown",
   "id": "bd85d9c4-af00-473c-aec9-60a26b7f9e20",
   "metadata": {},
   "source": [
    "### 5.Question III"
   ]
  },
  {
   "cell_type": "markdown",
   "id": "4ee25fd4-35bc-495f-8751-e89d96502385",
   "metadata": {},
   "source": [
    "What is amortized analysis and how can it be applied to analyze the cost of operations like insertion and deletion in a dynamic array or hash table? Give a specific example to demonstrate the amortized cost."
   ]
  },
  {
   "cell_type": "markdown",
   "id": "4b087df1-b992-46f1-b1b0-b457fbe06c76",
   "metadata": {},
   "source": [
    "#### Solution"
   ]
  },
  {
   "cell_type": "markdown",
   "id": "e431d86c-edb4-4be2-bb2e-ab607ae84525",
   "metadata": {},
   "source": [
    "***Amortized Analysis and its Application:***\n",
    "\n",
    "- Amortized analysis is a method for analyzing the average time complexity of a sequence of operations on a data structure, even when some individual operations may be expensive. It provides a more accurate picture of the overall performance.\n",
    "- For example, consider a dynamic array that occasionally needs to resize when it reaches its capacity. The resize operation is expensive (`O(n)` where n is the current size), but it doesn't happen every time an element is inserted.\n",
    "- Using amortized analysis, we can show that the average cost of an insertion operation (including occasional resizes) is `O(1)`.\n",
    "- Let's say we double the array size whenever it's full. If we perform n insertions, there will be at most O(log n) resizes (doubling the size each time). The total cost of resizing is `O(n)`. Therefore, the amortized cost of each insertion is `O((n + n)/n) = O(2)`, which is `O(1)` on average."
   ]
  }
 ],
 "metadata": {
  "kernelspec": {
   "display_name": "Python 3 (ipykernel)",
   "language": "python",
   "name": "python3"
  },
  "language_info": {
   "codemirror_mode": {
    "name": "ipython",
    "version": 3
   },
   "file_extension": ".py",
   "mimetype": "text/x-python",
   "name": "python",
   "nbconvert_exporter": "python",
   "pygments_lexer": "ipython3",
   "version": "3.11.4"
  }
 },
 "nbformat": 4,
 "nbformat_minor": 5
}
