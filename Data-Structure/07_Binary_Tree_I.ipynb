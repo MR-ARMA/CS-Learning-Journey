{
 "cells": [
  {
   "cell_type": "markdown",
   "id": "e729fde7-e878-46fc-a21a-4f0c49a7163e",
   "metadata": {},
   "source": [
    "# <center> <div style=\"width: 370px;\"> ![binary tree](pictures/binary_tree_III.jpg)"
   ]
  },
  {
   "cell_type": "markdown",
   "id": "f7a87b63-e2bb-4193-911c-1ad4f71092f6",
   "metadata": {},
   "source": [
    "# <center>Binary Tree Part 1"
   ]
  },
  {
   "cell_type": "markdown",
   "id": "29a37c5b-5687-4a2e-bac0-61a46a096230",
   "metadata": {
    "tags": []
   },
   "source": [
    "|Sequence Data Structure|Operations O(.)|Operations O(.)|Operations O(.)|Operations O(.)|Operations O(.)|\n",
    "|-|-|-|-|-|-|\n",
    "||Container|Static|Dynamic|Dynamic|Dynamic|\n",
    "||build(X)|get_at(i)/set_at(i)|insert_first(x)/delete_first()|insert_last(x)/delete last()|insert at(i, x)|delete_at(i)|\n",
    "|Array|<center>n|<center>1|<center>n|<center>n|<center>n|\n",
    "|Linked List|<center>n|<center>n|<center>1|<center>n|<center>n|\n",
    "|Dynamic Array|<center>n|<center>1|<center>n|$$ 1_{(a)} $$ |<center>n|\n",
    "|Goal|<center>n| $$ \\log n $$ | $$ \\log n $$ | $$ \\log n $$ | $$ \\log n $$ |"
   ]
  },
  {
   "cell_type": "markdown",
   "id": "7e7029b6-0d93-44d9-a1fd-5fb4031ca388",
   "metadata": {},
   "source": [
    "|Set Data Structure|Operations O(.)|Operations O(.)|Operations O(.)|Operations O(.)|Operations O(.)|\n",
    "|-|-|-|-|-|-|\n",
    "||Container|Static|Dynamic|Order|Order|\n",
    "||build(X)|find(k)|insert(x)/delete(k)|find_min()/find_max()|find prev(k)/find next(k)|\n",
    "|Array|<center>n|<center>n|<center>n|<center>n|<center>n|\n",
    "|Sorted Array|$$ n \\log n $$|$$ \\log n $$|<center>n|<center>1|$$ \\log n $$|\n",
    "|Direct Access Array|<center>u|<center>1|<center>1|<center>u|<center>u|\n",
    "|Hash Table|$$ n_{(e)} $$|$$ 1_{(e)} $$|$$ 1_{(a)(e)} $$|<center>n|<center>n|\n",
    "|Goal|<center>n| $$n \\log n $$ | $$ \\log n $$ | $$ \\log n $$ | $$ \\log n $$ |"
   ]
  },
  {
   "cell_type": "markdown",
   "id": "d1eace5f-1b0c-43c8-965e-a1463fb6aa4d",
   "metadata": {},
   "source": [
    "#### How? Binary Tree"
   ]
  },
  {
   "cell_type": "markdown",
   "id": "d3aecf5a-5b2f-4cd4-8c50-9548549c803a",
   "metadata": {},
   "source": [
    "A binary tree is a fundamental data structure used in computer science and mathematics. It is a type of tree where each node can have at most two children, which are typically referred to as the left child and the right child. Binary trees play a crucial role in various algorithms and data manipulation tasks. Let's break down the components and structure of a binary tree:\n",
    "\n",
    "1. **Definition:** A binary tree is a special type of tree, which is itself a connected graph with no cycles. In the case of a binary tree, each node has, at most, two child nodes: a left child and a right child. These child nodes are also binary nodes.\n",
    "\n",
    "\n",
    "Here's a Python class definition for a Binary_Node, which represents a binary tree node:\n",
    "2. **Binary Node:** A binary node is the basic building block of a binary tree. It is similar to a linked list node and contains a constant number of fields:\n",
    "\n",
    "    - **Item:** A pointer to an item stored at the node. This can be any type of data or object, depending on the application.\n",
    "    \n",
    "    - **Parent Node:** A pointer to the parent node of the current node. If the current node is the root of the tree, this pointer may be set to None.\n",
    "    \n",
    "    - **Left Child Node:** A pointer to the left child node of the current node. If there is no left child, this pointer may be set to None.\n",
    "    \n",
    "    - **Right Child Node:** A pointer to the right child node of the current node. If there is no right child, this pointer may be set to None.\n"
   ]
  },
  {
   "cell_type": "markdown",
   "id": "77ce51a4-7102-400f-a6d7-413ab9286c39",
   "metadata": {},
   "source": [
    "\n",
    "```python\n",
    "class Binary_Node:\n",
    "    def __init__(self, item):\n",
    "        # Initialize the binary node with the given item\n",
    "        self.item = item\n",
    "        self.left = None\n",
    "        self.right = None\n",
    "        self.parent = None\n",
    "```"
   ]
  },
  {
   "cell_type": "markdown",
   "id": "ba5c691b-6a36-4529-9d54-a101d9772b23",
   "metadata": {},
   "source": [
    "\n",
    "\n",
    "In this code:\n",
    "- The `__init__` method is the constructor for the Binary_Node class. It initializes a binary node with the provided `item`.\n",
    "- `self.item` stores the item/data associated with the node.\n",
    "- `self.left` is the pointer to the left child node, initially set to None.\n",
    "- `self.right` is the pointer to the right child node, initially set to None.\n",
    "- `self.parent` is the pointer to the parent node, initially set to None.\n",
    "\n",
    "The code also includes a comment indicating that there might be a `subtree_update()` method in the future, but it's not implemented at this point (indicated by the \"wait for R07!\" comment).\n",
    "\n",
    "This Binary_Node class can be used as a building block to create binary trees for various applications and algorithms."
   ]
  },
  {
   "cell_type": "markdown",
   "id": "fc2b5a7b-6368-4943-ad59-005a0050ca67",
   "metadata": {},
   "source": [
    "### Notes\n"
   ]
  },
  {
   "cell_type": "markdown",
   "id": "00c0aab0-4d0b-4ac2-b883-aa2776ffe9c7",
   "metadata": {},
   "source": [
    "**Tree:** A connected graph with no cycle\n",
    "\n",
    "**Root:** A node without parents\n",
    "\n",
    "**Leaf:** A node without child"
   ]
  },
  {
   "cell_type": "markdown",
   "id": "f24d1d70-bca9-4633-863f-281733c666c1",
   "metadata": {},
   "source": [
    "```python\n",
    "node.left.parent = node\n",
    "```"
   ]
  },
  {
   "cell_type": "markdown",
   "id": "bfbd8d49-fecc-4600-8aa8-9cb40faa7a55",
   "metadata": {},
   "source": [
    "**Subtree** of node `X`: `X` and descendates `X`\n",
    "**depth** of node `X`: `#`oncestrys = `#`edges in path from `X` up to the root\n",
    "**height** of node `X`: `#`edges in longest downword path from `X` = max depth in subtree of `X`\n",
    "\n",
    "***note:*** height(root) = hright(tree)"
   ]
  },
  {
   "cell_type": "markdown",
   "id": "337c433e-1edf-4d68-a531-319a51250993",
   "metadata": {},
   "source": [
    "### Traversal Order of Node/Item\n",
    "\n",
    "for every node `X`:\n",
    "- node in `X`.left befor `X`\n",
    "- node in `X`right after `X`"
   ]
  },
  {
   "cell_type": "markdown",
   "id": "a4311178-ba1d-450f-9a15-7ff695b25998",
   "metadata": {
    "tags": []
   },
   "source": [
    "### Algorithm for `sub_tree(node)` : O(h)\n",
    "\n"
   ]
  },
  {
   "cell_type": "markdown",
   "id": "e046feda-adea-4d85-8a6c-02168ad9b4aa",
   "metadata": {},
   "source": [
    "```algorithm\n",
    "until node.left != Node:\n",
    "    node = node.left\n",
    "return node\n",
    "```"
   ]
  },
  {
   "cell_type": "markdown",
   "id": "468636c1-f7ab-4e4f-ba85-34c6b848a07a",
   "metadata": {},
   "source": [
    "### Algorithm for `successor(node)` : O(h)\n",
    "(successor: next after node in trees traversal order)"
   ]
  },
  {
   "cell_type": "markdown",
   "id": "956556de-8d3a-485d-9a41-e82fb826eca9",
   "metadata": {},
   "source": [
    "```algorithm\n",
    "if note.right:\n",
    "    return subtree_first(node)\n",
    "else:\n",
    "    node = node.right #walk up tree\n",
    "    node == node.parent.left (until go up a left branch)\n",
    "return node\n",
    "```"
   ]
  },
  {
   "cell_type": "markdown",
   "id": "939b8b82-f433-4e4d-910f-eede465a545a",
   "metadata": {
    "tags": []
   },
   "source": [
    "### Algorithm for `subtree_insert_after(new_node)` :"
   ]
  },
  {
   "cell_type": "markdown",
   "id": "d0c7902b-c28e-4314-8096-519eeadb8046",
   "metadata": {
    "tags": []
   },
   "source": [
    "\n",
    "```algorithm\n",
    "if node.right is None:\n",
    "    node.right = new_node\n",
    "else:\n",
    "    put new as successor(node).left\n",
    "```"
   ]
  },
  {
   "cell_type": "markdown",
   "id": "4b870366-a223-4cf1-b2a4-64f08bd96524",
   "metadata": {
    "tags": []
   },
   "source": [
    "### Algorithm for `subtree_delete(node)` :"
   ]
  },
  {
   "cell_type": "markdown",
   "id": "490fea5e-db72-45cc-846f-6974a0e03b7a",
   "metadata": {},
   "source": [
    "\n",
    "```algorithm\n",
    "if node is leaf:\n",
    "    detach from parent\n",
    "else:\n",
    "    if node.left not empty:\n",
    "        swap node item <-> predecessor(node) item\n",
    "        subtree_delete(predecessor)\n",
    "    if node.right is empty:\n",
    "        swap node item <-> successor(node) item\n",
    "        subtree_delete(successor)\n",
    "```"
   ]
  },
  {
   "cell_type": "markdown",
   "id": "a4aa3c98-29fb-405e-b31c-a92a19e83b9e",
   "metadata": {},
   "source": [
    "### Reminder of an important point"
   ]
  },
  {
   "cell_type": "markdown",
   "id": "01a57470-9edd-4862-a866-de825b092b09",
   "metadata": {},
   "source": [
    "**SEQUENCE:** \n",
    "traversal order = sequence order\n",
    "\n",
    "**SET:** \n",
    "traversal order = increasing order"
   ]
  },
  {
   "cell_type": "markdown",
   "id": "d2f72156-0584-4e68-ab9e-77f44d842481",
   "metadata": {},
   "source": [
    "### Terminology"
   ]
  },
  {
   "cell_type": "markdown",
   "id": "5849ebb3-46c9-40e6-ac7f-b4319b6edd38",
   "metadata": {},
   "source": [
    "- The ***root*** of a tree has no parent\n",
    "- A ***leaf*** of a tree has no children\n",
    "- Define ***depth*** (<X>) of node <X> in a tree rooted at <R> to be length of path from <X> to <R>\n",
    "- Define ***height*** (<X>) of node <X> to be max depth of any node in the ***subtree*** rooted at <X>\n",
    "- **Idea:** Design operations to run in `O(h)` time for root height `h`, and maintain `h = O(log n)`\n",
    "- A binary tree has an inherent order: its ***traversal order***\n",
    "    - every node in node <X>’s left subtree is ***before*** <X>\n",
    "    - every node in node <X>’s right subtree is ***after*** <X>\n",
    "- List nodes in traversal order via a recursive algorithm starting at root:\n",
    "    - Recursively list left subtree, list self, then recursively list right subtree\n",
    "    - Runs in `O(n)` time, since `O(1)` work is done to list each node\n",
    "- Right now, traversal order has no meaning relative to the stored items\n",
    "- Later, assign semantic meaning to traversal order to implement Sequence/Set interfaces "
   ]
  },
  {
   "cell_type": "markdown",
   "id": "5f73019d-bb83-448d-8e12-dcc42eb6e404",
   "metadata": {},
   "source": [
    "### Application: Set"
   ]
  },
  {
   "cell_type": "markdown",
   "id": "f9523cd5-ddf5-4288-8031-3d45d16d2be7",
   "metadata": {},
   "source": [
    "- **Idea! Set Binary Tree** (a.k.a. **Binary Search Tree / BST** ): Traversal order is sorted order increasing by key\n",
    "    - Equivalent to **BST Property**: for every node, every key in left subtree ≤ node’s key ≤ every key in right subtree\n",
    "- Then can find the node with key k in node <X>’s subtree in `O(h)` time like binary search:\n",
    "    - If k is smaller than the key at <X>, recurse in left subtree (or return None)\n",
    "    - If k is larger than the key at <X>, recurse in right subtree (or return None)\n",
    "    - Otherwise, return the item stored at <X>\n",
    "- Other Set operations follow a similar pattern; see recitation \n"
   ]
  },
  {
   "cell_type": "markdown",
   "id": "5ff89c01-008e-455e-9fe1-c669fcd66dab",
   "metadata": {},
   "source": [
    "### Application: Sequence"
   ]
  },
  {
   "cell_type": "markdown",
   "id": "dfe83f11-2c57-4463-92f1-bea3031dea8c",
   "metadata": {},
   "source": [
    "- **Idea! Sequence Binary Tree:** Traversal order is sequence order\n",
    "- How do we find i-th node in traversal order of a subtree? Call this operation `subtree_at(i)`\n",
    "- Could just iterate through entire traversal order, but that’s bad, `O(n)`\n",
    "- However, if we could compute a subtree’s ***size*** in `O(1)`, then can solve in `O(h)` time\n",
    "     - How? Check the size nL of the left subtree and compare to i\n",
    "     - If i < n_L, recurse on the left subtree\n",
    "     - If i > n_L, recurse on the right subtree with $ i' = i − n_L − 1 $\n",
    "     - Otherwise, i = n_L, and you’ve reached the desired node!\n",
    "- Maintain the size of each node’s subtree at the node via **augmentation**\n",
    "     - Add node.size field to each node\n",
    "     - When adding new leaf, add +1 to a.size for all ancestors a in `O(h)` time\n",
    "     - When deleting a leaf, add −1 to a.size for all ancestors a in `O(h)` time\n",
    "- Sequence operations follow directly from a fast `subtree_at(i)` operation\n",
    "- Naively, `build(X)` takes `O(nh)` time, but can be done in `O(n)` time; see recitation "
   ]
  },
  {
   "cell_type": "markdown",
   "id": "f7b2b2e9-735d-4b72-9f85-2543d6a192ea",
   "metadata": {},
   "source": [
    "---"
   ]
  },
  {
   "cell_type": "markdown",
   "id": "5a4fc0cb-0e05-433c-b3e5-fd6f5e126b18",
   "metadata": {},
   "source": [
    "### Exercise"
   ]
  },
  {
   "cell_type": "markdown",
   "id": "19a780aa-ae46-4636-a848-a64032184cb1",
   "metadata": {},
   "source": [
    "CODE CHALLENGE: Printing the Elements of a Binary Search Tree in Sorted Order"
   ]
  },
  {
   "cell_type": "markdown",
   "id": "6e1a0d5a-4377-4673-bda0-c3e10a638a36",
   "metadata": {},
   "source": [
    "#### C++ Code:\n",
    "\n",
    "```C++\n",
    "void sortedPrint(Node* node) {\n",
    "    if(node->leftChild)\n",
    "        sortedPrint(node->leftChild);\n",
    "    cout << node->label << endl;        \n",
    "    if(node->rightChild)\n",
    "        sortedPrint(node->rightChild);\n",
    "}\n",
    "```"
   ]
  },
  {
   "cell_type": "markdown",
   "id": "a4284e91-b10f-46a0-af19-9a6b2c3e51c1",
   "metadata": {},
   "source": [
    "#### Python Code:\n",
    "\n",
    "```python\n",
    "class Node:\n",
    "    def __init__(self, label):\n",
    "        self.label = label\n",
    "        self.leftChild = None\n",
    "        self.rightChild = None\n",
    "\n",
    "def sorted_print(node):\n",
    "    if node.leftChild:\n",
    "        sorted_print(node.leftChild)\n",
    "    print(node.label)\n",
    "    if node.rightChild:\n",
    "        sorted_print(node.rightChild)\n",
    "```"
   ]
  },
  {
   "cell_type": "markdown",
   "id": "61612dea-01d7-4667-9205-29dd0a012e32",
   "metadata": {},
   "source": [
    "---"
   ]
  },
  {
   "cell_type": "markdown",
   "id": "f36a4ef1-a660-47e2-8d3e-d59dff7b92be",
   "metadata": {},
   "source": [
    "**So far we have reached `O(h)`, now how to convert it to: $ O( \\log n ) $**"
   ]
  },
  {
   "cell_type": "code",
   "execution_count": null,
   "id": "f41f360b-9cd6-463a-b6d4-d5ff1784f8e4",
   "metadata": {},
   "outputs": [],
   "source": []
  }
 ],
 "metadata": {
  "kernelspec": {
   "display_name": "Python 3 (ipykernel)",
   "language": "python",
   "name": "python3"
  },
  "language_info": {
   "codemirror_mode": {
    "name": "ipython",
    "version": 3
   },
   "file_extension": ".py",
   "mimetype": "text/x-python",
   "name": "python",
   "nbconvert_exporter": "python",
   "pygments_lexer": "ipython3",
   "version": "3.11.4"
  }
 },
 "nbformat": 4,
 "nbformat_minor": 5
}
