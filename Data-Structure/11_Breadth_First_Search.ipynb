{
 "cells": [
  {
   "cell_type": "markdown",
   "id": "847255f3-ab05-48e3-a67c-7c99fdeb7684",
   "metadata": {},
   "source": [
    "# <center> <div style=\"width: 370px;\">  ![Breadth First Search](pictures/Breadth_First_Search.jpg)"
   ]
  },
  {
   "cell_type": "markdown",
   "id": "9f265136-83f0-4561-9cfa-b366134c1fd2",
   "metadata": {},
   "source": [
    "# <center> Breadth First Search"
   ]
  },
  {
   "cell_type": "markdown",
   "id": "69422367-7e03-4f58-bacc-8a6276395135",
   "metadata": {},
   "source": [
    "## Introduction To Graph"
   ]
  },
  {
   "cell_type": "markdown",
   "id": "04a6589a-601f-41c9-997e-114848cbe82d",
   "metadata": {},
   "source": [
    "A graph, denoted as G = (V, E), is a fundamental mathematical construct composed of two essential components: a set of vertices, often referred to as nodes, represented as V, and a set of edges, symbolized as E. In this framework, each edge within E constitutes a pair of vertices selected from V. The relationship between a vertex and an edge is defined by adjacency or incidence, meaning that a vertex and an edge are considered connected if the edge encompasses the vertex within its structure.\n"
   ]
  },
  {
   "cell_type": "markdown",
   "id": "f8181321-2263-4090-bde2-30bd95c78d80",
   "metadata": {},
   "source": [
    "\n",
    "When we examine vertices u and v, we encounter the concept of edge directionality. An edge is categorized as directed when its vertex pair is ordered, as exemplified by (u, v). Conversely, an edge is deemed undirected when its vertex pair is unordered, often represented as {u, v}, or sometimes indicated as both (u, v) and (v, u). Within a directed edge, such as e = (u, v), it originates from vertex u (known as the tail of e) and terminates at vertex v (known as the head of e). In this context, e is regarded as an incoming edge for vertex v and an outgoing edge for vertex u. In undirected graphs, each edge serves the dual purpose of being incoming and outgoing. The terms \"in-degree\" and \"out-degree\" are employed to quantify the number of incoming and outgoing edges connected to a vertex v, respectively. Typically, when discussing degree, it implies out-degree, unless explicitly stated otherwise.\n"
   ]
  },
  {
   "cell_type": "markdown",
   "id": "16fbe8b6-7567-4423-ac88-98ad95144144",
   "metadata": {},
   "source": [
    "\n",
    "Graphs, as their name suggests, are often depicted graphically. In graphical representations, vertices are visualized as points, while edges are depicted as lines that connect these points. In the case of directed edges, these lines frequently include an arrowhead to denote the direction of the edge, usually located near the edge's head. To illustrate, consider the following examples of a directed graph G1 and an undirected graph G2:\n"
   ]
  },
  {
   "cell_type": "markdown",
   "id": "39edf682-42a3-49f8-b95d-26716e5ab445",
   "metadata": {},
   "source": [
    "\n",
    "\n",
    "|                  |  Graph Name |    Vertecis        |   Edges                          |\n",
    "|------------------|-------------|--------------------|----------------------------------|\n",
    "|Directed Graph G1:|G1 = (V1, E1)|V1 = {0, 1, 2, 3, 4}|E1 = {(0, 1),(1, 2),(2, 0),(3, 4)}|\n",
    "|Undirected Graph G2:|G2 = (V2, E2)|V2 = {0, 1, 2, 3, 4}|E2 = {{0, 1}, {0, 3}, {0, 4}, {2, 3}}|\n",
    "\n",
    "\n",
    "\n"
   ]
  },
  {
   "attachments": {
    "1e7acc6f-f8f4-4812-9d08-4288ffda43eb.JPG": {
     "image/jpeg": "[encoded data removed]"
    }
   },
   "cell_type": "markdown",
   "id": "34f0ef38-cecf-47d6-8d91-1e759d1d1c2e",
   "metadata": {},
   "source": [
    "# <center> <div style=\"width: 370px;\"> ![Graph.JPG](attachment:1e7acc6f-f8f4-4812-9d08-4288ffda43eb.JPG)"
   ]
  },
  {
   "cell_type": "markdown",
   "id": "849e98db-850d-4023-bbfa-7aa925a89f3b",
   "metadata": {},
   "source": [
    "\n",
    "In graph theory, a path, denoted as path1, is a sequential arrangement of vertices (v0, . . . , vk) such that for each ordered pair of vertices (vi, vi+1), there exists an outgoing edge in the graph that connects vi to vi+1. The length of a path is defined as the number of edges it contains, which is one less than the number of vertices traversed. A graph earns the label of \"strongly connected\" when it boasts a path connecting every node to every other node within the graph. It's worth noting that every connected undirected graph automatically qualifies as strongly connected since every undirected edge incident to a vertex serves the purpose of both incoming and outgoing connections. In the case of directed graph G1, consisting of two connected components, only one of these components can be classified as strongly connected."
   ]
  },
  {
   "cell_type": "markdown",
   "id": "e4ae0dd5-fd33-4f80-b1ee-4c16b355dc1e",
   "metadata": {},
   "source": [
    "## Graph Representation Techniques"
   ]
  },
  {
   "cell_type": "markdown",
   "id": "20851d29-ab5c-4193-b54c-9ad68de3cb44",
   "metadata": {},
   "source": [
    "In computer science, there are numerous methods for representing a graph in code. The most prevalent approach involves utilizing a Set data structure known as Adj, which maps each vertex `u` to another data structure, `Adj(u)`, storing the adjacent vertices reachable from `u` via a single outgoing edge. This internal data structure is commonly referred to as an \"adjacency list.\" Notably, this representation doesn't explicitly store edge pairs; it exclusively maintains the outgoing neighboring vertices for each vertex.\n",
    "\n",
    "When vertices are uniquely labeled from `0` to `|V| - 1`, it is customary to house the top-level Set Adj within a direct access array of `length |V|`. Each array slot `i` points to the adjacency list of the vertex labeled `i`. Alternatively, when vertices are not labeled in this manner, a hash table is commonly employed to map each `u ∈ V` to its respective `Adj(u)`. Subsequently, each adjacency list, `Adj(u)`, is typically stored as an unordered array of the outgoing adjacencies.\n",
    "\n",
    "For instance, consider the following adjacency list representations of `G1` and `G2`. These representations utilize a direct access array for the top-level Set and an array for each adjacency list:\n",
    "\n",
    "Adjacency List Representation of G1:\n",
    "```\n",
    "A1 = [[1],  # 0\n",
    "     [2],  # 1\n",
    "     [0],  # 2\n",
    "     [4],  # 3\n",
    "     []]   # 4\n",
    "```\n",
    "\n",
    "Adjacency List Representation of G2:\n",
    "```\n",
    "A2 = [[1, 4, 3],  # 0\n",
    "     [0],        # 1\n",
    "     [3],        # 2\n",
    "     [0, 2],     # 3\n",
    "     [0]]        # 4\n",
    "```\n",
    "\n",
    "Using an array for an adjacency list is a suitable data structure when the primary task is iterating over the edges incident to a vertex. This is the case for most algorithms discussed in this class, and therefore, it is our default implementation. Notably, each edge appears in any adjacency list at most twice, resulting in an adjacency list representation implemented using arrays having a size of `Θ(|V| + |E|)`.\n",
    "\n",
    "However, one limitation of this representation is that determining whether a graph contains a specific edge `(u, v)` may necessitate `Ω(|V|)` time, as it requires traversing the array representing the adjacency list of `u` or `v`. To mitigate this issue, one can opt for storing adjacency lists using hash tables instead of regular unsorted arrays. This alternative approach supports edge checking in expected `O(1)` time while still utilizing `Θ(|V| + |E|)` space. Nevertheless, for the purposes of our algorithms, we will assume the simpler unsorted-array-based adjacency list representation.\n",
    "\n",
    "Below, we provide representations of `G1` and `G2` that use hash tables for both the outer Adj Set and the inner adjacency lists `Adj(u)`, employing Python dictionaries:\n",
    "\n",
    "Adjacency List Representation of G1 (Using Hash Tables):\n",
    "```\n",
    "S1 = {0: {1},    # 0\n",
    "      1: {2},    # 1\n",
    "      2: {0},    # 2\n",
    "      3: {4},    # 3\n",
    "      4: {0}}    # 4\n",
    "```\n",
    "\n",
    "Adjacency List Representation of G2 (Using Hash Tables):\n",
    "```\n",
    "S2 = {0: {1, 3, 4},  # 0\n",
    "      1: {0},        # 1\n",
    "      2: {3},        # 2\n",
    "      3: {0, 2},     # 3\n",
    "      4: {0}}        # 4\n",
    "```\n",
    "\n",
    "These representations offer an efficient way to work with graphs in code, accommodating a variety of algorithms and operations."
   ]
  },
  {
   "cell_type": "markdown",
   "id": "51392dfd-371f-4bc6-8be7-534c219e9f09",
   "metadata": {},
   "source": [
    "## Graph Applications"
   ]
  },
  {
   "cell_type": "markdown",
   "id": "935f5ce9-9de8-47ab-b626-83a6d1a0bb51",
   "metadata": {},
   "source": [
    "- Why? Graphs are everywhere!\n",
    "- any network system has direct connection to graphs\n",
    "- e.g., road networks, computer networks, social networks\n",
    "- the state space of any discrete system can be represented by a transition graph\n",
    "- e.g., puzzle & games like Chess, Tetris, Rubik’s cube\n",
    "- e.g., application workflows, specifications "
   ]
  },
  {
   "cell_type": "markdown",
   "id": "b655f858-ad83-4c07-8e38-f57f0d3aab78",
   "metadata": {},
   "source": [
    "## Neighbor Sets and Adjacencies"
   ]
  },
  {
   "cell_type": "markdown",
   "id": "aaebe1aa-a209-416c-a9a0-154eadbf0da5",
   "metadata": {},
   "source": [
    "\n",
    "\n",
    "- The outgoing neighbor set of a vertex `u` in `V` is denoted as `Adj+(u)` and defined as `Adj+(u) = {v ∈ V | (u, v) ∈ E}`.\n",
    "- The incoming neighbor set of a vertex `u` in `V` is represented as `Adj-(u)` and is defined as `Adj-(u) = {v ∈ V | (v, u) ∈ E}`.\n",
    "- The out-degree of a vertex 'u' in V is given by `deg+(u) = |Adj+(u)|`.\n",
    "- The in-degree of a vertex 'u' in V is given by `deg-(u) = |Adj-(u)|`.\n",
    "- For undirected graphs, `Adj-(u)` is equivalent to `Adj+(u)`, and `deg-(u)` equals `deg+(u)`.\n",
    "- When no superscript is specified, it defaults to \"outgoing,\" meaning `Adj(u) = Adj+(u)` and `deg(u) = deg+(u)`."
   ]
  },
  {
   "cell_type": "markdown",
   "id": "af20cd63-ffe6-4081-a9cb-ea40fc02be9d",
   "metadata": {},
   "source": [
    "## Graph Representations"
   ]
  },
  {
   "cell_type": "markdown",
   "id": "686e3055-8579-4886-957b-bea6c7182455",
   "metadata": {},
   "source": [
    "- To represent a graph `G = (V, E)`, it is necessary to store the outgoing edges `Adj(u)` for all u ∈ V.\n",
    "- Initially, a Set data structure named Adj is needed to map `u` to `Adj(u)`.\n",
    "- Subsequently, for each `u`, `Adj(u)` is stored in another data structure known as an adjacency list.\n",
    "- It is common to use a direct access array or hash table for Adj since fast lookup by vertex is essential.\n",
    "- Typically, an array or linked list is used for each Adj(u) since iteration is usually the primary operation.\n",
    "- In the common representations, the size of Adj is `Θ(|V|)`, while the size of each `Adj(u)` is `Θ(deg(u))`."
   ]
  },
  {
   "cell_type": "markdown",
   "id": "2ce2706d-b1f6-409c-a12e-d7d773b02c85",
   "metadata": {},
   "source": [
    "## Graph Storage Space"
   ]
  },
  {
   "cell_type": "markdown",
   "id": "c07af930-7592-4db8-bb29-cd68643df82d",
   "metadata": {},
   "source": [
    "- Given that, according to the handshaking lemma, `u∈V deg(u) ≤ 2|E|`, a graph can be stored in `Θ(|V| + |E|)` space.\n",
    "- Consequently, for graph algorithms, linear time implies `Θ(|V| + |E|)`, which is linear in the size of the graph."
   ]
  },
  {
   "cell_type": "markdown",
   "id": "dd242feb-4437-4404-9318-0a72e09db9a1",
   "metadata": {},
   "source": [
    "## Examples"
   ]
  },
  {
   "cell_type": "markdown",
   "id": "7c567579-6922-4e50-8309-4a5e38d0672a",
   "metadata": {},
   "source": [
    "- Examples 1 and 2 assume vertices are labeled from {0, 1, . . . , |V| − 1}, enabling the use of a direct access array for Adj and storing Adj(u) in an array.\n",
    "- Example 3 employs a hash table for Adj.\n"
   ]
  },
  {
   "cell_type": "markdown",
   "id": "19a72572-d4c6-4ec4-a501-ff01729bdcd3",
   "metadata": {},
   "source": [
    "Example 1 (Undirected):\n",
    "``` python\n",
    "G1 = [\n",
    "  [2, 1],  # 0\n",
    "  [2, 0, 3],  # 1\n",
    "  [1, 3, 0],  # 2\n",
    "  [1, 2],  # 3\n",
    "]\n",
    "```"
   ]
  },
  {
   "cell_type": "markdown",
   "id": "056333c6-dc6d-4581-a5a0-5f378f733370",
   "metadata": {},
   "source": [
    "Example 2 (Directed):\n",
    "``` python\n",
    "G2 = [\n",
    "  [2],  # 0\n",
    "  [2, 0],  # 1\n",
    "  [0],  # 2\n",
    "]\n",
    "\n",
    "```"
   ]
  },
  {
   "cell_type": "markdown",
   "id": "8ca8637e-3b77-43a7-ad4f-a466584d291a",
   "metadata": {},
   "source": [
    "Example 3 (Undirected):\n",
    "``` python\n",
    "G3 = {\n",
    "  a: [s, b],\n",
    "  b: [a],\n",
    "  s: [a, c],\n",
    "  c: [s, d, e],\n",
    "  d: [c, e, f],\n",
    "  e: [c, d, f],\n",
    "  f: [d, e],\n",
    "  g: [],\n",
    "}\n",
    "```"
   ]
  },
  {
   "cell_type": "markdown",
   "id": "79a9c12c-6a31-41c3-8d65-aa8d7e226ddf",
   "metadata": {},
   "source": [
    "> **note** that in an undirected graph, connections are symmetric because every edge is traversed in both directions."
   ]
  },
  {
   "cell_type": "markdown",
   "id": "339a1b2c-c814-489e-a1b4-8e89fe026e0b",
   "metadata": {},
   "source": [
    "## Paths"
   ]
  },
  {
   "cell_type": "markdown",
   "id": "0f4e1ce9-b8dd-40b5-836d-39bd953abe98",
   "metadata": {},
   "source": [
    "- A path is defined as a sequence of vertices `p = (v1, v2, . . . , vk)` where `(vi, vi+1) ∈ E for all 1 ≤ i < k`.\n",
    "- A path is considered simple if it doesn't repeat vertices.\n",
    "- The length (p) of a path `p` is the number of edges it contains.\n",
    "- The distance `δ(u, v)` from vertex `u` in `V` to vertex `v` in `V` is the minimum length of any path from `u` to `v`, i.e., the length of the shortest path from `u` to `v` (by convention, `δ(u, v) = ∞ if u is not connected to v`)."
   ]
  },
  {
   "cell_type": "markdown",
   "id": "c8b98a00-a2ad-4979-82db-9bed9187db61",
   "metadata": {},
   "source": [
    "### Shortest Paths Tree"
   ]
  },
  {
   "cell_type": "markdown",
   "id": "f06bce24-82cf-437b-9cd8-e0fa5899bc20",
   "metadata": {},
   "source": [
    "- To find the shortest path from a source vertex `s` to every other vertex in the graph, we store a parent `P(v)` for each vertex `v`.\n",
    "- `P(v)` represents the second-to-last vertex on the shortest path from `s` to `v`.\n",
    "- `P(s)` is set to null since there is no second-to-last vertex on the shortest path from `s` to `s`.\n",
    "- The set of parents forms a shortest paths tree with a size of `O(|V|)`, representing the reversed shortest paths from every vertex reachable from `s` back to `s`."
   ]
  },
  {
   "cell_type": "markdown",
   "id": "46e19b5e-a0c8-4189-b13f-52d598d720ad",
   "metadata": {},
   "source": [
    "## Twitter Influence"
   ]
  },
  {
   "cell_type": "markdown",
   "id": "068fb9fa-6be1-4c7d-b51d-f073f6f05cfb",
   "metadata": {},
   "source": [
    "Twitter allows users to follow each other in order to view their posts.\n",
    "\n",
    "- Following is a one-way connection (e.g., I can follow you, but you are not required to follow me in return).\n",
    "\n",
    "Now, let's establish a definition of influence: A user is considered influential if they have a significant number of followers-of-followers.\n",
    "\n",
    "- The rationale behind this definition is that influence is not solely determined by how many people follow you, but rather by whether those who follow you have a broad reach themselves.\n",
    "\n",
    "We need to write a function called `mostInfluential` that takes input from a file containing Twitter relationships and identifies the most influential user.\n",
    "\n",
    "The function's purpose is to analyze Twitter relationships and determine which user has the highest degree of influence based on the defined criteria."
   ]
  },
  {
   "cell_type": "markdown",
   "id": "21d9368b-3923-4c7c-a9cb-42e6ec6d0cd6",
   "metadata": {},
   "source": [
    "**cool application of graphs [HERE](https://towardsdatascience.com/analyzing-twitter-user-network-1cfcef1dd89d) and [HEAR](https://www.sciencedirect.com/science/article/abs/pii/S095741742030779X)**"
   ]
  },
  {
   "cell_type": "markdown",
   "id": "2709147d-b491-4e9f-b2f5-6c1044930e15",
   "metadata": {},
   "source": [
    "# Breadth-First Searsh (BFS)"
   ]
  },
  {
   "cell_type": "markdown",
   "id": "b44eb5cb-367a-4843-be53-84daf99e86d6",
   "metadata": {},
   "source": [
    "Breadth-First Search (BFS)\n",
    "\n",
    "When dealing with graphs, a common task is to determine the vertices that are reachable from a given starting vertex, denoted as 's.' Breadth-First Search (BFS) is a fundamental algorithm for achieving this goal. BFS efficiently discovers sets of vertices organized by levels, where each level represents vertices reachable from 's' via a shortest path of a specific length, and these levels are uncovered in increasing order. In essence, it explores the graph layer by layer, starting from 's' and moving outward in terms of shortest path length.\n",
    "\n",
    "The process begins with level L0, which consists of only 's' itself because the only vertex reachable from 's' with a path length of 0 is 's' (L0 = {s}). Subsequently, to compute level Li+1, we include every vertex that has an incoming edge from a vertex in level Li, provided that it hasn't already been assigned a level. By computing each level based on the preceding one, we effectively build a growing frontier of vertices, exploring them in accordance with their shortest path length from 's.'\n",
    "\n",
    "Below, you'll find Python code that implements BFS for a graph represented using index-labeled adjacency lists. This code returns a parent label for each vertex, pointing the way along the shortest path back to 's.' The parent labels collectively form a BFS tree, which contains some shortest path from 's' to every other vertex in the graph.\n",
    "\n",
    "```python\n",
    "def bfs(Adj, s):                         # Adj: adjacency list, s: starting vertex\n",
    "    parent = [None for v in Adj]         # O(V) (use hash if unlabeled)\n",
    "    parent[s] = s                        # O(1) root\n",
    "    level = [[s]]                        # O(1) initialize levels\n",
    "    while 0 < len(level[-1]):            # O(?) last level contains vertices\n",
    "        level.append([])                 # O(1) amortized, make a new level\n",
    "        for u in level[-2]:              # O(?) loop over the last full level\n",
    "            for v in Adj[u]:             # O(Adj[u]) loop over neighbors\n",
    "                if parent[v] is None:    # O(1) parent not yet assigned\n",
    "                    parent[v] = u        # O(1) assign parent from level[-2]\n",
    "                    level[-1].append(v)  # O(1) amortized, add to the border\n",
    "    return parent\n",
    "```\n",
    "\n",
    "Now, let's analyze the efficiency of BFS. Specifically, how many times does the inner loop on lines 9–11 execute? A crucial point to note is that a vertex is added to any level at most once in line 11. Consequently, the loop in line 7 processes each vertex 'v' at most once. Within the loop on line 8, we cycle through all outgoing edges from vertex 'v,' which totals deg(v) edges. Therefore, the inner loop is repeated at most O(deg(v)) = O(|E|) times.\n",
    "\n",
    "Since the parent array returned has a length of |V|, it follows that breadth-first search operates in O(|V| + |E|) time, making it a highly efficient algorithm for exploring graphs and determining reachable vertices."
   ]
  },
  {
   "cell_type": "markdown",
   "id": "115db05c-6771-4205-a2d5-5bfbbf59c393",
   "metadata": {},
   "source": [
    "**in C++ languge:**\n",
    "``` cpp\n",
    "#include <vector>\n",
    "#include <queue>\n",
    "\n",
    "std::vector<int> bfs(std::vector<std::vector<int>>& Adj, int s) {\n",
    "    int V = Adj.size();                           // Number of vertices\n",
    "    std::vector<int> parent(V, -1);               // Initialize parent array\n",
    "    parent[s] = s;                                // Root vertex\n",
    "\n",
    "    std::vector<std::vector<int>> levels;         // Vector to store levels\n",
    "    levels.push_back({s});                        // Initialize with the starting vertex\n",
    "\n",
    "    while (!levels.back().empty()) {              // Last level contains vertices\n",
    "        levels.push_back({});                     // Make a new level\n",
    "\n",
    "        for (int u : levels[levels.size() - 2]) { // Loop over the last full level\n",
    "            for (int v : Adj[u]) {                // Loop over neighbors\n",
    "                if (parent[v] == -1) {            // Parent not assigned yet\n",
    "                    parent[v] = u;                // Assign parent from the previous level\n",
    "                    levels.back().push_back(v);   // Add to the border\n",
    "                }\n",
    "            }\n",
    "        }\n",
    "    }\n",
    "\n",
    "    return parent;\n",
    "}\n",
    "```"
   ]
  },
  {
   "cell_type": "markdown",
   "id": "4cbeef1e-5239-4470-80da-a5bcd4cc47ea",
   "metadata": {},
   "source": [
    "## BFS Details"
   ]
  },
  {
   "cell_type": "markdown",
   "id": "a0aaf34b-4e05-4982-be15-3790a3e6a376",
   "metadata": {},
   "source": [
    "- Idea: processing a node involves knowing we need to visit all its neighbors\n",
    "- Need to keep a TODO list of nodes to process"
   ]
  },
  {
   "cell_type": "markdown",
   "id": "a68d05e9-20b3-4357-86d6-d0348af71925",
   "metadata": {},
   "source": [
    "**How?** \n",
    "- Keep a Queue of nodes as our TODO list\n",
    "- Idea: dequeue a node, enqueue all its neighbors\n",
    "- Still will return the same nodes as reachable, just might have shorter paths"
   ]
  },
  {
   "cell_type": "markdown",
   "id": "d3dfca95-3717-4815-a7fd-d5cdc71e6ef0",
   "metadata": {},
   "source": [
    "In a graph with n nodes and m edges, BFS operates in O(m + n) time when using an adjacency list representation. This is because it visits each edge once and each node at most once."
   ]
  },
  {
   "cell_type": "markdown",
   "id": "41332dbe-0417-45ce-830d-a9c52bcd15a2",
   "metadata": {},
   "source": [
    "### BFS from v1 to v2"
   ]
  },
  {
   "cell_type": "markdown",
   "id": "e90ddcca-925d-408b-ad7a-e7ab9f882c14",
   "metadata": {},
   "source": [
    "1. Create a queue of vertices to visit, initially containing only v1.\n",
    "2. Mark v1 as visited.\n",
    "3. While the queue is not empty and v2 has not been seen:\n",
    "    - Dequeue a vertex v from the queue.\n",
    "    - Mark vertex v as visited.\n",
    "    - Add each unvisited neighbor n of v to the queue.\n",
    "How can we modify the pseudocode to search for a specific path?\n",
    "\n",
    "- To adapt the pseudocode for finding a specific path, we can stop the BFS once we reach v2 and store the path as we traverse it. This modified BFS can be designed to terminate when the desired path is found.\n"
   ]
  },
  {
   "cell_type": "markdown",
   "id": "b8fa4a9f-e33b-40df-98dc-779c681c0084",
   "metadata": {},
   "source": [
    "### Optimality"
   ]
  },
  {
   "cell_type": "markdown",
   "id": "8c21db72-28d3-4e79-a5b5-3cdf9bcf385d",
   "metadata": {},
   "source": [
    "- BFS always finds the shortest path in terms of the fewest edges.\n",
    "- In unweighted graphs, BFS finds the path with the optimal cost.\n",
    "- In weighted graphs, BFS does not always guarantee an optimal cost path."
   ]
  },
  {
   "cell_type": "markdown",
   "id": "acdf06bf-2ea9-4bdc-bcc4-80576fe80dd1",
   "metadata": {},
   "source": [
    "### Retrieval"
   ]
  },
  {
   "cell_type": "markdown",
   "id": "86be1564-9d99-4a39-a4c8-1a2dfb368d28",
   "metadata": {},
   "source": [
    "- Reconstructing the actual sequence of vertices or edges in the path can be challenging in BFS.\n",
    "- Since BFS explores many possible paths in parallel, it's not straightforward to maintain a path array/list in progress.\n",
    "- A solution is to keep track of predecessors for each vertex, where each vertex stores a reference to its previous vertex."
   ]
  },
  {
   "cell_type": "markdown",
   "id": "109f2b6c-ea02-4f46-a471-b92ae87449f3",
   "metadata": {},
   "source": [
    "## Exercise"
   ]
  },
  {
   "cell_type": "markdown",
   "id": "3d263382-01e7-48b1-92c1-524943f0a593",
   "metadata": {},
   "source": [
    "We can use parent labels returned by a breadth-first search to construct a shortest path from a vertex `s` to vertex `t`, following parent pointers from `t` backward through the graph to `s`. Below is Python code to compute the shortest path from `s` to `t` which also runs in worst-case `O(|V | + |E|)` time. "
   ]
  },
  {
   "cell_type": "code",
   "execution_count": 1,
   "id": "2bdb8579-0573-4bb6-8915-8d1f35fef4d5",
   "metadata": {},
   "outputs": [],
   "source": [
    "# Helper function: BFS to compute parent labels\n",
    "def bfs(Adj, s):\n",
    "    parent = [None for v in Adj]\n",
    "    parent[s] = s\n",
    "    queue = [s]\n",
    "\n",
    "    while queue:\n",
    "        v = queue.pop(0)\n",
    "        for u in Adj[v]:\n",
    "            if parent[u] is None:\n",
    "                parent[u] = v\n",
    "                queue.append(u)\n",
    "\n",
    "    return parent\n",
    "\n",
    "# Function to compute the shortest path from 's' to 't'\n",
    "def unweighted_shortest_path(Adj, s, t):\n",
    "    parent = bfs(Adj, s)\n",
    "\n",
    "    if parent[t] is None:\n",
    "        return None  # No path from 's' to 't'\n",
    "\n",
    "    i = t\n",
    "    path = [t]\n",
    "\n",
    "    while i != s:\n",
    "        i = parent[i]\n",
    "        path.append(i)\n",
    "\n",
    "    return path[::-1]  # Return reversed path\n"
   ]
  },
  {
   "cell_type": "code",
   "execution_count": 2,
   "id": "c6d73021-6f78-4f44-b107-7ce8d2129bf5",
   "metadata": {},
   "outputs": [],
   "source": [
    "# Adjacency list for a simple undirected graph with 5 vertices\n",
    "Adj = {\n",
    "    0: [1],       # Vertex 0 is connected to vertex 1\n",
    "    1: [0, 2, 3, 4], # Vertex 1 is connected to vertices 0, 2, 3, and 4\n",
    "    2: [1],       # Vertex 2 is connected to vertex 1\n",
    "    3: [1],       # Vertex 3 is connected to vertex 1\n",
    "    4: [1]        # Vertex 4 is connected to vertex 1\n",
    "}\n"
   ]
  },
  {
   "cell_type": "code",
   "execution_count": 3,
   "id": "3c830091-f669-4953-8295-0c3f12fb4f7d",
   "metadata": {},
   "outputs": [
    {
     "name": "stdout",
     "output_type": "stream",
     "text": [
      "Shortest path from vertex 0 to vertex 3 : [0, 1, 3]\n"
     ]
    }
   ],
   "source": [
    "# Example usage:\n",
    "s_vertex = 0  # Starting vertex\n",
    "t_vertex = 3  # Target vertex\n",
    "shortest_path = unweighted_shortest_path(Adj, s_vertex, t_vertex)\n",
    "print(\"Shortest path from vertex\", s_vertex, \"to vertex\", t_vertex, \":\", shortest_path)\n"
   ]
  },
  {
   "cell_type": "code",
   "execution_count": 4,
   "id": "fdc9f4e8-de91-4b47-aac9-86e22f83e7af",
   "metadata": {},
   "outputs": [],
   "source": [
    "import random\n",
    "\n",
    "# Function to generate a random graph represented as an adjacency list\n",
    "def generate_random_graph(num_vertices, max_edges_per_vertex):\n",
    "    Adj = {vertex: [] for vertex in range(num_vertices)}\n",
    "    \n",
    "    for vertex in range(num_vertices):\n",
    "        num_edges = random.randint(1, max_edges_per_vertex)\n",
    "        for _ in range(num_edges):\n",
    "            neighbor = random.randint(0, num_vertices - 1)\n",
    "            if neighbor != vertex and neighbor not in Adj[vertex]:\n",
    "                Adj[vertex].append(neighbor)\n",
    "                Adj[neighbor].append(vertex)  # For an undirected graph\n",
    "    \n",
    "    return Adj\n",
    "\n",
    "# Example usage:\n",
    "num_vertices = 1000  # Adjust the number of vertices as needed\n",
    "max_edges_per_vertex = 10  # Adjust the maximum edges per vertex as needed\n",
    "\n",
    "random_graph = generate_random_graph(num_vertices, max_edges_per_vertex)\n"
   ]
  },
  {
   "cell_type": "code",
   "execution_count": 7,
   "id": "894e0139-bff9-4fb7-9d6c-a5dc5ed702cf",
   "metadata": {},
   "outputs": [],
   "source": [
    "# if you want to see graph:\n",
    "# print(random_graph)"
   ]
  },
  {
   "cell_type": "code",
   "execution_count": 6,
   "id": "22321156-b52e-4b6a-8abc-fd46fff32ca0",
   "metadata": {},
   "outputs": [
    {
     "name": "stdout",
     "output_type": "stream",
     "text": [
      "Shortest path from vertex 0 to vertex 3 : [0, 656, 563, 3]\n"
     ]
    }
   ],
   "source": [
    "# Example usage:\n",
    "s_vertex = 0  # Starting vertex\n",
    "t_vertex = 3  # Target vertex\n",
    "shortest_path = unweighted_shortest_path(random_graph, s_vertex, t_vertex)\n",
    "print(\"Shortest path from vertex\", s_vertex, \"to vertex\", t_vertex, \":\", shortest_path)\n"
   ]
  },
  {
   "cell_type": "markdown",
   "id": "4f227692-0639-48bb-9a74-e5f45f4d02cd",
   "metadata": {},
   "source": [
    "## Exercise"
   ]
  },
  {
   "cell_type": "markdown",
   "id": "704e2270-a769-4368-88e1-847c8d313069",
   "metadata": {},
   "source": [
    "Given an unweighted graph G = (V, E), find a shortest path from vertex s to vertex t that has an odd number of edges."
   ]
  },
  {
   "cell_type": "markdown",
   "id": "739025a3-4b31-443a-a94a-ec74448284e4",
   "metadata": {},
   "source": [
    "### Solution"
   ]
  },
  {
   "cell_type": "markdown",
   "id": "d62c180e-f9c0-451e-834f-9fc59349af4a",
   "metadata": {},
   "source": [
    "1. Construct a New Graph G0:\n",
    "    - For every vertex `u` in `V`, construct two vertices `uE` and `uO` in `V0`, representing reaching the vertex u through an even and odd number of edges, respectively.\n",
    "2. Modify the Edges:\n",
    "    - For every edge `(u, v)` in `E`, construct two edges in `E0: (uE, vO)` and `(uO, vE)`.\n",
    "3. Run Breadth-First Search on G0:\n",
    "    - Start a breadth-first search (BFS) on G0 from vertex sE to find the shortest path from sE to tO.\n",
    "**Explanation:**\n",
    "Because G0 is bipartite between even and odd vertices, even paths from sE will always end at even vertices, and odd paths will end at odd vertices. Therefore, finding a shortest path from sE to tO will represent a path of odd length in the original graph.\n",
    "\n",
    "**Time Complexity:**\n",
    "Constructing G0 and running breadth-first search (BFS) from sE each take` O(|V| + |E|)` time, where `|V|` is the number of vertices and `|E|` is the number of edges in the original graph G.\n",
    "This approach ensures that you can find a shortest path from s to t with an odd number of edges efficiently in an unweighted graph.\n",
    "\n",
    "\n",
    "\n",
    "\n",
    "\n"
   ]
  },
  {
   "cell_type": "markdown",
   "id": "0460d165-69db-4cf5-be44-58ef7e829942",
   "metadata": {},
   "source": []
  },
  {
   "cell_type": "markdown",
   "id": "7dbfc971-539e-4fad-b984-a0e00c6c691b",
   "metadata": {},
   "source": []
  }
 ],
 "metadata": {
  "kernelspec": {
   "display_name": "Python 3 (ipykernel)",
   "language": "python",
   "name": "python3"
  },
  "language_info": {
   "codemirror_mode": {
    "name": "ipython",
    "version": 3
   },
   "file_extension": ".py",
   "mimetype": "text/x-python",
   "name": "python",
   "nbconvert_exporter": "python",
   "pygments_lexer": "ipython3",
   "version": "3.11.4"
  }
 },
 "nbformat": 4,
 "nbformat_minor": 5
}
