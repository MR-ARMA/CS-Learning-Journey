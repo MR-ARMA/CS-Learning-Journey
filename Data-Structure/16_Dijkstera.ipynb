{
 "cells": [
  {
   "cell_type": "markdown",
   "id": "babc8384-d18f-49a8-9c64-42b04a1d7290",
   "metadata": {},
   "source": [
    "# <center> <div style=\"width: 370px;\"> ![Dijkstra](pictures/Dijkstra.jpg)"
   ]
  },
  {
   "cell_type": "markdown",
   "id": "c30c9d28-bc0b-4802-b998-26c7fa9115fb",
   "metadata": {},
   "source": [
    "# <center> Dijkstra"
   ]
  },
  {
   "cell_type": "markdown",
   "id": "dba92c3c-5399-4a33-9d3c-0a627bd78573",
   "metadata": {},
   "source": [
    "|Restrictions||SSSP Algorithm||\n",
    "|-----|----|-----|------|\n",
    "Graph|Weights|Name|Running Time (O(·))|\n",
    "|  General| Unweighted  |  BFS | $$ |V|+|E| $$   |     |V| + |E|       |\n",
    "| DAG |Any| DAG Relaxation       |              $$ |V|+|E| $$              |     |V| + |E|       |\n",
    "|            General| Any              |     Bellman-Ford         |   $$ |V| \\dot |E| $$              |         |V| · |E|     |   General\n",
    "|    General|              Non-negative                  |       Dijkstra           |              $$ |V| \\log |V| + |E|       $$        |                     |\n"
   ]
  },
  {
   "cell_type": "markdown",
   "id": "5ccf96b0-de61-4291-b9ae-03250bcf60a6",
   "metadata": {},
   "source": [
    "## Dijkstra’s Algorithm"
   ]
  },
  {
   "cell_type": "markdown",
   "id": "4c83451c-dd59-404d-8ffe-3b8e937e40d0",
   "metadata": {},
   "source": [
    "Dijkstra's algorithm is one of the most widely used algorithms for finding the shortest paths in weighted graphs. It outperforms Bellman-Ford in terms of asymptotic speed but comes with the limitation that it can only be applied to graphs where all edge weights are non-negative. Fortunately, such graphs are common in various real-world applications.\n",
    "\n",
    "The concept behind Dijkstra's algorithm is relatively intuitive. Think of a weighted graph as a network of pipes, each with a non-negative length (weight). Imagine turning on a water faucet at a source vertex 's.' If we assume that water flows through each pipe at the same rate, it will naturally reach each intersection vertex in the order of their shortest distance from the source.\n",
    "\n",
    "Dijkstra's algorithm discretizes this continuous process by repeatedly relaxing edges starting from a vertex whose minimum weight path estimate is the smallest among all vertices whose outgoing edges have not yet been relaxed. To efficiently find this smallest minimum weight path estimate, Dijkstra's algorithm often employs a minimum priority queue data structure.\n",
    "\n",
    "Below is a Python implementation of Dijkstra's algorithm using priority queue operations:\n",
    "\n",
    "```python\n",
    "1 def dijkstra(Adj, w, s):\n",
    "2     d = [float('inf') for _ in Adj] # shortest path estimates d(s, v)\n",
    "3     parent = [None for _ in Adj]    # initialize parent pointers\n",
    "4     d[s], parent[s] = 0, s          # initialize source\n",
    "5     Q = PriorityQueue()             # initialize an empty priority queue\n",
    "6     V = len(Adj)                    # number of vertices\n",
    "7     for v in range(V):              # loop through vertices\n",
    "8         Q.insert(v, d[v])           # insert vertex-estimate pair\n",
    "9     for _ in range(V):              # main loop\n",
    "10        u = Q.extract_min()         # extract vertex with min estimate\n",
    "11        for v in Adj[u]:            # loop through outgoing edges\n",
    "12            try_to_relax(Adj, w, d, parent, u, v)\n",
    "13            Q.decrease_key(v, d[v]) # update the key of the vertex\n",
    "14    return d, parent\n",
    "```\n",
    "\n",
    "This algorithm follows a similar structure to the general relaxation framework. Lines 2-4 initialize the shortest path weight estimates and parent pointers. Lines 5-7 create a priority queue with all vertices from the graph. Lines 8-12 make up the main loop, where each iteration removes a vertex from the queue, ensuring that the queue will be empty at the loop's end. The vertex 'u' processed in each iteration is the one with the smallest shortest path weight estimate among the vertices still in the queue. Lines 10-11 perform the edge relaxation, and line 12 updates the key of the vertex if it's still in the queue.\n",
    "\n",
    "Now, let's address the question of why Dijkstra's algorithm is suitable for graphs with non-negative edge weights. The key observation is that the shortest path weight estimate of vertex 'u' equals its actual shortest path weight 'd(s, u) = δ(s, u)' when 'u' is removed from the priority queue. By the upper-bound property, 'd(s, u) = δ(s, u)' will continue to hold until the algorithm's termination. A formal proof of correctness can be found in the lecture notes, but for now, we'll focus on analyzing the algorithm's running time when implemented using different types of priority queues.\n",
    "\n",
    "Exercise: To further understand Dijkstra's algorithm, consider constructing a weighted graph with non-negative edge weights and applying Dijkstra's algorithm to find the shortest paths. Specifically, list the key-value pairs stored in the priority queue after each iteration of the main loop and highlight the edges corresponding to the constructed parent pointers."
   ]
  },
  {
   "cell_type": "markdown",
   "id": "82f98109-642d-4cfd-b9de-4db59ee65c0b",
   "metadata": {},
   "source": [
    "### Algorithm"
   ]
  },
  {
   "cell_type": "markdown",
   "id": "7a5cd425-112c-4fcd-99d1-dd07193e9c71",
   "metadata": {},
   "source": [
    "- Set $d(s, v) = ∞$ for all $v ∈ V$ , then set $d(s, s) = 0$\n",
    "- Build changeable priority queue `Q` with an item $(v, d(s, v))$ for each vertex $v ∈ V$\n",
    "- While `Q` not empty, delete an item $(u, d(s, u))$ from `Q` that has minimum $d(s, u)$\n",
    "     - For vertex `v` in outgoing adjacencies $Adj^+(u)$:\n",
    "         - If $d(s, v) > d(s, u) + w(u, v)$:\n",
    "             - Relax edge $(u, v), \\ i.e., \\ set d(s, v) = d(s, u) + w(u, v)$\n",
    "             - Decrease the key of `v` in `Q` to new estimate $d(s, v)$"
   ]
  },
  {
   "cell_type": "markdown",
   "id": "a4851b32-82cb-4183-82f2-7fc1418e7a0d",
   "metadata": {},
   "source": [
    "**Run Dijkstra on example**"
   ]
  },
  {
   "attachments": {
    "265f903c-5954-4cf0-844f-4f1391e0361f.JPG": {
     "image/jpeg": "[encoded data removed]"
    }
   },
   "cell_type": "markdown",
   "id": "57805e50-b878-479e-9f5d-140747c96826",
   "metadata": {},
   "source": [
    "# <center> <div style=\"width: 370px;\"> ![dijkstera.JPG](attachment:265f903c-5954-4cf0-844f-4f1391e0361f.JPG)"
   ]
  },
  {
   "cell_type": "markdown",
   "id": "4b4521c9-b41d-4c40-8b31-fdf4250d68da",
   "metadata": {},
   "source": [
    "\n",
    "\n",
    "\n",
    "|$v$ from $Q$|s|a|b|c|d|\n",
    "|-|-|-|-|-|-|\n",
    "|<center>s|0|∞|∞|∞|\n",
    "|<center>c||10|∞|3|∞|\n",
    "|<center>d||7|11||5|\n",
    "|<center>a||7|10|||\n",
    "|<center>b|||9|||\n",
    "|<center>δ(s, v)|0|7|9|3|5|"
   ]
  },
  {
   "cell_type": "markdown",
   "id": "4eb7eba3-2405-451e-ad38-add34dd76a45",
   "metadata": {},
   "source": [
    "### Running Time"
   ]
  },
  {
   "cell_type": "markdown",
   "id": "69dfa45a-f05c-4938-859f-863ec824eaf7",
   "metadata": {},
   "source": [
    "- • Count operations on changeable priority queue `Q`, assuming it contains `n` items: "
   ]
  },
  {
   "cell_type": "markdown",
   "id": "d967fc92-531e-4858-80bf-45835bcc69f6",
   "metadata": {},
   "source": [
    "|Operation| Time|ccurrences in Dijkstra|\n",
    "|-|-|-|\n",
    "|Q.build(X) ($n = |X|$)|$B_n$|$$1$$|\n",
    "|Q.delete_min()|$M_n$| $$|V|$$|\n",
    "|Q.decrease_key(id, k)|$D_n$|$$|E|$$|"
   ]
  },
  {
   "cell_type": "markdown",
   "id": "3dbbb21b-0434-423a-8806-37b4ebe190cc",
   "metadata": {},
   "source": [
    "- Total running time is $O(B_{|V |} + |V | · M_{|V |} + |E| · D_{|V |})$"
   ]
  },
  {
   "cell_type": "markdown",
   "id": "acdaf662-631c-47da-9a12-08a299c1521a",
   "metadata": {},
   "source": [
    "### Priority Queues"
   ]
  },
  {
   "cell_type": "markdown",
   "id": "1c9dfb50-d452-4352-85b4-0211cfc91ca3",
   "metadata": {},
   "source": [
    "Priority Queues\n",
    "\n",
    "An essential component of Dijkstra's algorithm is the use of a priority queue. The priority queue interface employed here slightly differs from our earlier presentations of priority queues in this term. In this context, a priority queue maintains a set of key-value pairs, where each vertex 'v' is a value, and 'd(s, v)' represents its associated key. Beyond its initial empty state, the priority queue supports three fundamental operations:\n",
    "\n",
    "1. `insert(val, key)` adds a key-value pair to the queue.\n",
    "2. `extract_min()` removes and returns a value from the queue with the minimum key.\n",
    "3. `decrease_key(val, new key)` reduces the key of a specified value stored in the queue to the provided new key.\n",
    "\n",
    "The efficiency of Dijkstra's algorithm hinges on the performance of these operations. Specifically, if 'Ti', 'Te', and 'Td' represent the respective running times for inserting a key-value pair, extracting a value with the minimum key, and decreasing the key of a value, then the running time of Dijkstra is given by:\n",
    "\n",
    "```\n",
    "TDijkstra = O(|V| · Ti + |V| · Te + |E| · Td).\n",
    "```\n",
    "\n",
    "There are various ways to implement a priority queue, each achieving different running times for these operations. Perhaps the simplest implementation is to maintain all the vertices and their current shortest path estimates in a dictionary. A hash table of size 'O(|V|)' can provide expected constant-time 'O(1)' insertion and decrease-key operations. However, finding and extracting the vertex with the minimum key still takes linear time 'O(|V|)'. If the vertices are indexed into the vertex set with a linear range, an alternative is to use a direct access array, leading to worst-case 'O(1)' time for insertion and decrease-key, while still requiring 'O(|V|)' to find and extract the vertex with the minimum key. In both cases, the running time for Dijkstra simplifies to:\n",
    "\n",
    "```\n",
    "TDict = O(|V|^2 + |E|).\n",
    "```\n",
    "\n",
    "This is a favorable result! For dense graphs where 'E' approaches 'Ω(|V|^2)', this implementation is linear in the size of the input graph.\n",
    "\n",
    "Below is a Python implementation of Dijkstra's algorithm using a direct access array to implement the priority queue:\n",
    "\n",
    "```python\n",
    "class PriorityQueue: # Hash Table Implementation\n",
    "    def __init__(self): # stores keys with unique labels\n",
    "        self.A = {}\n",
    "\n",
    "    def insert(self, label, key): # insert labeled key\n",
    "        self.A[label] = key\n",
    "\n",
    "    def extract_min(self): # return a label with the minimum key\n",
    "        min_label = None\n",
    "        for label in self.A:\n",
    "            if (min_label is None) or (self.A[label] < self.A[min_label].key):\n",
    "                min_label = label\n",
    "        del self.A[min_label]\n",
    "        return min_label\n",
    "\n",
    "    def decrease_key(self, label, key): # decrease key of a given label\n",
    "        if (label in self.A) and (key < self.A[label]):\n",
    "            self.A[label] = key\n",
    "```\n",
    "\n",
    "For sparse graphs where 'E' is 'O(|V|)', more advanced priority queue implementations can offer improved performance. We have seen that a binary min-heap can implement insertion and extraction of the minimum element in 'O(log n)' time. However, decreasing the key of a value stored in a priority queue typically requires finding the value in the heap, which naively could take linear time. This challenge can be addressed by having each vertex maintain a pointer to its stored location within the heap, or by having the heap maintain a mapping from values (vertices) to their locations within the heap (as you were asked to do in Problem Set 5). Either solution can support finding a given value in the heap in constant time. After decreasing the value's key, one can restore the min-heap property in logarithmic time by re-heapifying the tree. Since a binary heap can support each of the three operations in 'O(log |V|)' time, the running time of Dijkstra becomes:\n",
    "\n",
    "```\n",
    "THeap = O((|V| + |E|) * log |V|).\n",
    "```\n",
    "\n",
    "For sparse graphs, this is 'O(|V| * log |V|)! For graphs that fall between sparse and dense, a more sophisticated priority queue implementation using a data structure called a Fibonacci Heap can achieve amortized 'O(1)' time for insertion and decrease-key operations, along with 'O(log n)' time for minimum extraction. Therefore, using a Fibonacci Heap to implement the Dijkstra priority queue results in the following worst-case running time:\n",
    "\n",
    "```\n",
    "TFibHeap = O(|V| * log |V| + |E|).\n",
    "```\n",
    "\n",
    "While we won't delve extensively into Fibonacci Heaps in this course, they are theoretically valuable for accelerating Dijkstra's algorithm on graphs with a number of edges asymptotically between linear and quadratic concerning the number of graph vertices. You can refer to the Fibonacci Heap running time bound when discussing the running time of Dijkstra for theoretical questions."
   ]
  }
 ],
 "metadata": {
  "kernelspec": {
   "display_name": "Python 3 (ipykernel)",
   "language": "python",
   "name": "python3"
  },
  "language_info": {
   "codemirror_mode": {
    "name": "ipython",
    "version": 3
   },
   "file_extension": ".py",
   "mimetype": "text/x-python",
   "name": "python",
   "nbconvert_exporter": "python",
   "pygments_lexer": "ipython3",
   "version": "3.11.4"
  }
 },
 "nbformat": 4,
 "nbformat_minor": 5
}
