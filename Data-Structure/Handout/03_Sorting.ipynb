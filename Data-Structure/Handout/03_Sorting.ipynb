{
 "cells": [
  {
   "cell_type": "markdown",
   "id": "8ae9188b-78b2-4011-b045-a00e1e88046a",
   "metadata": {},
   "source": [
    "# <center> <div style=\"width: 370px;\"> ![Sorting](pictures/Sorting.jpg)"
   ]
  },
  {
   "cell_type": "markdown",
   "id": "0c324637-cc7a-41ed-a4b4-365f629f0eac",
   "metadata": {
    "tags": []
   },
   "source": [
    "# <center>Sorting (Set Interface) "
   ]
  },
  {
   "cell_type": "markdown",
   "id": "b3937d17-4e4c-4ecc-9aa7-d6ed540228fc",
   "metadata": {},
   "source": [
    "One fundamental improvement we can make is to store our items in a sorted array. This way, the item with the smallest key appears first (at index 0), and the item with the largest key appears at the end. This sorted arrangement opens up the possibility of using binary search to find keys efficiently and support various Order operations. However, the question that arises is: How do we obtain a sorted array in the first place?"
   ]
  },
  {
   "cell_type": "markdown",
   "id": "a5c64027-a46f-4735-ae22-61f988ce72e2",
   "metadata": {},
   "source": [
    "## Sorting"
   ]
  },
  {
   "cell_type": "markdown",
   "id": "81c487e2-964f-410b-b8a4-db69c9249c18",
   "metadata": {},
   "source": [
    "Sorting an array, denoted as A, of comparable items into increasing order is a fundamental operation in computer science and plays a crucial role in solving various computational problems. Two common sorting algorithms used for sorting small numbers of items are Insertion Sort and Selection Sort. These algorithms are favored for their simplicity and ease of implementation. Both of them are incremental, meaning they maintain and grow a sorted subset of items until the entire array is sorted. The key distinction between them lies in their approach, We will explain them further.\n",
    "\n",
    "**note:** It's important to note that a sort operation can be either destructive or in-place:\n",
    "\n",
    "- A destructive sort overwrites the original array A.\n",
    "- An in-place sort uses only O(1) extra space and, by definition, is also destructive (in place ⊆ destructive)."
   ]
  },
  {
   "cell_type": "markdown",
   "id": "ae26c70f-6faa-4660-b9ef-67428f8b8b88",
   "metadata": {},
   "source": [
    "### Permutation Sort"
   ]
  },
  {
   "cell_type": "markdown",
   "id": "4faf4ba1-2e9a-44c7-8799-78e4668abd2f",
   "metadata": {},
   "source": [
    "a sorting technique where you generate all possible permutations of the input data and then choose the sorted permutation. This approach is extremely inefficient and not used in practice for any non-trivial data set due to its factorial time complexity.\n",
    "\n",
    "To clarify:\n",
    "\n",
    "1. **Permutation Generation**: Generate all possible permutations of the input data. For an array of n elements, there are n! (n factorial) possible permutations. This step has a time complexity of O(n!).\n",
    "\n",
    "2. **Sorting**: Compare each generated permutation to find the one in sorted order. This step may also take O(n!) time in the worst case.\n",
    "\n",
    "The total time complexity of this informal ***Permutation Sort*** would be `O(n! * n!)`, which is impractical for even moderately sized inputs."
   ]
  },
  {
   "cell_type": "markdown",
   "id": "ce16bc1b-22e6-41d6-a057-8e80e9a304f5",
   "metadata": {},
   "source": [
    "### Selection Sort"
   ]
  },
  {
   "cell_type": "markdown",
   "id": "6702dcda-c866-4105-b69e-4cdb9cf0f611",
   "metadata": {},
   "source": [
    "\n",
    "This algorithm maintains and grows a subset of the largest `i` items in sorted order.\n",
    "**How the algorithm works: ** \n",
    "- find the largest number in prefix `A[:i+1]` and swap it to `A[i]`\n",
    "- recursivly sort prefix `A[i]`\n",
    "we have another way.\n",
    "Let's take a closer look at Selection Sort with a Python implementation. After sorting the largest items into a sub-array `A[i+1:]`, the algorithm repeatedly scans the array to identify the largest item that hasn't been sorted yet and swaps it with the item at position A[i]. While Selection Sort can require Ω(n^2) comparisons in the worst case, it will perform at most O(n) swaps."
   ]
  },
  {
   "cell_type": "markdown",
   "id": "f34e0382-0108-4af6-8621-6873cffbb66a",
   "metadata": {},
   "source": [
    "\n",
    "```python \n",
    "def selection_sort(arr):\n",
    "    n = len(arr)\n",
    "    for i in range(n):\n",
    "        max_index = i\n",
    "        for j in range(i + 1, n):\n",
    "            if arr[j] > arr[max_index]:\n",
    "                max_index = j\n",
    "        arr[i], arr[max_index] = arr[max_index], arr[i]\n",
    "```"
   ]
  },
  {
   "cell_type": "markdown",
   "id": "d15cca89-67fa-4fca-acd6-2765c53aa026",
   "metadata": {},
   "source": [
    "## Insertion Sort"
   ]
  },
  {
   "cell_type": "markdown",
   "id": "69d406b1-a5d7-49c7-94f9-e75f0c6943b4",
   "metadata": {},
   "source": [
    "Insertion Sort is a simple yet efficient sorting algorithm that operates by recursively sorting the prefix of an array and then assuming that the prefix up to a certain point is already sorted. The core idea is to insert each element from the unsorted part of the array into its correct position within the sorted part.\n",
    "\n",
    "Let's break down the process step by step using the example array `[8, 2, 4, 9, 3]`:\n",
    "\n",
    "1. Initially, we start with the first element of the array as the sorted prefix: `[8]` and the rest as the unsorted part: `[2, 4, 9, 3]`.\n",
    "\n",
    "2. We then assume that the prefix `[8]` is already sorted and proceed to insert the next element, which is `2`. Since `2` is smaller than `8`, we swap them to get `[2, 8]`.\n",
    "\n",
    "3. The next element is `4`. We insert it into the sorted prefix `[2, 8]` by comparing it to `8` and shifting `8` to the right to get `[2, 4, 8]`.\n",
    "\n",
    "4. Continue this process for the remaining elements. When we reach `9`, we don't need to swap because it's greater than `8`, so we have `[2, 4, 8, 9]`.\n",
    "\n",
    "5. Finally, we insert `3` by comparing it with `9`, `8`, `4`, and `2`, and shifting them accordingly. We end up with the fully sorted array `[2, 3, 4, 8, 9]`.\n",
    "\n",
    "Here's the Python implementation of Insertion Sort:\n"
   ]
  },
  {
   "cell_type": "markdown",
   "id": "d16322a2-7038-4490-9b13-3f912791ca5d",
   "metadata": {},
   "source": [
    "```python\n",
    "def insertion_sort(A, i=None):\n",
    "    '''Sort A[:i + 1]'''\n",
    "    if i is None:\n",
    "        i = len(A) - 1\n",
    "    if i > 0:\n",
    "        insertion_sort(A, i - 1)\n",
    "        insert_last(A, i)\n",
    "\n",
    "def insert_last(A, i):\n",
    "    '''Sort A[:i + 1] assuming sorted A[:i]'''\n",
    "    if i > 0 and A[i] < A[i - 1]:\n",
    "        A[i], A[i - 1] = A[i - 1], A[i]\n",
    "        insert_last(A, i - 1)\n",
    "```"
   ]
  },
  {
   "cell_type": "markdown",
   "id": "b85eac5b-edcc-4f07-93d7-079c0d499a08",
   "metadata": {},
   "source": [
    "\n",
    "- **Insertion Sort Analysis**:\n",
    "  - Base case: For `i = 0`, the array has one element and is already sorted (`Θ(1)` time complexity).\n",
    "  - Induction: Assuming correctness for `i`, the algorithm sorts `A[:i]` by induction, and then `insert_last` correctly sorts the rest as demonstrated above.\n",
    "  - Total time complexity: `T(1) = Θ(1)`, `T(n) = T(n - 1) + Θ(n)`, which leads to `T(n) = Θ(n^2)`.\n",
    "\n",
    "- **Insert Last Function Analysis**:\n",
    "  - Base case: For `i = 0`, the array has one element, so it's already sorted (`Θ(1)` time complexity).\n",
    "  - Induction: Assuming correctness for `i`, if `A[i] >= A[i - 1]`, the array is sorted; otherwise, swapping the last two elements allows us to sort `A[:i]` by induction.\n",
    "  - Time complexity: `S(1) = Θ(1)`, `S(n) = S(n - 1) + Θ(1)`, which leads to `S(n) = Θ(n)`.\n",
    "\n",
    "Insertion Sort is a valuable sorting algorithm due to its simplicity and ability to handle small to moderately sized data sets efficiently. However, for very large data sets, more advanced sorting algorithms with better time complexity, such as QuickSort or MergeSort, are preferred."
   ]
  },
  {
   "cell_type": "markdown",
   "id": "80173b11-be0a-4bcb-9267-c0a4017ed560",
   "metadata": {},
   "source": [
    "## In_Place and Stability"
   ]
  },
  {
   "cell_type": "markdown",
   "id": "c5a8da05-44b2-49f5-8f56-570b5c92388f",
   "metadata": {},
   "source": [
    "Both insertion sort and selection sort are ***in-place*** algorithms, implying that they both require at most a constant amount of additional space. These algorithms exclusively utilize operations like comparisons and swaps between pairs of elements in the array. Notably, insertion sort is a ***stable*** sorting algorithm, ensuring that items with the same value will maintain their original order as they appeared in the input array. Conversely, the provided implementation of selection sort is not stable. For instance, when given the input `(2, 1, 1')`, it would yield the output `(1', 1, 2)`, demonstrating instability.\n",
    "\n",
    "Merge Sort is an efficient sorting algorithm introduced during the lecture. It excels in sorting large numbers of items with an asymptotically faster performance compared to other algorithms. The core idea behind merge sort is to recursively sort the left and right halves of an array and then merge them back together in linear time.\n",
    "\n",
    "The recurrence relation for merge sort is given by `T(n) = 2T(n/2) + Θ(n)`. Solving this recurrence relation yields `T(n) = Θ(n log n)`. This time complexity of `Θ(n log n)` is significantly closer to linear time than quadratic time, as the logarithmic function log n grows much slower than the polynomial function `n^ε` for `ε > 0`.\n",
    "\n",
    "Here's a breakdown of the provided Python implementation:\n",
    "\n"
   ]
  },
  {
   "cell_type": "markdown",
   "id": "3378bb6e-7d14-49e0-a843-7f20bfcb8d02",
   "metadata": {},
   "source": [
    "\n",
    "```python\n",
    "def merge_sort(A, a=0, b=None):  # Sort sub-array A[a:b]\n",
    "    if b is None:  # O(1) initialize\n",
    "        b = len(A)  # O(1)\n",
    "    if 1 < b - a:  # O(1) size k = b - a\n",
    "        c = (a + b + 1) // 2  # O(1) compute center\n",
    "        merge_sort(A, a, c)  # T(k/2) recursively sort left\n",
    "        merge_sort(A, c, b)  # T(k/2) recursively sort right\n",
    "        L, R = A[a:c], A[c:b]  # O(k) copy\n",
    "        i, j = 0, 0  # O(1) initialize pointers\n",
    "        while a < b:  # O(n)\n",
    "            if (j >= len(R)) or (i < len(L) and L[i] < R[j]):  # O(1) check side\n",
    "                A[a] = L[i]  # O(1) merge from the left\n",
    "                i = i + 1  # O(1) decrement the left pointer\n",
    "            else:\n",
    "                A[a] = R[j]  # O(1) merge from the right\n",
    "                j = j + 1  # O(1) decrement the right pointer\n",
    "            a = a + 1  # O(1) decrement the merge pointer\n",
    "```\n",
    "\n"
   ]
  },
  {
   "cell_type": "markdown",
   "id": "ebb1a6c0-4dea-4d4a-b80b-8d392b747197",
   "metadata": {},
   "source": [
    "\n",
    "It's important to note that merge sort uses a linear amount of temporary storage during the merging process, so it is not considered an in-place sorting algorithm. While there are algorithms that perform merging with no additional space, they are typically more complex than merge sort.\n",
    "\n",
    "The stability of merge sort depends on how tie-breaking is handled during the merging process. The provided implementation is not stable, but it can be made stable with a minor modification. Making merge sort stable involves ensuring that when two elements are equal, their original order is preserved during merging.\n",
    "\n",
    "For CoffeeScript visualizers and additional resources related to the merge step of this algorithm and its recursive call structure, you can refer to the provided link.\n",
    "[This link](https://codepen.io/mit6006/pen/RYJdOG) and [This link](https://codepen.io/mit6006/pen/wEXOOq)\n",
    "\n",
    "\n"
   ]
  },
  {
   "cell_type": "markdown",
   "id": "d153444e-02a3-42ec-abd0-8cef7d4c958a",
   "metadata": {},
   "source": [
    "### Build a Sorted Array"
   ]
  },
  {
   "cell_type": "markdown",
   "id": "c94d9a9e-f2cd-4782-80bc-4bfde582280e",
   "metadata": {},
   "source": [
    "With an algorithm to sort our array in `Θ(n log n)`, we can now complete our table! We sacrifice\n",
    "some time in building the data structure to speed up order queries. This is a common technique\n",
    "called ***preprocessing***."
   ]
  },
  {
   "cell_type": "markdown",
   "id": "df89d0c2-5715-4e82-a259-f0739d591527",
   "metadata": {},
   "source": [
    "|Data Structure|Operations O(.)|Operations O(.)       |Operations O(.)               |Operations O(.)             |Operations O(.)             |\n",
    "|--------------|---------------|----------------------|------------------------------|----------------------------|----------------------------|\n",
    "|              |Container      |Static                |Dynamic                       |Order                       |Order                       |\n",
    "|              |build(X)       |find(k)               |insert(x)/delete(k)           |find_min()/find_max()       |find_prev(k)/find_next(k)   |\n",
    "|Array         |<center>n      |<center>n             |<center>n                     |<center>n                   |<center>n                   |\n",
    "|Sortes Array  |$$ n \\log n $$ |$$ \\log n $$          |<center>n                     |<center>1                   |$$ \\log n $$                |\n"
   ]
  },
  {
   "cell_type": "markdown",
   "id": "7fb85ad6-82b9-4a93-972e-bbfd0f99ffa0",
   "metadata": {},
   "source": [
    "## Recurrences"
   ]
  },
  {
   "cell_type": "markdown",
   "id": "f8265115-5f48-4579-9a64-2f6ba9050df1",
   "metadata": {},
   "source": [
    "There are three primary methods for solving recurrences:\n",
    "- **Substitution:** Guess a solution and substitute to show the recurrence holds.\n",
    "- **Recursion Tree:** Draw a tree representing the recurrence and sum computation at nodes.\n",
    "This is a very general method, and is the one we’ve used in lecture so far.\n",
    "- **Master Theorem:** A general formula to solve a large class of recurrences. It is useful, but can also be hard to remember. "
   ]
  },
  {
   "cell_type": "markdown",
   "id": "63c3453c-c74a-4deb-a008-08daecf919a2",
   "metadata": {},
   "source": [
    "## Master Theorem"
   ]
  },
  {
   "cell_type": "markdown",
   "id": "3d94421a-34df-4fc6-979f-6f508d1570ed",
   "metadata": {},
   "source": [
    "The ***Master*** Theorem provides a way to solve recurrence relations in which recursive calls decrease problem size by a constant factor. Given a recurrence relation of the form `T(n) = aT(n/b)+f(n)` and `T(1) = Θ(1)`, with branching factor `a ≥ 1`, problem size reduction factor `b > 1`, and asymptotically non-negative function `f(n)`, the Master Theorem gives the solution to the recurrence by comparing `f(n)` to $$ a^{\\log_b n} = n^{\\log_a b} $$  the number of leaves at the bottom of the recursion tree. When `f(n)` grows asymptotically faster than $$ n^{\\log_b a} $$ the work done at each level decreases\n",
    "geometrically so the work at the root dominates; alternatively, when `f(n)` grows slower, the work done at each level increases geometrically and the work at the leaves dominates. When their growth rates are comparable, the work is evenly spread over the tree’s `O(log n)` levels.\n"
   ]
  },
  {
   "attachments": {
    "2a7e0a51-d5d6-4a37-b312-06266e4b256a.JPG": {
     "image/jpeg": "[encoded data removed]"
    }
   },
   "cell_type": "markdown",
   "id": "867a523c-50dc-46c0-9a77-058160654dda",
   "metadata": {},
   "source": [
    "# <center> <div style=\"width: 800px;\"> ![master_theorem.JPG](attachment:2a7e0a51-d5d6-4a37-b312-06266e4b256a.JPG)"
   ]
  },
  {
   "cell_type": "markdown",
   "id": "4fdf060d-46ca-47bd-bbaf-da2986a05f08",
   "metadata": {
    "tags": []
   },
   "source": [
    "|case|solution|conditions|\n",
    "|-|-|-|\n",
    "|1|$$ T(n) = \\theta (n^{\\log_b a})$$|$$ f(n) = O(n^{log_b {a−ε}})$$ <center>for some constant ε > 0|\n",
    "|2|$$ T(n) = \\theta (n^{\\log_b a} \\log^{k+1} n)$$| $$ f(n) = \\theta (n^{\\log_b a} \\log^{k+1} n) $$ <center>for some constant k ≥ 0\n",
    "|3|$$ T(n) = Θ(f(n)) $$| $$ f(n) = Ω(n^{\\log_b {a+ε}}) $$ <center>for some constant ε > 0 and af(n/b) < cf(n) for some constant 0 < c < 1"
   ]
  },
  {
   "cell_type": "markdown",
   "id": "1b0e33a9-9e5f-4eff-b7aa-20a5e7ea83cb",
   "metadata": {},
   "source": [
    "The Master Theorem takes on a simpler form when `f(n)` is a polynomial, such that the recurrence has the from $$ T(n) = aT(\\frac{n}{b}) + Θ(n^c) $$ for some constant `c ≥ 0`."
   ]
  },
  {
   "cell_type": "markdown",
   "id": "92449cff-95e6-4b9e-86c2-e2f1a53f236a",
   "metadata": {},
   "source": [
    "| case | solution                     | condition         | intuition                      |\n",
    "| ---- | ----------------------------- | ----------------- | ------------------------------- |\n",
    "| 1    | $$ T(n) = Θ(n^{\\log_b a}) $$  | $$ c < \\log_b a $$ | Work done at leaves dominates |\n",
    "|2   | $$ T(n) = Θ(n^c \\log n)  $$ | $$ c = \\log_b a $$| Work balanced across the tree|\n",
    "|3   | $$ T(n) = Θ(n^c)         $$ | $$c > \\log_b a  $$| Work done at root dominates  |"
   ]
  }
 ],
 "metadata": {
  "kernelspec": {
   "display_name": "Python 3 (ipykernel)",
   "language": "python",
   "name": "python3"
  },
  "language_info": {
   "codemirror_mode": {
    "name": "ipython",
    "version": 3
   },
   "file_extension": ".py",
   "mimetype": "text/x-python",
   "name": "python",
   "nbconvert_exporter": "python",
   "pygments_lexer": "ipython3",
   "version": "3.11.4"
  }
 },
 "nbformat": 4,
 "nbformat_minor": 5
}
