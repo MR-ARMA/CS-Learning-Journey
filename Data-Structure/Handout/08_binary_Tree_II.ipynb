{
 "cells": [
  {
   "cell_type": "markdown",
   "id": "a24d8302-7bd9-4eef-95d1-25ed79a153b5",
   "metadata": {},
   "source": [
    "# <center> <div style=\"width: 370px;\"> ![binary tree](pictures/binary_tree_2.jpg)"
   ]
  },
  {
   "cell_type": "markdown",
   "id": "3e7ce765-d539-4955-9803-f2d084967947",
   "metadata": {},
   "source": [
    "# <center>Binary Tree Part 2"
   ]
  },
  {
   "cell_type": "markdown",
   "id": "c28da6d2-cec1-4c01-9422-9b28a254c642",
   "metadata": {},
   "source": [
    "|Sequence Data Structure|Operations O(.)|Operations O(.)|Operations O(.)|Operations O(.)|Operations O(.)|\n",
    "|-|-|-|-|-|-|\n",
    "||Container|Static|Dynamic|Dynamic|Dynamic|\n",
    "||build(X)|get_at(i)/set_at(i)|insert_first(x)/delete_first()|insert_last(x)/delete last()|insert at(i, x)/delete_at(i)|\n",
    "|Binary Tree|<center>n|<center>h|<center>h|<center>h|<center>h|\n",
    "|AVL Tree|<center>n|$$ \\log n $$|$$ \\log n $$|$$ \\log n $$|$$ \\log n $$|"
   ]
  },
  {
   "cell_type": "markdown",
   "id": "336f9c61-0ede-4c33-b5a2-08619cd32d6d",
   "metadata": {},
   "source": [
    "|Set Data Structure|Operations O(.)|Operations O(.)|Operations O(.)|Operations O(.)|Operations O(.)|\n",
    "|-|-|-|-|-|-|\n",
    "||Container|Static|Dynamic|Order|Order|\n",
    "||build(X)|find(k)|insert(x)/delete(k)|find_min()/find_max()|find prev(k)/find next(k)|\n",
    "|Binary Tree|$$n \\log n $$|<center>h|<center>h|<center>h|<center>h|\n",
    "|AVL Tree|$$ n \\log n $$|$$ \\log n $$|$$ \\log n $$|$$ \\log n $$|$$ \\log n $$|"
   ]
  },
  {
   "cell_type": "markdown",
   "id": "5e892b63-7d01-4d81-a310-7f650f5c0601",
   "metadata": {},
   "source": [
    "### Balanced Binary Trees: Achieving Optimal Height"
   ]
  },
  {
   "cell_type": "markdown",
   "id": "3b26e833-c94a-45be-8b42-eed589bf6436",
   "metadata": {},
   "source": [
    "In our previous discussion, we explored binary trees as versatile data structures for storing items, allowing us to organize data without imposing constraints on the tree's maximum height. Our ultimate objective is to maintain a state of balance within our tree. A tree containing 'n' nodes is considered balanced when its height is within the bounds of `O(log n)`. This balance ensures that operations, such as those discussed in our previous conversation, which took `O(h)` time, will now only require `O(log n)` time.\n",
    "\n",
    "To achieve this balance in the face of insertions and deletions, various techniques have been developed, including ***Red-Black Trees***, ***B-Trees***, ***2-3 Trees***, and ***Splay Trees***. One of the oldest and simplest methods, known as the **AVL Tree** (Adelson-Velsky and Landis, 1962), offers an elegant solution. In an AVL Tree, each node is height-balanced, adhering to what we call the AVL Property. This property stipulates that the difference in height between the left and right subtrees of a height-balanced node must not exceed 1.\n",
    "\n",
    "To put it differently, we can determine a node's balance by calculating its skew, defined as the height of its right subtree minus the height of its left subtree (with the height of an empty subtree considered as -1). A node is considered height-balanced if its skew is either -1, 0, or 1. When every node in a tree satisfies this height-balance criterion, we can confidently say that the tree itself is height-balanced.\n"
   ]
  },
  {
   "cell_type": "markdown",
   "id": "e255ab0a-1014-49e2-aa5a-98a01a7541b9",
   "metadata": {},
   "source": [
    "---"
   ]
  },
  {
   "cell_type": "markdown",
   "id": "95552b99-5be6-4b8c-a3f4-9b838c8a126e",
   "metadata": {},
   "source": [
    "### Exercise"
   ]
  },
  {
   "cell_type": "markdown",
   "id": "f89b8f0c-5162-4ee5-aafd-d8efb8290368",
   "metadata": {},
   "source": [
    "A height-balanced tree is balanced. "
   ]
  },
  {
   "cell_type": "markdown",
   "id": "ea1b6052-76f5-4af0-aceb-dacc82700736",
   "metadata": {
    "tags": []
   },
   "source": [
    "**Solution**"
   ]
  },
  {
   "cell_type": "markdown",
   "id": "06b20a48-1074-4500-b9a8-9cf678c3b5fd",
   "metadata": {},
   "source": [
    "Balanced means that `h = O(log n)`. Equivalently, balanced means that `log n` is lower\n",
    "bounded `by Ω(h)` so that `n = 2^Ω(h)`. So if we can show the minimum number of nodes in a heightbalanced tree is at least exponential in h, then it must also be balanced. Let `F(h)` denote the fewest nodes in any height-balanced tree of height h. Then `F(h)` satisfies the recurrence:\n",
    "$$ F(h) = 1 + F(h − 1) + F(h − 2) ≥ 2F(h − 2) $$\n",
    "since the subtrees of the root’s children should also contain the fewest nodes. As base cases, the fewest nodes in a height-balanced tree of height 0 is one, i.e., `F(0) = 1`, while the fewest nodes in a height-balanced tree of height 1 is two, i.e., `F(1) = 2`. Then this recurrence is lower bounded by $$ F(h) ≥ 2^{\\frac{h}{2}} = 2^{Ω(h)} $$ as desired."
   ]
  },
  {
   "cell_type": "markdown",
   "id": "d40c0f2c-9196-40ce-acdf-242463f433ee",
   "metadata": {},
   "source": [
    "---"
   ]
  },
  {
   "cell_type": "markdown",
   "id": "955c17b0-c4c6-4e4d-9f7b-106492471d5b",
   "metadata": {},
   "source": [
    "##### How to change the structure of a tree, while preserving traversal order? "
   ]
  },
  {
   "cell_type": "markdown",
   "id": "1d1997d7-f6c9-496e-8917-776cd79f23b8",
   "metadata": {
    "tags": []
   },
   "source": [
    "**Rotations!**"
   ]
  },
  {
   "cell_type": "markdown",
   "id": "3aed7314-1623-44ef-a0fd-59c6b91ec269",
   "metadata": {},
   "source": [
    "\n",
    "```plaintext\n",
    "Before Rotation (rotate_right(A)):\n",
    "\n",
    "        _______A_____\n",
    "       ____B____     C\n",
    "      D       E     / \\\n",
    "     / \\     / \\   /___\\\n",
    "    /___\\   /___\\\n",
    "After Rotation (rotate_right(A)):\n",
    "\n",
    "         _______B________\n",
    "        D           ____A____\n",
    "       / \\         E         C\n",
    "      /___\\       / \\       / \\         \n",
    "                 /___\\     /___\\\n",
    "---------------------------------\n",
    "\n",
    "Before Rotation (rotate_left(B)):\n",
    "\n",
    "        _______B________\n",
    "       D           ____A____\n",
    "      / \\         E         C\n",
    "     /___\\       / \\       / \\           \n",
    "                /___\\     /___\\\n",
    "After Rotation (rotate_left(B)):\n",
    "\n",
    "             _______A_____\n",
    "        ____B____        C\n",
    "       D         E      / \\\n",
    "      / \\       / \\    /___\\\n",
    "     /___\\     /___\\\n",
    "```\n"
   ]
  },
  {
   "cell_type": "markdown",
   "id": "d1e9862b-0b63-42ca-a37c-ed11db40565f",
   "metadata": {},
   "source": [
    "### AVL Tree"
   ]
  },
  {
   "cell_type": "markdown",
   "id": "be8d770e-ab69-4314-9aef-8161bbeb5101",
   "metadata": {},
   "source": [
    "#### Claim"
   ]
  },
  {
   "cell_type": "markdown",
   "id": "c3d3dd0b-b58d-4fb7-a13b-36f7c197b5dd",
   "metadata": {},
   "source": [
    "Transforming a binary tree to another with the same traversal order can be accomplished in `O(n)` rotations."
   ]
  },
  {
   "cell_type": "markdown",
   "id": "ced7873c-ee98-49ad-899f-dcec77668cc9",
   "metadata": {},
   "source": [
    "#### Proof"
   ]
  },
  {
   "cell_type": "markdown",
   "id": "9962cdd4-00c9-4bf6-8d0c-53bbc50f21e7",
   "metadata": {},
   "source": [
    "The transformation process involves repeatedly performing the last possible right rotation in the traversal order. This operation results in a canonical chain structure. With each rotation, the depth of the last node in the chain increases by 1. Since the depth of the final node in the canonical chain is n − 1, at most n − 1 rotations are performed in this process. To reach the target tree, reverse the canonical rotations."
   ]
  },
  {
   "cell_type": "markdown",
   "id": "7a103086-cc1d-4db1-a69c-83491390c997",
   "metadata": {},
   "source": [
    "- Although it's possible to maintain height-balance using O(n) rotations to fully balance the tree, this approach is relatively slow.\n",
    "- Our objective is to achieve and maintain tree balance efficiently, with O(log n) time per operation!"
   ]
  },
  {
   "cell_type": "markdown",
   "id": "0dad3e2e-8b69-4a63-aac3-a7a4ffc22e46",
   "metadata": {},
   "source": [
    "### AVL Trees: Height Balance"
   ]
  },
  {
   "cell_type": "markdown",
   "id": "58cce8eb-8e02-4a74-9c06-cc0708c4bc2f",
   "metadata": {},
   "source": [
    "- AVL trees maintain height-balance (also called the AVL Property)\n",
    "    - A node is height-balanced if heights of its left and right subtrees differ by at most 1\n",
    "    - Let skew of a node be the height of its right subtree minus that of its left subtree\n",
    "    - Then a node is height-balanced if its skew is −1, 0, or 1"
   ]
  },
  {
   "cell_type": "markdown",
   "id": "985b05c9-a3fd-47bc-b716-063717f3fbc8",
   "metadata": {},
   "source": [
    "#### Claim"
   ]
  },
  {
   "cell_type": "markdown",
   "id": "9f87cbf8-178d-4f85-9b1f-0a3ffe757e37",
   "metadata": {},
   "source": [
    " A binary tree with height-balanced nodes has height h = O(log n) (i.e., n = 2^Ω(h)\n",
    ")"
   ]
  },
  {
   "cell_type": "markdown",
   "id": "ef05088e-4991-49e6-92fb-cf2a7e6bbd84",
   "metadata": {},
   "source": [
    "#### Proof"
   ]
  },
  {
   "cell_type": "markdown",
   "id": "8ba1e8a2-a29f-4196-8077-2dcf066490d3",
   "metadata": {},
   "source": [
    "Suffices to show fewest nodes `F(h)` in any height h tree is `F(h) = 2^Ω(h)`\n",
    "$$ F(0) = 1, F(1) = 2, F(h-1)+F(h-2)≥ 2F(h-2) => F(h)≥ 2^{\\frac{h}{2}}  $$"
   ]
  },
  {
   "cell_type": "markdown",
   "id": "4668f5ae-3d58-4227-aa1f-cfefd2640f69",
   "metadata": {},
   "source": [
    "---"
   ]
  },
  {
   "cell_type": "markdown",
   "id": "523e7f1c-3dee-4d50-b34b-affefb2fa186",
   "metadata": {},
   "source": [
    "## Rebalance"
   ]
  },
  {
   "cell_type": "markdown",
   "id": "b2a72058-c93a-4923-bf33-37a86fc4ea66",
   "metadata": {},
   "source": [
    "Imagine a scenario where adding or removing a leaf from a height-balanced tree causes an imbalance to occur. In this situation:\n",
    "\n",
    "- The changes in height and skew are confined to the subtrees of the ancestors of the affected leaf.\n",
    "- These height changes are limited to increments or decrements of just ±1. Consequently, the skews of these subtrees remain within a range of magnitude ≤ 2.\n",
    "\n",
    "The approach to address this imbalance is as follows:\n",
    "\n",
    "- We initiate a process to restore height balance to the ancestors of the leaf, starting from the leaf itself and moving up towards the root of the tree.\n",
    "- The key strategy is to repeatedly rebalance the lowest ancestor that is not in a height-balanced state. For the sake of simplicity, we assume without loss of generality that this ancestor has a skew of 2."
   ]
  },
  {
   "cell_type": "markdown",
   "id": "0aeb343c-44eb-44ca-8793-0d2bd7c3cbe9",
   "metadata": {},
   "source": [
    "### Let's refine the explanation:\n",
    "\n",
    "**Local Rebalance:**\n",
    "\n",
    "When dealing with a binary tree node <B> that has a skew of 2, and when every other node within <B>'s subtree maintains height balance, it is possible to restore height balance to <B>'s subtree through one or two rotations. After these rotations, the height of <B> will either remain the same or be reduced by one.\n",
    "\n",
    "• Proof:\n",
    "– Since the skew of <B> is 2, we know that <B> has a right child, denoted as <F>.\n",
    "– There are two cases to consider: \n",
    "  1. Case 1: The skew of <F> is 0.\n",
    "  2. Case 2: The skew of <F> is 1.\n",
    "  \n",
    "In both cases, we can perform a left rotation on <B> to achieve balance:\n",
    "\n",
    "```bash\n",
    "   __<B>______                     ______<F>____\n",
    "  <A>    ___<F>___              __<B>___       <G>\n",
    "  / \\   <D>      <G>     =>   <A>      <D>     / \\\n",
    " /___\\  / \\      / \\          / \\      / \\    /   \\\n",
    "       /___\\    /___\\        /___\\    /___\\  /_____\\\n",
    "      /_____\\                        /_____\\\n",
    "                   \n",
    "```\n",
    "\n",
    "Here's the rationale for these rotations:\n",
    "\n",
    "- Let 'h' be the height of <A>. After the rotation, the height of <G> becomes 'h + 1', and in Case 1, the height of <D> also becomes 'h + 1', while in Case 2, it becomes 'h'.\n",
    "- After the rotation:\n",
    "  - The skew of <B> becomes either 1 in Case 1 or 0 in Case 2, making <B> height balanced.\n",
    "  - The skew of <F> becomes -1, rendering <F> height balanced.\n",
    "  - The height of <B> before the rotation is 'h + 3', which remains 'h + 3' in Case 1 and becomes 'h + 2' in Case 2."
   ]
  },
  {
   "cell_type": "markdown",
   "id": "a5563d49-e7e9-4251-abab-686bd7302236",
   "metadata": {},
   "source": [
    "Here's the edited text:\n",
    "\n",
    "**Case 3:**\n",
    "\n",
    "In Case 3, when the skew of <F> is -1, indicating the presence of the left child <D> of <F>:\n",
    "\n",
    "- We initiate a right rotation on <F>, followed by a left rotation on <B>.\n",
    "\n",
    "```bash\n",
    "   __<B>___________                    _____<D>______\n",
    "  <A>        _____<F>__            __<B>__       __<F>__\n",
    "  / \\    __<D>__      <G>  =>     <A>    <C>    <E>    <G>\n",
    " /___\\  <C>    <E>    / \\         / \\    /_\\    /_\\    / \\\n",
    "        /_\\    /_\\   /___\\       /___\\  /___\\  /___\\  /___\\\n",
    "       /___\\  /___\\\n",
    "```\n",
    "\n",
    "After these rotations:\n",
    "\n",
    "- The skew of <B> becomes either 0 or -1, ensuring that <B> is now height balanced.\n",
    "- The skew of <F> becomes either 0 or 1, rendering <F> height balanced.\n",
    "- The skew of <D> is 0, resulting in height balance for <D>.\n",
    "- The height of <B> transitions from 'h + 3' before to 'h + 2' afterward.\n",
    "\n"
   ]
  },
  {
   "cell_type": "markdown",
   "id": "a944f2b9-37a4-4f09-8ca3-330a348d708a",
   "metadata": {},
   "source": [
    "**Global Rebalance:**\n",
    "\n",
    "When adding or removing a leaf from a height-balanced tree T to create tree T0:\n",
    "\n",
    "- T0 can be transformed into a height-balanced tree T00 using at most O(log n) rotations.\n",
    "\n",
    "**Proof:**\n",
    "\n",
    "- Only ancestors of the affected leaf exhibit different heights in T0 compared to T.\n",
    "- The affected leaf has at most O(log n) ancestors whose subtrees may have changed.\n",
    "- We identify the lowest ancestor <X> that lacks height balance (with a skew magnitude of 2).\n",
    "\n",
    "  - In the case of leaf insertion, this elevates the height of <X>, leading to Case 2 or 3 in Local Rebalancing.\n",
    "  - The subsequent rotation reduces the subtree height, resulting in balance after a single rotation.\n",
    "\n",
    "  - For leaf removal, the height of one child of <X> decreases, affecting only the imbalance.\n",
    "  - This could reduce the height of <X> by 1, potentially causing imbalance in <X>'s parent.\n",
    "  - Hence, it might be necessary to rebalance every ancestor of <X>, but this is limited to a maximum of h = O(log n) of them.\n",
    "\n",
    "- Consequently, maintaining height balance can be achieved using only O(log n) rotations after insertion or deletion.\n",
    "- However, this approach requires us to verify whether a potentially O(log n) nodes were height balanced."
   ]
  },
  {
   "cell_type": "markdown",
   "id": "30e39d9b-efbb-4820-b0ab-acf7af6e5984",
   "metadata": {},
   "source": [
    " Below is code to implement the rebalancing algorithm presented in lecture.\n",
    " \n",
    " ```cpp\n",
    " def calculate_skew(node):\n",
    "    \"\"\"\n",
    "    Calculate the skew of a node (O(?))\n",
    "    \"\"\"\n",
    "    return height(node.right) - height(node.left)\n",
    "\n",
    "def rebalance(node):\n",
    "    \"\"\"\n",
    "    Rebalance an AVL tree node (O(?))\n",
    "    \"\"\"\n",
    "    if calculate_skew(node) == 2:\n",
    "        if calculate_skew(node.right) < 0:\n",
    "            node.right = subtree_rotate_right(node.right)\n",
    "        node = subtree_rotate_left(node)\n",
    "    elif calculate_skew(node) == -2:\n",
    "        if calculate_skew(node.left) > 0:\n",
    "            node.left = subtree_rotate_left(node.left)\n",
    "        node = subtree_rotate_right(node)\n",
    "    return node\n",
    "\n",
    "def maintain(node):\n",
    "    \"\"\"\n",
    "    Maintain the AVL tree balance (O(h))\n",
    "    \"\"\"\n",
    "    node = rebalance(node)\n",
    "    subtree_update(node)\n",
    "    if node.parent:\n",
    "        node.parent = maintain(node.parent)\n",
    "    return node\n",
    "```"
   ]
  },
  {
   "cell_type": "markdown",
   "id": "4d27cb81-3b75-46da-bd9f-2ac6471597e5",
   "metadata": {},
   "source": [
    "Here's a C++ implementation of an AVL tree with rebalancing:\n",
    "\n",
    "```cpp\n",
    "#include <iostream>\n",
    "#include <algorithm>\n",
    "\n",
    "// Definition of AVLNode structure\n",
    "struct AVLNode {\n",
    "    int data;\n",
    "    AVLNode* left;\n",
    "    AVLNode* right;\n",
    "    int height;\n",
    "\n",
    "    AVLNode(int val) : data(val), left(nullptr), right(nullptr), height(1) {}\n",
    "};\n",
    "\n",
    "// Function to calculate the height of a node\n",
    "int getHeight(AVLNode* node) {\n",
    "    return (node ? node->height : 0);\n",
    "}\n",
    "\n",
    "// Function to update the height of a node\n",
    "void updateHeight(AVLNode* node) {\n",
    "    node->height = 1 + std::max(getHeight(node->left), getHeight(node->right));\n",
    "}\n",
    "\n",
    "// Function to perform a right rotation\n",
    "AVLNode* rotateRight(AVLNode* y) {\n",
    "    AVLNode* x = y->left;\n",
    "    AVLNode* T2 = x->right;\n",
    "\n",
    "    x->right = y;\n",
    "    y->left = T2;\n",
    "\n",
    "    updateHeight(y);\n",
    "    updateHeight(x);\n",
    "\n",
    "    return x;\n",
    "}\n",
    "\n",
    "// Function to perform a left rotation\n",
    "AVLNode* rotateLeft(AVLNode* x) {\n",
    "    AVLNode* y = x->right;\n",
    "    AVLNode* T2 = y->left;\n",
    "\n",
    "    y->left = x;\n",
    "    x->right = T2;\n",
    "\n",
    "    updateHeight(x);\n",
    "    updateHeight(y);\n",
    "\n",
    "    return y;\n",
    "}\n",
    "\n",
    "// Function to balance the AVL tree\n",
    "AVLNode* balanceNode(AVLNode* node) {\n",
    "    int balance = getHeight(node->left) - getHeight(node->right);\n",
    "\n",
    "    // Left Heavy\n",
    "    if (balance > 1) {\n",
    "        // Left-Right Heavy\n",
    "        if (getHeight(node->left->right) > getHeight(node->left->left)) {\n",
    "            node->left = rotateLeft(node->left);\n",
    "        }\n",
    "        return rotateRight(node);\n",
    "    }\n",
    "    // Right Heavy\n",
    "    else if (balance < -1) {\n",
    "        // Right-Left Heavy\n",
    "        if (getHeight(node->right->left) > getHeight(node->right->right)) {\n",
    "            node->right = rotateRight(node->right);\n",
    "        }\n",
    "        return rotateLeft(node);\n",
    "    }\n",
    "\n",
    "    return node;\n",
    "}\n",
    "\n",
    "// Function to insert a value into the AVL tree\n",
    "AVLNode* insert(AVLNode* root, int value) {\n",
    "    if (!root) {\n",
    "        return new AVLNode(value);\n",
    "    }\n",
    "\n",
    "    if (value < root->data) {\n",
    "        root->left = insert(root->left, value);\n",
    "    }\n",
    "    else if (value > root->data) {\n",
    "        root->right = insert(root->right, value);\n",
    "    }\n",
    "    else {\n",
    "        // Duplicate values are not allowed\n",
    "        return root;\n",
    "    }\n",
    "\n",
    "    updateHeight(root);\n",
    "\n",
    "    return balanceNode(root);\n",
    "}\n",
    "\n",
    "// Function to perform an in-order traversal of the AVL tree\n",
    "void inOrderTraversal(AVLNode* root) {\n",
    "    if (!root) {\n",
    "        return;\n",
    "    }\n",
    "\n",
    "    inOrderTraversal(root->left);\n",
    "    std::cout << root->data << \" \";\n",
    "    inOrderTraversal(root->right);\n",
    "}\n",
    "\n",
    "int main() {\n",
    "    AVLNode* root = nullptr;\n",
    "\n",
    "    // Insert elements into the AVL tree\n",
    "    root = insert(root, 10);\n",
    "    root = insert(root, 20);\n",
    "    root = insert(root, 30);\n",
    "\n",
    "    // Print the AVL tree using in-order traversal\n",
    "    std::cout << \"In-order traversal of the AVL tree: \";\n",
    "    inOrderTraversal(root);\n",
    "\n",
    "    return 0;\n",
    "}\n",
    "```\n"
   ]
  },
  {
   "cell_type": "markdown",
   "id": "3cfb87d1-8a48-4129-aa7e-ea741c38cd18",
   "metadata": {},
   "source": [
    "## Conclusion"
   ]
  },
  {
   "cell_type": "markdown",
   "id": "96bd9bb9-0d15-4fd2-b8ff-6586565b8483",
   "metadata": {},
   "source": [
    "\n",
    "- Set AVL trees achieve O(lg n) time for all set operations, except O(n log n) time for build and O(n) time for iter\n",
    "- Sequence AVL trees achieve O(lg n) time for all sequence operations, except O(n) time for build and iter"
   ]
  },
  {
   "cell_type": "markdown",
   "id": "0cb8336d-ea00-4047-8295-5b298c7d7485",
   "metadata": {},
   "source": [
    "### Application: Sequence\n"
   ]
  },
  {
   "cell_type": "markdown",
   "id": "14eb5b35-d23a-45c3-8ea4-583128d4e965",
   "metadata": {},
   "source": [
    "- For sequence binary tree, we needed to know subtree sizes\n",
    "- For just inserting/deleting a leaf, this was easy, but now need to handle rotations\n",
    "- Subtree size is a subtree property, so can maintain via augmentation\n",
    "     - Can compute size from sizes of children by summing them and adding 1"
   ]
  },
  {
   "cell_type": "markdown",
   "id": "c23789e4-b1b1-4b53-b45d-c6302302b115",
   "metadata": {},
   "source": [
    "### Application: Sorting\n"
   ]
  },
  {
   "cell_type": "markdown",
   "id": "fcb4bf04-07cd-44f3-a145-74bf900b94e5",
   "metadata": {},
   "source": [
    "- Any Set data structure defines a sorting algorithm: build (or repeatedly insert) then iter\n",
    "- For example, Direct Access Array Sort\n",
    "- AVL Sort is a new O(n lg n)-time sorting algorithm "
   ]
  }
 ],
 "metadata": {
  "kernelspec": {
   "display_name": "Python 3 (ipykernel)",
   "language": "python",
   "name": "python3"
  },
  "language_info": {
   "codemirror_mode": {
    "name": "ipython",
    "version": 3
   },
   "file_extension": ".py",
   "mimetype": "text/x-python",
   "name": "python",
   "nbconvert_exporter": "python",
   "pygments_lexer": "ipython3",
   "version": "3.11.4"
  }
 },
 "nbformat": 4,
 "nbformat_minor": 5
}
