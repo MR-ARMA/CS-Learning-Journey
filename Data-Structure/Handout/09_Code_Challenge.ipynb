{
 "cells": [
  {
   "cell_type": "markdown",
   "id": "bedc080b-ffbe-4e6e-8f5b-681de55ec21f",
   "metadata": {},
   "source": [
    "# <center> <div style=\"width: 370px\"> ![code challenge1](pictures/code_challenge1.jpg)"
   ]
  },
  {
   "cell_type": "markdown",
   "id": "3756ce3c-bb65-4186-98c5-1e1f4bd83899",
   "metadata": {},
   "source": [
    "# <center>Code Challenge"
   ]
  },
  {
   "cell_type": "markdown",
   "id": "fa61e1e5-1ffa-4bbb-a954-cd4715c56da9",
   "metadata": {},
   "source": [
    "### Challenge 1"
   ]
  },
  {
   "cell_type": "markdown",
   "id": "089935d4-6e61-4637-9768-8c85fb3d85b4",
   "metadata": {},
   "source": [
    "#### Recursively Visiting the Nodes of a Tree"
   ]
  },
  {
   "cell_type": "markdown",
   "id": "30b4cb42-6e54-4ad4-bccc-83fafd3e64c8",
   "metadata": {},
   "source": [
    "Write a function `recursivePrint(Node* node)` that recursively prints the labels of all nodes in the subtree rooted at node (in any order). For example, if we had a tree with some root node root, then calling `recursivePrint(root)` would print the labels of all nodes in the tree (in some arbitrary order). Print a single label per line. Note that the tree will not necessarily be binary!"
   ]
  },
  {
   "cell_type": "markdown",
   "id": "f5a4974a-0ce8-4381-93a1-2fe906cdeb2e",
   "metadata": {},
   "source": [
    "#### Solution\n",
    "\n",
    "\n",
    "```cpp\n",
    "void recursivePrint(Node* node) {\n",
    "    /* YOUR CODE HERE */\n",
    "    cout << node->label << endl;\n",
    "    for(auto chil : node->children)\n",
    "        recursivePrint(Node* node);\n",
    "    \n",
    "}\n",
    "```"
   ]
  },
  {
   "cell_type": "markdown",
   "id": "7858d3ab-d6ed-4abf-aae6-eb09c573b0ba",
   "metadata": {},
   "source": [
    "### Challenge 2"
   ]
  },
  {
   "cell_type": "markdown",
   "id": "e14c4681-2840-4b13-a027-4353127fa43f",
   "metadata": {},
   "source": [
    "#### Printing the Elements of a Binary Search Tree in Sorted Order"
   ]
  },
  {
   "cell_type": "markdown",
   "id": "e8177fa8-eb83-4c91-8d9d-17b0d4d42256",
   "metadata": {},
   "source": [
    "Write a function `sortedPrint(Node* node)` that recursively prints the labels of all nodes in the subtree rooted at node in ascending sorted order. For example, if we had a tree with some root node root, then calling `sortedPrint(root)` would print the labels of all nodes in the tree in ascending sorted order. Print a single label per line. You can assume that the Binary Search Tree structure is valid (i.e., all nodes are larger than all of their descendants in their left subtree and smaller than all of their descendants in their right subtree)."
   ]
  },
  {
   "cell_type": "markdown",
   "id": "568ac8d0-7fd8-43dc-88d3-95ae8f45bd7c",
   "metadata": {},
   "source": [
    "#### Solution\n",
    "\n",
    "```cpp\n",
    "void sortedPrint(Node* node) {\n",
    "    if(node->leftChild)\n",
    "        sortedPrint(node->leftChild);\n",
    "    \n",
    "    cout << node->label << endl;        \n",
    "    \n",
    "    if(node->rightChild)\n",
    "        sortedPrint(node->rightChild);\n",
    "}\n",
    "```"
   ]
  },
  {
   "cell_type": "markdown",
   "id": "bf7854fa-8e04-488c-8dbb-da0a96c74021",
   "metadata": {
    "tags": []
   },
   "source": [
    "### Challenge 3"
   ]
  },
  {
   "cell_type": "markdown",
   "id": "d9d11205-c190-42fe-868e-4c27db91d922",
   "metadata": {
    "tags": []
   },
   "source": [
    "#### Finding the Maximum Value in an AVL Tree"
   ]
  },
  {
   "cell_type": "markdown",
   "id": "b069fd3f-a2f1-4b0a-9988-892068a5ae12",
   "metadata": {},
   "source": [
    "Write a function `findMax(Node* node)` that recursively finds and returns the maximum value (label) in the subtree rooted at ***node***. For example, if you had an AVL tree with some ***root*** node root, then calling `findMax(root)` should return the maximum value in the tree."
   ]
  },
  {
   "cell_type": "markdown",
   "id": "5de35e9d-76ea-423c-9d99-652970c9be64",
   "metadata": {},
   "source": [
    "#### Solution\n",
    "\n",
    "```cpp\n",
    "int findMax(Node* node) {\n",
    "    if (node == nullptr)\n",
    "        return INT_MIN; // Assuming you have included <climits> for INT_MIN\n",
    "    \n",
    "    if (node->rightChild)\n",
    "        return findMax(node->rightChild);\n",
    "    \n",
    "    return node->label;\n",
    "}\n",
    "```"
   ]
  },
  {
   "cell_type": "markdown",
   "id": "1b4962d0-045a-4d9f-8b02-d4739ff95698",
   "metadata": {
    "tags": []
   },
   "source": [
    "### Challenge 4"
   ]
  },
  {
   "cell_type": "markdown",
   "id": "f6c77ff3-1385-4170-87d9-4eb31b2b1ddc",
   "metadata": {},
   "source": [
    "#### Checking if an AVL Tree is Balanced"
   ]
  },
  {
   "cell_type": "markdown",
   "id": "f7747ee0-72d4-40f2-bb8a-43c77eed9d61",
   "metadata": {},
   "source": [
    "Write a function `isBalanced(Node* node)` that checks whether the subtree rooted at node is balanced. A balanced AVL tree is a tree in which the balance factor of every ***node*** is between -1, 0, or 1. The balance factor of a node is the height of its left subtree minus the height of its right subtree. The function should return ***true*** if the subtree is balanced and ***false*** otherwise."
   ]
  },
  {
   "cell_type": "markdown",
   "id": "8d7744ab-42c1-40f1-887a-47fdc2d2e545",
   "metadata": {},
   "source": [
    "#### Solution\n",
    "\n",
    "```cpp\n",
    "bool isBalanced(Node* node) {\n",
    "    if (node == nullptr)\n",
    "        return true;\n",
    "    \n",
    "    int balanceFactor = getHeight(node->leftChild) - getHeight(node->rightChild);\n",
    "    \n",
    "    if (balanceFactor < -1 || balanceFactor > 1)\n",
    "        return false;\n",
    "    \n",
    "    return isBalanced(node->leftChild) && isBalanced(node->rightChild);\n",
    "}\n",
    "\n",
    "int getHeight(Node* node) {\n",
    "    if (node == nullptr)\n",
    "        return 0;\n",
    "    \n",
    "    int leftHeight = getHeight(node->leftChild);\n",
    "    int rightHeight = getHeight(node->rightChild);\n",
    "    \n",
    "    return 1 + max(leftHeight, rightHeight);\n",
    "}\n",
    "```"
   ]
  },
  {
   "cell_type": "markdown",
   "id": "954bba57-e1db-4ea0-af26-ed12415d6c16",
   "metadata": {},
   "source": [
    "#### Challenge 5"
   ]
  },
  {
   "cell_type": "markdown",
   "id": "5254012d-e8e3-41c7-a096-90c101a26d99",
   "metadata": {
    "tags": []
   },
   "source": [
    "#### Insertion with Rotations"
   ]
  },
  {
   "cell_type": "markdown",
   "id": "e9b02138-e9b5-48e6-87ae-467217db4b30",
   "metadata": {
    "tags": []
   },
   "source": [
    "Write a function `insert(Node* root, int value)` that inserts a new node with the given ***value*** into an AVL tree while maintaining the AVL tree properties. Ensure that you handle the necessary rotations (single and double rotations) to keep the tree balanced."
   ]
  },
  {
   "cell_type": "markdown",
   "id": "d329d426-a0b6-41a3-838a-a6eabb1087d6",
   "metadata": {},
   "source": [
    "#### Solution\n",
    "\n",
    "```cpp\n",
    "Node* insert(Node* root, int value) {\n",
    "    if (root == nullptr)\n",
    "        return new Node(value);\n",
    "\n",
    "    // Perform standard BST insert\n",
    "    if (value < root->label)\n",
    "        root->leftChild = insert(root->leftChild, value);\n",
    "    else if (value > root->label)\n",
    "        root->rightChild = insert(root->rightChild, value);\n",
    "    else\n",
    "        return root; // Duplicate values not allowed\n",
    "\n",
    "    // Update height of this ancestor node\n",
    "    root->height = 1 + max(getHeight(root->leftChild), getHeight(root->rightChild));\n",
    "\n",
    "    // Get the balance factor of this ancestor node\n",
    "    int balance = getBalance(root);\n",
    "\n",
    "    // Perform rotations if needed to maintain AVL balance\n",
    "    // Left Heavy (LL or LR)\n",
    "    if (balance > 1) {\n",
    "        if (value < root->leftChild->label) // LL\n",
    "            return rightRotate(root);\n",
    "        else { // LR\n",
    "            root->leftChild = leftRotate(root->leftChild);\n",
    "            return rightRotate(root);\n",
    "        }\n",
    "    }\n",
    "    \n",
    "    // Right Heavy (RR or RL)\n",
    "    if (balance < -1) {\n",
    "        if (value > root->rightChild->label) // RR\n",
    "            return leftRotate(root);\n",
    "        else { // RL\n",
    "            root->rightChild = rightRotate(root->rightChild);\n",
    "            return leftRotate(root);\n",
    "        }\n",
    "    }\n",
    "\n",
    "    return root;\n",
    "}\n",
    "\n",
    "int getBalance(Node* node) {\n",
    "    if (node == nullptr)\n",
    "        return 0;\n",
    "    return getHeight(node->leftChild) - getHeight(node->rightChild);\n",
    "}\n",
    "\n",
    "int getHeight(Node* node) {\n",
    "    if (node == nullptr)\n",
    "        return 0;\n",
    "    return node->height;\n",
    "}\n",
    "\n",
    "Node* rightRotate(Node* y) {\n",
    "    Node* x = y->leftChild;\n",
    "    Node* T2 = x->rightChild;\n",
    "\n",
    "    // Perform rotation\n",
    "    x->rightChild = y;\n",
    "    y->leftChild = T2;\n",
    "\n",
    "    // Update heights\n",
    "    y->height = 1 + max(getHeight(y->leftChild), getHeight(y->rightChild));\n",
    "    x->height = 1 + max(getHeight(x->leftChild), getHeight(x->rightChild));\n",
    "\n",
    "    return x;\n",
    "}\n",
    "\n",
    "Node* leftRotate(Node* x) {\n",
    "    Node* y = x->rightChild;\n",
    "    Node* T2 = y->leftChild;\n",
    "\n",
    "    // Perform rotation\n",
    "    y->leftChild = x;\n",
    "    x->rightChild = T2;\n",
    "\n",
    "    // Update heights\n",
    "    x->height = 1 + max(getHeight(x->leftChild), getHeight(x->rightChild));\n",
    "    y->height = 1 + max(getHeight(y->leftChild), getHeight(y->rightChild));\n",
    "\n",
    "    return y;\n",
    "}\n",
    "```"
   ]
  },
  {
   "cell_type": "markdown",
   "id": "fa3e4125-b4ee-4a32-8f11-6a401d7bf521",
   "metadata": {
    "tags": []
   },
   "source": [
    "### Challenge 6 (python language)"
   ]
  },
  {
   "cell_type": "markdown",
   "id": "79f0e026-2e17-4666-bfb1-988637e7a2b6",
   "metadata": {
    "tags": []
   },
   "source": [
    "#### Validate a Binary Search Tree"
   ]
  },
  {
   "cell_type": "markdown",
   "id": "92ca4111-d4f8-4f6b-84d9-f59de07e1357",
   "metadata": {},
   "source": [
    "Write a function `is_valid_bst(root)` that takes the root of a binary tree as input and returns ***True*** if the tree is a valid binary search tree (BST), and ***False*** otherwise. A valid BST is a binary tree where for each node:\n",
    "\n",
    "- All nodes in its left subtree have values less than the node's value.\n",
    "- All nodes in its right subtree have values greater than the node's value.\n",
    "- Both the left and right subtrees are also valid BSTs."
   ]
  },
  {
   "cell_type": "markdown",
   "id": "d9f2b1d9-75a6-4d8f-9a4e-7d7c71e9f08a",
   "metadata": {},
   "source": [
    "#### Solution\n",
    "\n",
    "```python\n",
    "class TreeNode:\n",
    "    def __init__(self, val=0, left=None, right=None):\n",
    "        self.val = val\n",
    "        self.left = left\n",
    "        self.right = right\n",
    "\n",
    "def is_valid_bst(root):\n",
    "    def is_valid(node, min_val, max_val):\n",
    "        if not node:\n",
    "            return True\n",
    "        \n",
    "        if not (min_val < node.val < max_val):\n",
    "            return False\n",
    "        \n",
    "        return (is_valid(node.left, min_val, node.val) and\n",
    "                is_valid(node.right, node.val, max_val))\n",
    "    \n",
    "    return is_valid(root, float('-inf'), float('inf'))\n",
    "```"
   ]
  },
  {
   "cell_type": "markdown",
   "id": "d4de05d3-afae-4a4d-a6f4-9a2cd372330b",
   "metadata": {
    "tags": []
   },
   "source": [
    "### Challenge 7 (python language)"
   ]
  },
  {
   "cell_type": "markdown",
   "id": "0df087be-816d-477d-bac5-ff5633ff8196",
   "metadata": {},
   "source": [
    "#### Find the Lowest Common Ancestor in a Binary Search Tree"
   ]
  },
  {
   "cell_type": "markdown",
   "id": "9c3712de-a389-4c91-ab12-49f59467ac84",
   "metadata": {},
   "source": [
    "Write a function `lowest_common_ancestor(root, p, q)` that finds the lowest common ancestor (LCA) of two nodes ***p*** and ***q*** in a binary search tree. The LCA is the node that is the lowest common ancestor of both ***p*** and ***q***."
   ]
  },
  {
   "cell_type": "markdown",
   "id": "dcbc5bb7-3e5c-41bf-8f13-d50c1adf2898",
   "metadata": {},
   "source": [
    "#### Solution\n",
    "\n",
    "```python\n",
    "class TreeNode:\n",
    "    def __init__(self, val=0, left=None, right=None):\n",
    "        self.val = val\n",
    "        self.left = left\n",
    "        self.right = right\n",
    "\n",
    "def lowest_common_ancestor(root, p, q):\n",
    "    if not root:\n",
    "        return None\n",
    "\n",
    "    if root.val > p.val and root.val > q.val:\n",
    "        return lowest_common_ancestor(root.left, p, q)\n",
    "    elif root.val < p.val and root.val < q.val:\n",
    "        return lowest_common_ancestor(root.right, p, q)\n",
    "    else:\n",
    "        return root\n",
    "```"
   ]
  },
  {
   "cell_type": "markdown",
   "id": "2dde23f4-12f7-456c-9153-a672729c0251",
   "metadata": {
    "tags": []
   },
   "source": [
    "### Challenge 7 (python language)"
   ]
  },
  {
   "cell_type": "markdown",
   "id": "35e31869-ee08-4e57-a718-dc31af1a4603",
   "metadata": {
    "tags": []
   },
   "source": [
    "#### Count the Number of Nodes in a Binary Search Tree"
   ]
  },
  {
   "cell_type": "markdown",
   "id": "445cdc07-a755-4aa5-adfc-854cf208b673",
   "metadata": {
    "tags": []
   },
   "source": [
    "Write a `function count_nodes(root)` that counts and returns the total number of nodes in a binary search tree."
   ]
  },
  {
   "cell_type": "markdown",
   "id": "79806e9e-5527-497d-831a-dac1ed93631d",
   "metadata": {
    "tags": []
   },
   "source": [
    "#### Solution\n",
    "\n",
    "```python\n",
    "class TreeNode:\n",
    "    def __init__(self, val=0, left=None, right=None):\n",
    "        self.val = val\n",
    "        self.left = left\n",
    "        self.right = right\n",
    "\n",
    "def count_nodes(root):\n",
    "    if not root:\n",
    "        return 0\n",
    "    \n",
    "    return 1 + count_nodes(root.left) + count_nodes(root.right)\n",
    "\n",
    "```"
   ]
  },
  {
   "cell_type": "code",
   "execution_count": null,
   "id": "a7456bfc-c510-4220-8eef-2d4e91f46d68",
   "metadata": {},
   "outputs": [],
   "source": []
  }
 ],
 "metadata": {
  "kernelspec": {
   "display_name": "Python 3 (ipykernel)",
   "language": "python",
   "name": "python3"
  },
  "language_info": {
   "codemirror_mode": {
    "name": "ipython",
    "version": 3
   },
   "file_extension": ".py",
   "mimetype": "text/x-python",
   "name": "python",
   "nbconvert_exporter": "python",
   "pygments_lexer": "ipython3",
   "version": "3.11.4"
  }
 },
 "nbformat": 4,
 "nbformat_minor": 5
}
