{
 "cells": [
  {
   "cell_type": "markdown",
   "id": "d6c6724f-bc32-4f06-9827-e0b8789c77a1",
   "metadata": {},
   "source": [
    "# <center> <div style=\"width: 370px;\"> ![depth First Search](pictures/depth_First_Search.jpg)"
   ]
  },
  {
   "cell_type": "markdown",
   "id": "1dd5cb9d-5413-4c45-908a-a2e5d05edf12",
   "metadata": {},
   "source": [
    "# <center> Depth First Search"
   ]
  },
  {
   "cell_type": "markdown",
   "id": "193bc968-ea8a-4aaa-af73-0d9c532236af",
   "metadata": {},
   "source": [
    "A breadth-first search (BFS) explores vertices reachable from a queried vertex s level-by-level outward from s. In contrast, a depth-first search (DFS) discovers all reachable vertices from s by going as deep as possible along one branch before exploring other branches. Instead of systematically examining all neighbors of s, as in BFS, DFS delves as far as possible from the first neighbor of s before investigating any other neighbor. Similar to BFS, DFS returns a set of parent pointers for vertices reachable from s, forming a DFS tree. However, unlike a BFS tree, a DFS tree does not necessarily represent the shortest paths in an unweighted graph. Additionally, DFS provides an order in which vertices were discovered, a topic we will delve into later.\n",
    "\n",
    "Below is Python code implementing a recursive depth-first search for a graph represented using index-labeled adjacency lists:\n",
    "\n",
    "```python\n",
    "def dfs(Adj, s, parent=None, order=None):  # Adj: adjacency list, s: start\n",
    "    if parent is None:  # O(1) initialize parent list\n",
    "        parent = [None for v in Adj]  # O(V) (use a hash if unlabeled)\n",
    "    parent[s] = s  # O(1) root\n",
    "    order = []  # O(1) initialize order array\n",
    "    for v in Adj[s]:  # O(Adj[s]) loop over neighbors\n",
    "        if parent[v] is None:  # O(1) parent not yet assigned\n",
    "            parent[v] = s  # O(1) assign parent\n",
    "            dfs(Adj, v, parent, order)  # Recursive call\n",
    "    order.append(s)  # O(1) amortized\n",
    "    return parent, order\n",
    "```\n",
    "\n",
    "**Time Complexity of Depth-First Search (DFS):**\n",
    "\n",
    "The time complexity of depth-first search is efficient. A recursive DFS call is made only when a vertex lacks a parent pointer and receives one immediately before the recursive call. Thus, DFS is called on each vertex at most once. Furthermore, the work performed by each recursive search from vertex v is proportional to the out-degree (deg(v)) of v. Therefore, the total work done by depth-first search is O(deg(v)) = O(|E|). Since the parent array returned has a length of |V|, depth-first search runs in O(|V| + |E|) time."
   ]
  },
  {
   "cell_type": "markdown",
   "id": "ae8011b3-0b3d-4dc3-ab72-a8257316ca69",
   "metadata": {},
   "source": [
    "### Summarize"
   ]
  },
  {
   "cell_type": "markdown",
   "id": "7d55d5c5-c7bc-476f-a2fd-8bb12d043f9a",
   "metadata": {},
   "source": [
    "#### Depth-First Search (DFS)"
   ]
  },
  {
   "cell_type": "markdown",
   "id": "415a60f4-86ce-4154-a193-94b7206ad306",
   "metadata": {},
   "source": [
    "- DFS is a graph traversal algorithm, similar to BFS.\n",
    "- It solves the Single Source Reachability problem and is useful for solving other problems later on.\n",
    "- DFS returns a parent tree with parent pointers back to the starting vertex s.\n",
    "- The main idea behind DFS is to visit outgoing adjacencies recursively while ensuring that each vertex is visited only once.\n",
    "- It follows any path until it reaches a dead end, then backtracks to find an unexplored path to continue.\n",
    "- Initially, P(s) is set to None, and then we run the `visit(s)` function.\n",
    "- In the `visit(u)` function:\n",
    "    - For every vertex v in the adjacency list of u that hasn't appeared in P:\n",
    "        - `Set P(v)` = u and recursively call `visit(v)`.\n",
    "    - DFS finishes visiting vertex u for later use."
   ]
  },
  {
   "cell_type": "markdown",
   "id": "4f7778e3-2f7a-414d-a84d-ac657c4e35cb",
   "metadata": {},
   "source": [
    "### DFS Classification"
   ]
  },
  {
   "cell_type": "markdown",
   "id": "55a7c209-a07b-45c4-815e-18ce2a0ce040",
   "metadata": {},
   "source": [
    "The edges we traverse as we execute a Depth_First_Search can be classification into four edge type:"
   ]
  },
  {
   "cell_type": "markdown",
   "id": "c5d1758e-e06d-4bf8-96fb-c306c066c6e8",
   "metadata": {},
   "source": [
    "1. if `v` visited for first time as traverse the edge `(u, v)`, then the edge is a tree edge."
   ]
  },
  {
   "cell_type": "markdown",
   "id": "ae42b2f2-0d25-4d27-bbaf-82073dc36b58",
   "metadata": {},
   "source": [
    "2. else `v` has already been visited:\n",
    "     - a -> if `v` is an cestor of `u`, then edge `(u, v)` is a back edgs.\n",
    "     - b -> else, if `v` is a descendant of `u` , then edge `(u, v)` is a forward edge.\n",
    "     - c -> else, if `v` is neither an ancestor or descendant of `u`, then edge `(u, v)` is a cross edge."
   ]
  },
  {
   "attachments": {
    "ebdc7384-72f5-4e37-a879-79c428a9d23a.png": {
     "image/png": "[encoded data removed]"
    }
   },
   "cell_type": "markdown",
   "id": "b95e401a-02cd-448f-973d-15203e44c010",
   "metadata": {},
   "source": [
    "# <center> <div style=\"width: 370px;\"> ![DFS_Classification.png](attachment:ebdc7384-72f5-4e37-a879-79c428a9d23a.png)"
   ]
  },
  {
   "cell_type": "markdown",
   "id": "a53a3962-e01a-440f-b120-3830c9121648",
   "metadata": {},
   "source": [
    "### Correctness"
   ]
  },
  {
   "cell_type": "markdown",
   "id": "7edc6805-e772-4720-a8a0-2f95ad52e802",
   "metadata": {},
   "source": [
    "- Claim: DFS correctly visits vertex `v` and sets `P(v)` for every vertex `v` reachable from `s`.\n",
    "- Proof: Induct on `k`, considering only vertices within distance `k` from `s`.\n",
    "  - Base case `(k = 0): P(s)` is set correctly for `s`, and `s` is visited.\n",
    "  - Inductive step: Consider vertex `v` with `δ(s, v) = k0 + 1`.\n",
    "    - Consider vertex `u`, the second-to-last vertex on some shortest path from `s` to `v`.\n",
    "    - By induction, since `δ(s, u) = k0`, DFS visits u and sets `P(u)` correctly.\n",
    "    - While visiting `u`, DFS considers `v` in the adjacency list of `u`.\n",
    "    - Either `v` is in `P`, so it has already been visited, or `v` will be visited while visiting `u`.\n",
    "    - In either case, `v` will be visited by DFS and will be added correctly to `P`.\n"
   ]
  },
  {
   "cell_type": "markdown",
   "id": "09cceaad-986f-4c79-b92b-5a6ce5252dfc",
   "metadata": {},
   "source": [
    "#### Running Time"
   ]
  },
  {
   "cell_type": "markdown",
   "id": "df6b596c-d8bc-4dfc-be6a-2f67b4494769",
   "metadata": {},
   "source": [
    "- The algorithm visits each vertex u at most once and spends `O(1)` time for each `v` in `Adj(u)`.\n",
    "- The total work is upper-bounded by `O(1) × deg(u) = O(|E|) for u ∈ V`.\n",
    "- Unlike BFS, which returns distances for each vertex, DFS runs in `O(|E|)` time.\n"
   ]
  },
  {
   "cell_type": "markdown",
   "id": "40a73bc6-9a44-4448-a94d-b7aec7d84380",
   "metadata": {},
   "source": [
    "#### Full-BFS and Full-DFS"
   ]
  },
  {
   "cell_type": "markdown",
   "id": "1971e95f-f58f-442e-94f6-e6a9962fc6b7",
   "metadata": {},
   "source": [
    "- If the goal is to explore the entire graph, not just vertices reachable from one vertex:\n",
    "- The idea is to repeat a graph search algorithm A on any unvisited vertex.\n",
    "- The process continues until all vertices have been visited:\n",
    "  - Choose an arbitrary unvisited vertex s and use algorithm A to explore all vertices reachable from s.\n",
    "- This algorithm is called Full-A, specifically Full-BFS or Full-DFS if A is BFS or DFS.\n",
    "- Both Full-BFS and Full-DFS visit every vertex once, so they run in `O(|V| + |E|)` time.\n"
   ]
  },
  {
   "cell_type": "markdown",
   "id": "e16d4fac-b086-49e1-9cc5-ce1e20a04b76",
   "metadata": {},
   "source": [
    "### DFS Edge Classification"
   ]
  },
  {
   "cell_type": "markdown",
   "id": "cff36766-8fc9-49e2-9731-957ddd76c6dc",
   "metadata": {},
   "source": [
    "When analyzing depth-first search (DFS) and proving properties about it, it can be valuable to classify the edges of a graph based on their relationship to the DFS tree. Let's consider an edge in the graph that goes from vertex u to vertex v."
   ]
  },
  {
   "cell_type": "markdown",
   "id": "db87be4c-c082-4700-87bc-3069e267741f",
   "metadata": {},
   "source": [
    "1. **Tree Edge:** An edge is classified as a tree edge if it is part of the DFS tree. In other words, if `parent[v] = u`, then the edge from u to v is a tree edge.\n",
    "2. **Back Edge:** If the edge from u to v is not a tree edge and u is a descendant of v in the DFS tree, then it is categorized as a back edge.\n",
    "3. **Forward Edge:** Conversely, if the edge from u to v is not a tree edge and v is a descendant of u in the DFS tree, it is referred to as a forward edge.\n",
    "4. **Cross Edge:** If neither u nor v are descendants of each other in the DFS tree, then the edge is termed a cross edge.\n",
    "\n",
    "These classifications help us better understand the relationships between vertices during a DFS traversal and are particularly useful when proving properties related to DFS."
   ]
  },
  {
   "cell_type": "markdown",
   "id": "7344e49b-f404-4f48-b893-c8ca6128a53e",
   "metadata": {},
   "source": [
    "### Topological Sort"
   ]
  },
  {
   "cell_type": "markdown",
   "id": "fcc7e4fe-f54f-4fa4-8c1f-0c8e1edf5d41",
   "metadata": {},
   "source": [
    "A **Directed Acyclic Graph (DAG)** is a directed graph that contains no directed cycles.\n",
    "\n",
    "A **Topological Order** of a graph G = (V, E) is an ordering f on the vertices such that for every edge (u, v) ∈ E, vertex u appears before vertex v in the ordering.\n",
    "\n",
    "**How to find a topological order?**\n",
    "\n",
    "One approach is to use a **Finishing Order**, which is the order in which a Full-DFS (Depth-First Search) finishes visiting each vertex in G.\n",
    "\n",
    "**Claim:** If G = (V, E) is a DAG, the reverse of the finishing order is a topological order.\n",
    "\n",
    "**Proof:** To demonstrate this, we need to show that for every edge (u, v) ∈ E, vertex u is ordered before v, meaning the visit to v finishes before visiting u. There are two cases:\n",
    "\n",
    "1. If u is visited before v:\n",
    "   - Before the visit to u finishes, we will visit v (via (u, v) or otherwise).\n",
    "   - Thus, the visit to v finishes before visiting u.\n",
    "\n",
    "2. If v is visited before u:\n",
    "   - u can't be reached from v since the graph is acyclic.\n",
    "   - Thus, the visit to v finishes before visiting u.\n",
    "\n",
    "By reversing the order returned by DFS, we obtain a topological sort order on the vertices."
   ]
  },
  {
   "cell_type": "markdown",
   "id": "00ffcdf4-3057-41ac-826c-da996c4508f2",
   "metadata": {},
   "source": [
    "### Pseudocode"
   ]
  },
  {
   "cell_type": "markdown",
   "id": "06486db6-2fdf-4c02-ad0d-a5e9e9d6da23",
   "metadata": {},
   "source": [
    "``` algorithm\n",
    "dfs from v1:\n",
    "    mark v1 as seen.\n",
    "    for each of v1's unvisited neighbors n:\n",
    "        dfs(n)\n",
    "```"
   ]
  },
  {
   "cell_type": "markdown",
   "id": "5569f460-0e4a-43c2-ad81-997b95026cf5",
   "metadata": {},
   "source": [
    "### DFS that finds a path"
   ]
  },
  {
   "cell_type": "markdown",
   "id": "8845be5e-ae88-4e4b-90c7-a8e632f13527",
   "metadata": {},
   "source": [
    "```algorithm\n",
    "dfs from v1 to v2:\n",
    "    mark v1 as visited, and add to the path.\n",
    "    for each of v1's unvisited neighbors n to v2:\n",
    "        if dfs(n, v2) succeeds:\n",
    "            a path is found! yay!\n",
    "        if all neighbors fail:\n",
    "            remove v1 from the path.\n",
    "```"
   ]
  },
  {
   "cell_type": "markdown",
   "id": "cb706dab-d8c7-497f-8d4a-1a30114d1a12",
   "metadata": {},
   "source": [
    "### Cycle Detection"
   ]
  },
  {
   "cell_type": "markdown",
   "id": "95f57c23-e13a-44ae-8069-fc239880ef7f",
   "metadata": {},
   "source": [
    "- Full-DFS can find a topological order if a graph G = (V, E) is acyclic.\n",
    "- If the reverse finishing order for Full-DFS is not a topological order, G must contain a cycle.\n",
    "- To check if G is acyclic: for each edge (u, v), verify if v comes before u in the reverse finishing order.\n",
    "- This can be accomplished in O(|E|) time using a hash table or a direct access array.\n",
    "- To return such a cycle, maintain the set of ***ancestors*** along the path back to s in Full-DFS.\n",
    "- **Claim:** If G contains a cycle, Full-DFS will traverse an edge from v to an ancestor of v.\n",
    "- **Proof:** Consider a cycle $(v_0, v_1, ..., v_k, v_0)$ in G\n",
    "  - Without loss of generality, let v0 be the first vertex visited by Full-DFS on the cycle\n",
    "  - For each vi, before the visit to vi finishes, it will visit $v_{i+1}$ and complete\n",
    "  - It will consider the edge $(vi, v_{i+1})$, and if vi+1 has not been visited, it will be visited now\n",
    "  - Thus, before the visit to $v_0$ finishes, vk will be visited (for the first time, by v0's assumption)\n",
    "  - So, before the visit to $v_k$ finishes, it will consider $(v_k, v_0)$, where $v_0$ is an ancestor of $v_k$."
   ]
  }
 ],
 "metadata": {
  "kernelspec": {
   "display_name": "Python 3 (ipykernel)",
   "language": "python",
   "name": "python3"
  },
  "language_info": {
   "codemirror_mode": {
    "name": "ipython",
    "version": 3
   },
   "file_extension": ".py",
   "mimetype": "text/x-python",
   "name": "python",
   "nbconvert_exporter": "python",
   "pygments_lexer": "ipython3",
   "version": "3.11.4"
  }
 },
 "nbformat": 4,
 "nbformat_minor": 5
}
