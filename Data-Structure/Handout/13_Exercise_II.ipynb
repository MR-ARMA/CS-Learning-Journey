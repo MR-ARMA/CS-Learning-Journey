{
 "cells": [
  {
   "cell_type": "markdown",
   "id": "c3a89db0-2d24-402b-b1d5-cbfa49a33295",
   "metadata": {},
   "source": [
    "# <center> <div style=\"width: 370px;\"> ![Exercise](pictures/Exercise.jpg)"
   ]
  },
  {
   "cell_type": "markdown",
   "id": "c7ad0560-6acc-4ce7-910c-8d2a6c67bb1c",
   "metadata": {},
   "source": [
    "# <center> Exercise"
   ]
  },
  {
   "cell_type": "markdown",
   "id": "49f19d39-99f2-4af7-9650-26320bb1926f",
   "metadata": {},
   "source": [
    "### 1.Code Challenge I"
   ]
  },
  {
   "cell_type": "markdown",
   "id": "8b9eee23-6513-4520-aed8-d8d869952209",
   "metadata": {},
   "source": [
    "Implement breadth-first search in Python on a graph represented as an adjacency list. Return the list of vertices reachable from a starting vertex."
   ]
  },
  {
   "cell_type": "markdown",
   "id": "d4d871a7-7da9-4cdf-b55d-2909b66a147c",
   "metadata": {},
   "source": [
    "#### solution"
   ]
  },
  {
   "cell_type": "markdown",
   "id": "b1206956-22ff-498b-9f52-77d1ac1888ce",
   "metadata": {},
   "source": [
    "---\n",
    "```python\n",
    "from collections import deque\n",
    "\n",
    "def bfs(graph, start):\n",
    "    visited = set()\n",
    "    queue = deque([start])\n",
    "    result = []\n",
    "\n",
    "    while queue:\n",
    "        vertex = queue.popleft()\n",
    "        if vertex not in visited:\n",
    "            visited.add(vertex)\n",
    "            result.append(vertex)\n",
    "            queue.extend([neighbor for neighbor in graph[vertex] if neighbor not in visited])\n",
    "\n",
    "    return result\n",
    "\n",
    "# Example usage:\n",
    "graph = {\n",
    "    'A': ['B', 'C'],\n",
    "    'B': ['A', 'D', 'E'],\n",
    "    'C': ['A', 'F'],\n",
    "    'D': ['B'],\n",
    "    'E': ['B', 'F'],\n",
    "    'F': ['C', 'E']\n",
    "}\n",
    "\n",
    "start_vertex = 'A'\n",
    "print(bfs(graph, start_vertex))\n",
    "```\n",
    "---"
   ]
  },
  {
   "cell_type": "markdown",
   "id": "0e049767-b99b-4333-ac46-66282c19439b",
   "metadata": {},
   "source": [
    "### 2.Code Challenge II"
   ]
  },
  {
   "cell_type": "markdown",
   "id": "7db0c726-ece5-48dd-8937-5b2e6330335e",
   "metadata": {},
   "source": [
    "Given an unweighted undirected graph and two vertices u and v, write a function in C++ to check if there exists a path between u and v using depth-first search."
   ]
  },
  {
   "cell_type": "markdown",
   "id": "e79c2d39-9663-4818-91d2-d1f41ddd7fd6",
   "metadata": {},
   "source": [
    "#### solution"
   ]
  },
  {
   "cell_type": "markdown",
   "id": "c01dbea6-cdd0-4498-96da-85b2908ff9f1",
   "metadata": {},
   "source": [
    "---\n",
    "```cpp\n",
    "#include <iostream>\n",
    "#include <vector>\n",
    "#include <unordered_map>\n",
    "#include <unordered_set>\n",
    "\n",
    "using namespace std;\n",
    "\n",
    "bool dfsHasPath(const unordered_map<int, vector<int>>& graph, int current, int target, unordered_set<int>& visited) {\n",
    "    if (current == target) {\n",
    "        return true;\n",
    "    }\n",
    "    \n",
    "    visited.insert(current);\n",
    "    \n",
    "    for (int neighbor : graph.at(current)) {\n",
    "        if (visited.find(neighbor) == visited.end()) {\n",
    "            if (dfsHasPath(graph, neighbor, target, visited)) {\n",
    "                return true;\n",
    "            }\n",
    "        }\n",
    "    }\n",
    "    \n",
    "    return false;\n",
    "}\n",
    "\n",
    "bool hasPath(const unordered_map<int, vector<int>>& graph, int u, int v) {\n",
    "    unordered_set<int> visited;\n",
    "    return dfsHasPath(graph, u, v, visited);\n",
    "}\n",
    "\n",
    "int main() {\n",
    "    unordered_map<int, vector<int>> graph = {\n",
    "        {0, {1, 2}},\n",
    "        {1, {0, 3, 4}},\n",
    "        {2, {0, 4}},\n",
    "        {3, {1}},\n",
    "        {4, {1, 2}}\n",
    "    };\n",
    "    \n",
    "    int u = 0;\n",
    "    int v = 3;\n",
    "    \n",
    "    if (hasPath(graph, u, v)) {\n",
    "        cout << \"Path exists between \" << u << \" and \" << v << endl;\n",
    "    } else {\n",
    "        cout << \"No path exists between \" << u << \" and \" << v << endl;\n",
    "    }\n",
    "    \n",
    "    return 0;\n",
    "}\n",
    "```\n",
    "---"
   ]
  },
  {
   "cell_type": "markdown",
   "id": "5abd1c19-7d6d-437a-9eea-d9842b0a3650",
   "metadata": {},
   "source": [
    "### 3.Question I"
   ]
  },
  {
   "cell_type": "markdown",
   "id": "ceff7739-258f-414e-84a3-c70a03343653",
   "metadata": {},
   "source": [
    "Explain the difference between breadth-first search and depth-first search in terms of the order in which vertices are explored. Discuss an example of when you would prefer to use one over the other."
   ]
  },
  {
   "cell_type": "markdown",
   "id": "efd94e69-1577-47a8-b0f9-c713ecb2183d",
   "metadata": {},
   "source": [
    "#### solution"
   ]
  },
  {
   "cell_type": "markdown",
   "id": "9a066373-5264-4a56-814d-e978c5f5f435",
   "metadata": {},
   "source": [
    "***Difference between Breadth-First Search (BFS) and Depth-First Search (DFS):***\n",
    "\n",
    "- BFS explores vertices level by level, starting from the source vertex and moving outward, while DFS explores vertices by following a single branch as deeply as possible before backtracking.\n",
    "- BFS is often preferred when you need to find the shortest path between two vertices because it explores closer vertices first. DFS, on the other hand, might find a path that is not the shortest.\n",
    "- BFS is useful for tasks like finding connected components, while DFS is useful for tasks like topological sorting or finding strongly connected components in a directed graph.\n",
    "- Example: Use BFS to find the shortest path in a maze, as it systematically explores all possible paths starting from the entrance."
   ]
  },
  {
   "cell_type": "markdown",
   "id": "0713499c-3fae-4cb9-925b-ed24b1d8f6e2",
   "metadata": {},
   "source": [
    "### 4.Question II"
   ]
  },
  {
   "cell_type": "markdown",
   "id": "0a45df68-ee01-4244-985c-db6ad134e01f",
   "metadata": {},
   "source": [
    "What are some ways to represent a graph in code? Discuss the tradeoffs of an adjacency matrix versus an adjacency list representation in terms of storage requirements and efficiency of different operations."
   ]
  },
  {
   "cell_type": "markdown",
   "id": "86c1557a-4992-42aa-8c72-eb031f4c7f36",
   "metadata": {},
   "source": [
    "#### solution"
   ]
  },
  {
   "cell_type": "markdown",
   "id": "4e3e4fb6-8c53-4b0c-9733-a725f421ac8b",
   "metadata": {},
   "source": [
    "***Ways to Represent a Graph in Code:***\n",
    "\n",
    "- ***Adjacency Matrix:*** A 2D matrix where each cell (i, j) represents an edge between vertex i and vertex j. Requires `O(V^2)` space, where V is the number of vertices. Efficient for checking if an edge exists between two vertices but not efficient for sparse graphs.\n",
    "- ***Adjacency List:*** For each vertex, maintain a list of its neighbors. Requires `O(V + E)` space, where `E` is the number of edges. Efficient for sparse graphs and for traversing neighbors of a vertex.\n",
    "- ***Edge List:*** A simple list of pairs, each representing an edge. Requires `O(E)` space. Useful for minimizing memory usage and when edge information is essential."
   ]
  },
  {
   "cell_type": "markdown",
   "id": "9fcfa95f-a922-4880-a610-2ce736443d81",
   "metadata": {},
   "source": [
    "### 5.Question III"
   ]
  },
  {
   "cell_type": "markdown",
   "id": "f93a8d9e-e230-485f-9ff8-ed5578e50e10",
   "metadata": {},
   "source": [
    "Describe Dijkstra's algorithm for finding shortest paths in a weighted graph. What efficiency does it achieve and how does it work?"
   ]
  },
  {
   "cell_type": "markdown",
   "id": "f2b74fea-0c2c-4f87-9359-abc98d0986fe",
   "metadata": {},
   "source": [
    "#### solution"
   ]
  },
  {
   "cell_type": "markdown",
   "id": "747d8f41-d60d-483c-99bb-021ff92ca960",
   "metadata": {},
   "source": [
    "**Dijkstra's Algorithm:**\n",
    "\n",
    "- Dijkstra's algorithm is used to find the shortest paths from a source vertex to all other vertices in a weighted graph with non-negative edge weights.\n",
    "- It maintains a set of vertices with tentative distances from the source and repeatedly selects the vertex with the smallest tentative distance, relaxing its neighbors.\n",
    "- Efficiency: Dijkstra's algorithm achieves `O(V^2)` time complexity with a simple implementation using a matrix, but it can be optimized to `O(V log V + E)` using a priority queue (e.g., a min-heap).\n",
    "- How it works:\n",
    "    - Initialize distances to all vertices as infinity and the source vertex's distance as 0.\n",
    "    - Select the vertex with the smallest tentative distance.\n",
    "    - Relax all of its neighbors by considering their distances through the current vertex.\n",
    "    - Repeat steps 2 and 3 until all vertices have been processed or the target is reached.\n",
    "- Dijkstra's algorithm guarantees the shortest path for non-negative edge weights but may not work correctly for graphs with negative weights or cycles."
   ]
  },
  {
   "cell_type": "code",
   "execution_count": null,
   "id": "8c5476ed-6059-4fc0-ba50-c1b7dc289979",
   "metadata": {},
   "outputs": [],
   "source": []
  }
 ],
 "metadata": {
  "kernelspec": {
   "display_name": "Python 3 (ipykernel)",
   "language": "python",
   "name": "python3"
  },
  "language_info": {
   "codemirror_mode": {
    "name": "ipython",
    "version": 3
   },
   "file_extension": ".py",
   "mimetype": "text/x-python",
   "name": "python",
   "nbconvert_exporter": "python",
   "pygments_lexer": "ipython3",
   "version": "3.11.4"
  }
 },
 "nbformat": 4,
 "nbformat_minor": 5
}
