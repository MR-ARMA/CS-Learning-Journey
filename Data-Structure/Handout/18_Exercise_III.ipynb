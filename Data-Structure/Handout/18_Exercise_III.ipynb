{
 "cells": [
  {
   "cell_type": "markdown",
   "id": "96f0f010-2858-4ed4-b27b-e48aaf9d8a24",
   "metadata": {},
   "source": [
    "# <center> <div style=\"width: 370px;\"> ![Exercise](pictures/Exercise.jpg)"
   ]
  },
  {
   "cell_type": "markdown",
   "id": "e59afff3-934d-46d1-bea1-ea275aa10287",
   "metadata": {},
   "source": [
    "# <center> Exercise"
   ]
  },
  {
   "cell_type": "markdown",
   "id": "82e6943c-c401-4959-b4d1-ab293be11ea2",
   "metadata": {},
   "source": [
    "### 1.Code Challenge I"
   ]
  },
  {
   "cell_type": "markdown",
   "id": "f5305ff6-2b74-46e4-99c1-8da8ffc2d4a6",
   "metadata": {},
   "source": [
    "Implement breadth-first search in Python on a graph represented as an adjacency list. Return the list of vertices reachable from a starting vertex."
   ]
  },
  {
   "cell_type": "markdown",
   "id": "70474979-ed0a-48df-a0ac-e916a7c3b1fd",
   "metadata": {},
   "source": [
    "#### solution"
   ]
  },
  {
   "cell_type": "markdown",
   "id": "e8a37ffd-77e5-4db2-bcf4-61dd17c3dc84",
   "metadata": {},
   "source": [
    "---\n",
    "```python\n",
    "from collections import deque\n",
    "\n",
    "def bfs(graph, start):\n",
    "    visited = set()\n",
    "    queue = deque([start])\n",
    "    result = []\n",
    "\n",
    "    while queue:\n",
    "        vertex = queue.popleft()\n",
    "        if vertex not in visited:\n",
    "            visited.add(vertex)\n",
    "            result.append(vertex)\n",
    "            queue.extend([neighbor for neighbor in graph[vertex] if neighbor not in visited])\n",
    "\n",
    "    return result\n",
    "\n",
    "# Example usage:\n",
    "graph = {\n",
    "    'A': ['B', 'C'],\n",
    "    'B': ['A', 'D', 'E'],\n",
    "    'C': ['A', 'F'],\n",
    "    'D': ['B'],\n",
    "    'E': ['B', 'F'],\n",
    "    'F': ['C', 'E']\n",
    "}\n",
    "\n",
    "start_vertex = 'A'\n",
    "print(bfs(graph, start_vertex))\n",
    "```\n",
    "---"
   ]
  },
  {
   "cell_type": "markdown",
   "id": "22e79603-58f1-4d46-88b0-0152904d756b",
   "metadata": {},
   "source": [
    "### 2.Code Challenge II"
   ]
  },
  {
   "cell_type": "markdown",
   "id": "b8365741-320e-4baa-b886-88b8890d8b5a",
   "metadata": {},
   "source": [
    "Given an unweighted undirected graph and two vertices u and v, write a function in C++ to check if there exists a path between u and v using depth-first search."
   ]
  },
  {
   "cell_type": "markdown",
   "id": "e55ae81d-b565-4f8b-8895-071431c046d9",
   "metadata": {},
   "source": [
    "#### solution"
   ]
  },
  {
   "cell_type": "markdown",
   "id": "54882310-64f1-42d4-8720-ff6d5d5b601b",
   "metadata": {},
   "source": [
    "---\n",
    "```cpp\n",
    "#include <iostream>\n",
    "#include <vector>\n",
    "#include <unordered_map>\n",
    "#include <unordered_set>\n",
    "\n",
    "using namespace std;\n",
    "\n",
    "bool dfsHasPath(const unordered_map<int, vector<int>>& graph, int current, int target, unordered_set<int>& visited) {\n",
    "    if (current == target) {\n",
    "        return true;\n",
    "    }\n",
    "    \n",
    "    visited.insert(current);\n",
    "    \n",
    "    for (int neighbor : graph.at(current)) {\n",
    "        if (visited.find(neighbor) == visited.end()) {\n",
    "            if (dfsHasPath(graph, neighbor, target, visited)) {\n",
    "                return true;\n",
    "            }\n",
    "        }\n",
    "    }\n",
    "    \n",
    "    return false;\n",
    "}\n",
    "\n",
    "bool hasPath(const unordered_map<int, vector<int>>& graph, int u, int v) {\n",
    "    unordered_set<int> visited;\n",
    "    return dfsHasPath(graph, u, v, visited);\n",
    "}\n",
    "\n",
    "int main() {\n",
    "    unordered_map<int, vector<int>> graph = {\n",
    "        {0, {1, 2}},\n",
    "        {1, {0, 3, 4}},\n",
    "        {2, {0, 4}},\n",
    "        {3, {1}},\n",
    "        {4, {1, 2}}\n",
    "    };\n",
    "    \n",
    "    int u = 0;\n",
    "    int v = 3;\n",
    "    \n",
    "    if (hasPath(graph, u, v)) {\n",
    "        cout << \"Path exists between \" << u << \" and \" << v << endl;\n",
    "    } else {\n",
    "        cout << \"No path exists between \" << u << \" and \" << v << endl;\n",
    "    }\n",
    "    \n",
    "    return 0;\n",
    "}\n",
    "```\n",
    "---"
   ]
  },
  {
   "cell_type": "markdown",
   "id": "9ea67e94-391f-4e61-928e-7e059cad0869",
   "metadata": {},
   "source": [
    "### 3.Question I"
   ]
  },
  {
   "cell_type": "markdown",
   "id": "2dbdf674-50b2-4dbd-bb38-9b63a01b5857",
   "metadata": {},
   "source": [
    "Explain how Dijkstra's algorithm works and what efficiency it achieves for computing single-source shortest paths on a graph with non-negative edge weights. Discuss the role of the priority queue."
   ]
  },
  {
   "cell_type": "markdown",
   "id": "489563aa-f111-471c-87a5-02a86c83bfd8",
   "metadata": {},
   "source": [
    "#### solution"
   ]
  },
  {
   "cell_type": "markdown",
   "id": "c4a0fcdd-58a2-4192-9a31-0b4bdc3e347e",
   "metadata": {},
   "source": [
    "**Dijkstra's Algorithm:**\n",
    "\n",
    "- Dijkstra's algorithm is used to find the shortest paths from a source vertex to all other vertices in a weighted graph with non-negative edge weights.\n",
    "- It maintains a set of vertices with tentative distances from the source and repeatedly selects the vertex with the smallest tentative distance, relaxing its neighbors.\n",
    "- Efficiency: Dijkstra's algorithm achieves `O(V^2)` time complexity with a simple implementation using a matrix but can be optimized to `O(V log V + E)` using a priority queue (e.g., a min-heap).\n",
    "- The priority queue is used to efficiently select the vertex with the smallest tentative distance for exploration. It helps reduce the time complexity compared to scanning all vertices each time.\n",
    "- Bellman-Ford Algorithm and Negative-Weight Cycles:"
   ]
  },
  {
   "cell_type": "markdown",
   "id": "aaf0d4c0-038d-43d8-966e-5e29d57880c0",
   "metadata": {},
   "source": [
    "### 4.Question II"
   ]
  },
  {
   "cell_type": "markdown",
   "id": "7cdb96eb-6bfc-496e-a688-3abe87c1290a",
   "metadata": {},
   "source": [
    "Describe Bellman-Ford algorithm and its capability to detect negative-weight cycles. How does it differ from DAG relaxation? What asymptotic running time does it achieve?"
   ]
  },
  {
   "cell_type": "markdown",
   "id": "c16d65b9-2011-4bca-8ede-e5463bb542ff",
   "metadata": {},
   "source": [
    "#### solution"
   ]
  },
  {
   "cell_type": "markdown",
   "id": "68c10439-7fa1-46d1-9f4e-e4f12aeb42ee",
   "metadata": {},
   "source": [
    "**Bellman-Ford Algorithm and Negative-Weight Cycles:**\n",
    "\n",
    "- Bellman-Ford is used to find the shortest paths from a source vertex to all other vertices in a weighted graph, even when the graph contains negative-weight edges.\n",
    "- It can detect the presence of negative-weight cycles in the graph. If the algorithm detects a shorter path during its relaxation step after running for `V-1` iterations (`V` is the number of vertices), it indicates the presence of a negative-weight cycle.\n",
    "- Bellman-Ford differs from DAG relaxation in that it can handle graphs with cycles (including negative-weight cycles), whereas DAG relaxation is specifically for directed acyclic graphs (DAGs).\n",
    "- The asymptotic running time of Bellman-Ford is `O(V*E)`, where `V` is the number of vertices and `E` is the number of edges."
   ]
  },
  {
   "cell_type": "markdown",
   "id": "afc0b454-e554-47c8-9ed3-977858607b90",
   "metadata": {},
   "source": [
    "### 5.Question III"
   ]
  },
  {
   "cell_type": "markdown",
   "id": "1c0a17bc-fa71-4f63-ab42-386ac1db9120",
   "metadata": {},
   "source": [
    "Explain the overall idea behind Johnson's algorithm for all-pairs shortest paths. What is the purpose of the vertex potential function h(v) and reweighting edges? Why does it lead to improved efficiency over repeated applications of Bellman-Ford?"
   ]
  },
  {
   "cell_type": "markdown",
   "id": "d6588fca-c384-4a2c-9a04-3c6f32f0cc33",
   "metadata": {},
   "source": [
    "#### solution"
   ]
  },
  {
   "cell_type": "markdown",
   "id": "4b51e066-e259-4956-bab6-fa7fb8688f20",
   "metadata": {},
   "source": [
    "**Johnson's Algorithm for All-Pairs Shortest Paths:**\n",
    "\n",
    "- Johnson's algorithm is used to find the shortest paths between all pairs of vertices in a weighted graph, including graphs with negative edge weights.\n",
    "- It introduces a vertex potential function `h(v)` to reweight the edges such that all edge weights become non-negative.\n",
    "- The reweighting involves running Bellman-Ford on the graph with an additional source vertex that is connected to all other vertices with zero-weight edges. The vertex potentials `h(v)` are then computed.\n",
    "- After reweighting, Dijkstra's algorithm is applied to find the shortest paths between all pairs of vertices efficiently because the edge weights are now non-negative.\n",
    "- Johnson's algorithm achieves improved efficiency over repeated applications of Bellman-Ford because it avoids running Bellman-Ford for each pair of vertices, reducing the overall time complexity to `O(V^2 log V + VE)`."
   ]
  }
 ],
 "metadata": {
  "kernelspec": {
   "display_name": "Python 3 (ipykernel)",
   "language": "python",
   "name": "python3"
  },
  "language_info": {
   "codemirror_mode": {
    "name": "ipython",
    "version": 3
   },
   "file_extension": ".py",
   "mimetype": "text/x-python",
   "name": "python",
   "nbconvert_exporter": "python",
   "pygments_lexer": "ipython3",
   "version": "3.11.4"
  }
 },
 "nbformat": 4,
 "nbformat_minor": 5
}
